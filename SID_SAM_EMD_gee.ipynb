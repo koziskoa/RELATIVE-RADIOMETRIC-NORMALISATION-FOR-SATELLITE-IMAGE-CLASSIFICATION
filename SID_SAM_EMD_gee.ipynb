{
 "cells": [
  {
   "cell_type": "code",
   "execution_count": 1,
   "id": "09660993",
   "metadata": {},
   "outputs": [],
   "source": [
    "import ee\n",
    "import geemap.core as geemap"
   ]
  },
  {
   "cell_type": "code",
   "execution_count": 2,
   "id": "dbaf5dc6",
   "metadata": {},
   "outputs": [
    {
     "data": {
      "text/html": [
       "\n",
       "            <style>\n",
       "                .geemap-dark {\n",
       "                    --jp-widgets-color: white;\n",
       "                    --jp-widgets-label-color: white;\n",
       "                    --jp-ui-font-color1: white;\n",
       "                    --jp-layout-color2: #454545;\n",
       "                    background-color: #383838;\n",
       "                }\n",
       "\n",
       "                .geemap-dark .jupyter-button {\n",
       "                    --jp-layout-color3: #383838;\n",
       "                }\n",
       "\n",
       "                .geemap-colab {\n",
       "                    background-color: var(--colab-primary-surface-color, white);\n",
       "                }\n",
       "\n",
       "                .geemap-colab .jupyter-button {\n",
       "                    --jp-layout-color3: var(--colab-primary-surface-color, white);\n",
       "                }\n",
       "            </style>\n",
       "            "
      ],
      "text/plain": [
       "<IPython.core.display.HTML object>"
      ]
     },
     "metadata": {},
     "output_type": "display_data"
    }
   ],
   "source": [
    "# Authenticate and initialize Google Earth Engine API\n",
    "ee.Authenticate()\n",
    "\n",
    "# Connect to my project number\n",
    "ee.Initialize(project='716069062206')"
   ]
  },
  {
   "cell_type": "code",
   "execution_count": null,
   "id": "f6567b07",
   "metadata": {},
   "outputs": [
    {
     "data": {
      "text/html": [
       "\n",
       "            <style>\n",
       "                .geemap-dark {\n",
       "                    --jp-widgets-color: white;\n",
       "                    --jp-widgets-label-color: white;\n",
       "                    --jp-ui-font-color1: white;\n",
       "                    --jp-layout-color2: #454545;\n",
       "                    background-color: #383838;\n",
       "                }\n",
       "\n",
       "                .geemap-dark .jupyter-button {\n",
       "                    --jp-layout-color3: #383838;\n",
       "                }\n",
       "\n",
       "                .geemap-colab {\n",
       "                    background-color: var(--colab-primary-surface-color, white);\n",
       "                }\n",
       "\n",
       "                .geemap-colab .jupyter-button {\n",
       "                    --jp-layout-color3: var(--colab-primary-surface-color, white);\n",
       "                }\n",
       "            </style>\n",
       "            "
      ],
      "text/plain": [
       "<IPython.core.display.HTML object>"
      ]
     },
     "metadata": {},
     "output_type": "display_data"
    }
   ],
   "source": [
    "# Import other packages used in the tutorial\n",
    "%matplotlib inline\n",
    "import geemap\n",
    "import numpy as np\n",
    "import matplotlib.pyplot as plt\n",
    "from scipy.stats import norm, chi2\n",
    "\n",
    "from pprint import pprint \n",
    "\n",
    "# this part is taken from A.. Zuspan: https://developers.google.com/earth-engine/tutorials/community/pseudo-invariant-feature-matching\n",
    "# code was modified and extended according to the needs of the diploma thesis"
   ]
  },
  {
   "cell_type": "code",
   "execution_count": 4,
   "id": "99a444ff",
   "metadata": {},
   "outputs": [
    {
     "data": {
      "text/html": [
       "\n",
       "            <style>\n",
       "                .geemap-dark {\n",
       "                    --jp-widgets-color: white;\n",
       "                    --jp-widgets-label-color: white;\n",
       "                    --jp-ui-font-color1: white;\n",
       "                    --jp-layout-color2: #454545;\n",
       "                    background-color: #383838;\n",
       "                }\n",
       "\n",
       "                .geemap-dark .jupyter-button {\n",
       "                    --jp-layout-color3: #383838;\n",
       "                }\n",
       "\n",
       "                .geemap-colab {\n",
       "                    background-color: var(--colab-primary-surface-color, white);\n",
       "                }\n",
       "\n",
       "                .geemap-colab .jupyter-button {\n",
       "                    --jp-layout-color3: var(--colab-primary-surface-color, white);\n",
       "                }\n",
       "            </style>\n",
       "            "
      ],
      "text/plain": [
       "<IPython.core.display.HTML object>"
      ]
     },
     "metadata": {},
     "output_type": "display_data"
    }
   ],
   "source": [
    "# Display an image in a one percent linear stretch\n",
    "def display_ls(image, map, name, centered = False):\n",
    "    bns = image.bandNames().length().getInfo()\n",
    "    if bns == 3:\n",
    "        image = image.rename('B1', 'B2', 'B3')\n",
    "        pb_99 = ['B1_p99', 'B2_p99', 'B3_p99']\n",
    "        pb_1 = ['B1_p1', 'B2_p1', 'B3_p1']\n",
    "        img = ee.Image.rgb(image.select('B1'), image.select('B2'), image.select('B3'))\n",
    "    else:\n",
    "        image = image.rename('B1')\n",
    "        pb_99 = ['B1_p99']\n",
    "        pb_1 = ['B1_p1']\n",
    "        img = image.select('B1')\n",
    "    percentiles = image.reduceRegion(ee.Reducer.percentile([1, 99]), maxPixels=1e11)\n",
    "    mx = percentiles.values(pb_99)\n",
    "    if centered:\n",
    "        mn = ee.Array(mx).multiply(-1).toList()\n",
    "    else:\n",
    "        mn = percentiles.values(pb_1)\n",
    "    map.addLayer(img, {'min': mn, 'max': mx}, name)"
   ]
  },
  {
   "cell_type": "code",
   "execution_count": 5,
   "id": "625f0f1b",
   "metadata": {},
   "outputs": [
    {
     "data": {
      "text/html": [
       "\n",
       "            <style>\n",
       "                .geemap-dark {\n",
       "                    --jp-widgets-color: white;\n",
       "                    --jp-widgets-label-color: white;\n",
       "                    --jp-ui-font-color1: white;\n",
       "                    --jp-layout-color2: #454545;\n",
       "                    background-color: #383838;\n",
       "                }\n",
       "\n",
       "                .geemap-dark .jupyter-button {\n",
       "                    --jp-layout-color3: #383838;\n",
       "                }\n",
       "\n",
       "                .geemap-colab {\n",
       "                    background-color: var(--colab-primary-surface-color, white);\n",
       "                }\n",
       "\n",
       "                .geemap-colab .jupyter-button {\n",
       "                    --jp-layout-color3: var(--colab-primary-surface-color, white);\n",
       "                }\n",
       "            </style>\n",
       "            "
      ],
      "text/plain": [
       "<IPython.core.display.HTML object>"
      ]
     },
     "metadata": {},
     "output_type": "display_data"
    }
   ],
   "source": [
    "aoi = ee.Geometry.Polygon(\n",
    "        [[[14.673153981451712,49.82721862997025],\n",
    "          [15.2767153828189,49.82721862997025],\n",
    "          [15.2767153828189,50.08873547414839],\n",
    "          [14.673153981451712,50.08873547414839]]]) # study area"
   ]
  },
  {
   "cell_type": "code",
   "execution_count": 6,
   "id": "d012f3f7",
   "metadata": {},
   "outputs": [
    {
     "data": {
      "text/html": [
       "\n",
       "            <style>\n",
       "                .geemap-dark {\n",
       "                    --jp-widgets-color: white;\n",
       "                    --jp-widgets-label-color: white;\n",
       "                    --jp-ui-font-color1: white;\n",
       "                    --jp-layout-color2: #454545;\n",
       "                    background-color: #383838;\n",
       "                }\n",
       "\n",
       "                .geemap-dark .jupyter-button {\n",
       "                    --jp-layout-color3: #383838;\n",
       "                }\n",
       "\n",
       "                .geemap-colab {\n",
       "                    background-color: var(--colab-primary-surface-color, white);\n",
       "                }\n",
       "\n",
       "                .geemap-colab .jupyter-button {\n",
       "                    --jp-layout-color3: var(--colab-primary-surface-color, white);\n",
       "                }\n",
       "            </style>\n",
       "            "
      ],
      "text/plain": [
       "<IPython.core.display.HTML object>"
      ]
     },
     "metadata": {},
     "output_type": "display_data"
    },
    {
     "name": "stdout",
     "output_type": "stream",
     "text": [
      "Sun Sep 17 09:51:04 2023\n",
      "Sat Sep 09 09:29:10 2000\n"
     ]
    }
   ],
   "source": [
    "def collect(aoi):\n",
    "    try:\n",
    "        bands = ['SR_B2', 'SR_B3', 'SR_B4', 'SR_B5', 'SR_B6', 'SR_B7']\n",
    "        im1 = ee.Image( ee.ImageCollection('LANDSAT/LC09/C02/T1_L2') # LC08_191025_20160804 - landsat 9\n",
    "                  .filter(ee.Filter.eq('system:index', 'LC09_191025_20230917'))\n",
    "                  .first()\n",
    "                  .clip(aoi)\n",
    "                  .select(bands))\n",
    "        im2 = ee.Image( ee.ImageCollection('LANDSAT/LT05/C02/T1_L2') # landsat 5\n",
    "                  .filter(ee.Filter.eq('system:index', 'LT05_191025_20000909'))\n",
    "                  .first()\n",
    "                  .clip(aoi)\n",
    "                  .select(['SR_B1', 'SR_B2', 'SR_B3', 'SR_B4', 'SR_B5', 'SR_B7']).rename(bands) )\n",
    "        timestamp = im1.date().format('E MMM dd HH:mm:ss YYYY')\n",
    "        print(timestamp.getInfo())\n",
    "        timestamp = im2.date().format('E MMM dd HH:mm:ss YYYY')\n",
    "        print(timestamp.getInfo())\n",
    "        return (im1, im2)\n",
    "    except Exception as e:\n",
    "        print('Error: %s'%e) # print the error message\n",
    "\n",
    "im1, im2 = collect(aoi)"
   ]
  },
  {
   "cell_type": "code",
   "execution_count": 7,
   "id": "82bd8da2",
   "metadata": {},
   "outputs": [
    {
     "data": {
      "text/html": [
       "\n",
       "            <style>\n",
       "                .geemap-dark {\n",
       "                    --jp-widgets-color: white;\n",
       "                    --jp-widgets-label-color: white;\n",
       "                    --jp-ui-font-color1: white;\n",
       "                    --jp-layout-color2: #454545;\n",
       "                    background-color: #383838;\n",
       "                }\n",
       "\n",
       "                .geemap-dark .jupyter-button {\n",
       "                    --jp-layout-color3: #383838;\n",
       "                }\n",
       "\n",
       "                .geemap-colab {\n",
       "                    background-color: var(--colab-primary-surface-color, white);\n",
       "                }\n",
       "\n",
       "                .geemap-colab .jupyter-button {\n",
       "                    --jp-layout-color3: var(--colab-primary-surface-color, white);\n",
       "                }\n",
       "            </style>\n",
       "            "
      ],
      "text/plain": [
       "<IPython.core.display.HTML object>"
      ]
     },
     "metadata": {},
     "output_type": "display_data"
    }
   ],
   "source": [
    "# Interactive map\n",
    "M1 = geemap.Map()\n",
    "M1.centerObject(aoi, 11)\n"
   ]
  },
  {
   "cell_type": "code",
   "execution_count": 8,
   "id": "5a52f2a0",
   "metadata": {},
   "outputs": [
    {
     "data": {
      "text/html": [
       "\n",
       "            <style>\n",
       "                .geemap-dark {\n",
       "                    --jp-widgets-color: white;\n",
       "                    --jp-widgets-label-color: white;\n",
       "                    --jp-ui-font-color1: white;\n",
       "                    --jp-layout-color2: #454545;\n",
       "                    background-color: #383838;\n",
       "                }\n",
       "\n",
       "                .geemap-dark .jupyter-button {\n",
       "                    --jp-layout-color3: #383838;\n",
       "                }\n",
       "\n",
       "                .geemap-colab {\n",
       "                    background-color: var(--colab-primary-surface-color, white);\n",
       "                }\n",
       "\n",
       "                .geemap-colab .jupyter-button {\n",
       "                    --jp-layout-color3: var(--colab-primary-surface-color, white);\n",
       "                }\n",
       "            </style>\n",
       "            "
      ],
      "text/plain": [
       "<IPython.core.display.HTML object>"
      ]
     },
     "metadata": {},
     "output_type": "display_data"
    },
    {
     "data": {
      "application/vnd.jupyter.widget-view+json": {
       "model_id": "10fd0e70a0a04b76be2a60ac26c08727",
       "version_major": 2,
       "version_minor": 0
      },
      "text/plain": [
       "Map(center=[49.95825012032068, 14.974934682135093], controls=(WidgetControl(options=['position', 'transparent_…"
      ]
     },
     "metadata": {},
     "output_type": "display_data"
    }
   ],
   "source": [
    "visirbands = ['SR_B2','SR_B3','SR_B4','SR_B5','SR_B6', 'SR_B7']\n",
    "visbands = ['SR_B4','SR_B3','SR_B2']\n",
    "\n",
    "diff = im1.subtract(im2).select(visbands)\n",
    "display_ls(im1.select(visbands), M1, 'Landsat 9')\n",
    "display_ls(im2.select(visbands), M1, 'Landsat 5')\n",
    "display_ls(diff, M1, 'Difference')\n",
    "M1"
   ]
  },
  {
   "cell_type": "code",
   "execution_count": null,
   "id": "df6d3eb4",
   "metadata": {},
   "outputs": [
    {
     "data": {
      "text/html": [
       "\n",
       "            <style>\n",
       "                .geemap-dark {\n",
       "                    --jp-widgets-color: white;\n",
       "                    --jp-widgets-label-color: white;\n",
       "                    --jp-ui-font-color1: white;\n",
       "                    --jp-layout-color2: #454545;\n",
       "                    background-color: #383838;\n",
       "                }\n",
       "\n",
       "                .geemap-dark .jupyter-button {\n",
       "                    --jp-layout-color3: #383838;\n",
       "                }\n",
       "\n",
       "                .geemap-colab {\n",
       "                    background-color: var(--colab-primary-surface-color, white);\n",
       "                }\n",
       "\n",
       "                .geemap-colab .jupyter-button {\n",
       "                    --jp-layout-color3: var(--colab-primary-surface-color, white);\n",
       "                }\n",
       "            </style>\n",
       "            "
      ],
      "text/plain": [
       "<IPython.core.display.HTML object>"
      ]
     },
     "metadata": {},
     "output_type": "display_data"
    },
    {
     "name": "stdout",
     "output_type": "stream",
     "text": [
      "Reference has same CRS as target: False \n",
      "Reprojecting:\n",
      "Reference has same CRS as target: True\n"
     ]
    }
   ],
   "source": [
    "reference = im1.select(visirbands) # reference image - L9\n",
    "target = im2.select(visirbands) # target image - L5\n",
    "# control proj\n",
    "print(f'Reference has same CRS as target: {reference.projection().getInfo() == target.projection().getInfo()} \\nReprojecting:')\n",
    "# Parametry pro Collection 2 Surface Reflectance\n",
    "SCALE  = 0.0000275\n",
    "OFFSET = -0.2\n",
    "\n",
    "\n",
    "def to_sr_full(image, bands):\n",
    "    sr = ( image.select(bands)\n",
    "              .multiply(SCALE)\n",
    "              .add(OFFSET)\n",
    "              .rename(bands) )\n",
    "    \n",
    "    out = image.addBands(sr, bands, overwrite=True)\n",
    "    return out\n",
    "\n",
    "reference = to_sr_full(reference, visirbands)\n",
    "target    = to_sr_full(target,    visirbands)\n",
    "\n",
    "reference_new = reference.reproject(crs=reference.projection(), scale=reference.projection().nominalScale())\n",
    "reference_new = reference_new.clip(aoi)\n",
    "crs_info_reference_n = reference_new.projection().getInfo()\n",
    "target = target.reproject(crs=reference.projection(), scale=reference.projection().nominalScale())\n",
    "target = target.clip(aoi)\n",
    "crs_info_target = target.projection().getInfo()\n",
    "# check if the projections are now the same\n",
    "print(f'Reference has same CRS as target: {crs_info_reference_n == crs_info_target }')"
   ]
  },
  {
   "cell_type": "code",
   "execution_count": 10,
   "id": "da6bb700",
   "metadata": {},
   "outputs": [
    {
     "data": {
      "text/html": [
       "\n",
       "            <style>\n",
       "                .geemap-dark {\n",
       "                    --jp-widgets-color: white;\n",
       "                    --jp-widgets-label-color: white;\n",
       "                    --jp-ui-font-color1: white;\n",
       "                    --jp-layout-color2: #454545;\n",
       "                    background-color: #383838;\n",
       "                }\n",
       "\n",
       "                .geemap-dark .jupyter-button {\n",
       "                    --jp-layout-color3: #383838;\n",
       "                }\n",
       "\n",
       "                .geemap-colab {\n",
       "                    background-color: var(--colab-primary-surface-color, white);\n",
       "                }\n",
       "\n",
       "                .geemap-colab .jupyter-button {\n",
       "                    --jp-layout-color3: var(--colab-primary-surface-color, white);\n",
       "                }\n",
       "            </style>\n",
       "            "
      ],
      "text/plain": [
       "<IPython.core.display.HTML object>"
      ]
     },
     "metadata": {},
     "output_type": "display_data"
    },
    {
     "name": "stdout",
     "output_type": "stream",
     "text": [
      "Threshold value for PIF pixels: 0.08428391090389135 \n",
      "Calculated by EMD method\n"
     ]
    }
   ],
   "source": [
    "# calculate spectral distance as a mesure of changee between the images\n",
    "method = 'EMD' # try SID, SAM, EMD\n",
    "distance = target.spectralDistance(reference_new, method).rename('distance') # you can try different metric: sid, sam, sed, emd\n",
    "\n",
    "threshold = distance.reduceRegion(\n",
    "    reducer= ee.Reducer.percentile([10]), # 20, 30, 40, 50, 60, 70\n",
    "    geometry= aoi,\n",
    "    scale= 30,\n",
    "    bestEffort= True,\n",
    "    maxPixels= 1e13,\n",
    ").getNumber('distance') \n",
    "print(f'Threshold value for PIF pixels: {threshold.getInfo()} \\nCalculated by {method} method') # threshold value for pseudo invariant feature\n",
    "\n",
    "pif = distance.lt(threshold).rename('pif') # pif - pseudo invariant feature"
   ]
  },
  {
   "cell_type": "code",
   "execution_count": 11,
   "id": "e3d5bd4f",
   "metadata": {},
   "outputs": [
    {
     "data": {
      "text/html": [
       "\n",
       "            <style>\n",
       "                .geemap-dark {\n",
       "                    --jp-widgets-color: white;\n",
       "                    --jp-widgets-label-color: white;\n",
       "                    --jp-ui-font-color1: white;\n",
       "                    --jp-layout-color2: #454545;\n",
       "                    background-color: #383838;\n",
       "                }\n",
       "\n",
       "                .geemap-dark .jupyter-button {\n",
       "                    --jp-layout-color3: #383838;\n",
       "                }\n",
       "\n",
       "                .geemap-colab {\n",
       "                    background-color: var(--colab-primary-surface-color, white);\n",
       "                }\n",
       "\n",
       "                .geemap-colab .jupyter-button {\n",
       "                    --jp-layout-color3: var(--colab-primary-surface-color, white);\n",
       "                }\n",
       "            </style>\n",
       "            "
      ],
      "text/plain": [
       "<IPython.core.display.HTML object>"
      ]
     },
     "metadata": {},
     "output_type": "display_data"
    },
    {
     "data": {
      "text/html": [
       "<div><style>:root {\n",
       "  --font-color-primary: var(--jp-content-font-color0, rgba(0, 0, 0, 1));\n",
       "  --font-color-secondary: var(--jp-content-font-color2, rgba(0, 0, 0, 0.7));\n",
       "  --font-color-accent: rgba(123, 31, 162, 1);\n",
       "  --border-color: var(--jp-border-color2, #e0e0e0);\n",
       "  --background-color: var(--jp-layout-color0, white);\n",
       "  --background-color-row-even: var(--jp-layout-color1, white);\n",
       "  --background-color-row-odd: var(--jp-layout-color2, #eeeeee);\n",
       "}\n",
       "\n",
       "html[theme=\"dark\"],\n",
       "body[data-theme=\"dark\"],\n",
       "body.vscode-dark {\n",
       "  --font-color-primary: rgba(255, 255, 255, 1);\n",
       "  --font-color-secondary: rgba(255, 255, 255, 0.7);\n",
       "  --font-color-accent: rgb(173, 132, 190);\n",
       "  --border-color: #2e2e2e;\n",
       "  --background-color: #111111;\n",
       "  --background-color-row-even: #111111;\n",
       "  --background-color-row-odd: #313131;\n",
       "}\n",
       "\n",
       ".eerepr {\n",
       "  padding: 1em;\n",
       "  line-height: 1.5em;\n",
       "  min-width: 300px;\n",
       "  max-width: 1200px;\n",
       "  overflow-y: scroll;\n",
       "  max-height: 600px;\n",
       "  border: 1px solid var(--border-color);\n",
       "  font-family: monospace;\n",
       "  font-size: 14px;\n",
       "}\n",
       "\n",
       ".eerepr li {\n",
       "  list-style-type: none;\n",
       "  margin: 0;\n",
       "}\n",
       "\n",
       ".eerepr ul {\n",
       "  padding-left: 1.5em !important;\n",
       "  margin: 0;\n",
       "}\n",
       "\n",
       ".eerepr > ul {\n",
       "  padding-left: 0 !important;\n",
       "}\n",
       "\n",
       ".eerepr summary {\n",
       "  color: var(--font-color-secondary);\n",
       "  cursor: pointer;\n",
       "  margin: 0;\n",
       "}\n",
       "\n",
       ".eerepr summary:hover {\n",
       "  color: var(--font-color-primary);\n",
       "  background-color: var(--background-color-row-odd)\n",
       "}\n",
       "\n",
       ".ee-k {\n",
       "  color: var(--font-color-accent);\n",
       "  margin-right: 6px;\n",
       "}\n",
       "\n",
       ".ee-v {\n",
       "  color: var(--font-color-primary);\n",
       "}\n",
       "\n",
       ".eerepr details > summary::before {\n",
       "  content: '▼';\n",
       "  display: inline-block;\n",
       "  margin-right: 6px;\n",
       "  transition: transform 0.2s;\n",
       "  transform: rotate(-90deg);\n",
       "}\n",
       "\n",
       ".eerepr details[open] > summary::before {\n",
       "  transform: rotate(0deg);\n",
       "}\n",
       "\n",
       ".eerepr details summary::-webkit-details-marker {\n",
       "  display:none;\n",
       "}\n",
       "\n",
       ".eerepr details summary {\n",
       "  list-style-type: none;\n",
       "}\n",
       "</style><div class='eerepr'><ul><li><details><summary>Image (1 band)</summary><ul><li><span class='ee-k'>type:</span><span class='ee-v'>Image</span></li><li><details><summary>bands: List (1 element)</summary><ul><li><details><summary>0: \"pif\", int ∈ [0, 1], EPSG:32633, 1448x971 px</summary><ul><li><span class='ee-k'>id:</span><span class='ee-v'>pif</span></li><li><span class='ee-k'>crs:</span><span class='ee-v'>EPSG:32633</span></li><li><details><summary>crs_transform: [30, 0, 401385, 0, 30, 5688915]</summary><ul><li><span class='ee-k'>0:</span><span class='ee-v'>30</span></li><li><span class='ee-k'>1:</span><span class='ee-v'>0</span></li><li><span class='ee-k'>2:</span><span class='ee-v'>401385</span></li><li><span class='ee-k'>3:</span><span class='ee-v'>0</span></li><li><span class='ee-k'>4:</span><span class='ee-v'>30</span></li><li><span class='ee-k'>5:</span><span class='ee-v'>5688915</span></li></ul></details></li><li><details><summary>data_type: int ∈ [0, 1]</summary><ul><li><span class='ee-k'>type:</span><span class='ee-v'>PixelType</span></li><li><span class='ee-k'>max:</span><span class='ee-v'>1</span></li><li><span class='ee-k'>min:</span><span class='ee-v'>0</span></li><li><span class='ee-k'>precision:</span><span class='ee-v'>int</span></li></ul></details></li><li><details><summary>dimensions: [1448, 971]</summary><ul><li><span class='ee-k'>0:</span><span class='ee-v'>1448</span></li><li><span class='ee-k'>1:</span><span class='ee-v'>971</span></li></ul></details></li><li><details><summary>origin: [2503, -5649]</summary><ul><li><span class='ee-k'>0:</span><span class='ee-v'>2503</span></li><li><span class='ee-k'>1:</span><span class='ee-v'>-5649</span></li></ul></details></li></ul></details></li></ul></details></li><li><details><summary>properties: Object (1 property)</summary><ul><li><details><summary>system:footprint: Polygon (5 vertices)</summary><ul><li><span class='ee-k'>type:</span><span class='ee-v'>Polygon</span></li><li><details><summary>coordinates: List (1 element)</summary><ul><li><details><summary>0: List (5 elements)</summary><ul><li><details><summary>0: [14.673153981451712, 49.82721862997025]</summary><ul><li><span class='ee-k'>0:</span><span class='ee-v'>14.673153981451712</span></li><li><span class='ee-k'>1:</span><span class='ee-v'>49.82721862997025</span></li></ul></details></li><li><details><summary>1: [15.2767153828189, 49.82721862997025]</summary><ul><li><span class='ee-k'>0:</span><span class='ee-v'>15.2767153828189</span></li><li><span class='ee-k'>1:</span><span class='ee-v'>49.82721862997025</span></li></ul></details></li><li><details><summary>2: [15.2767153828189, 50.08873547414839]</summary><ul><li><span class='ee-k'>0:</span><span class='ee-v'>15.2767153828189</span></li><li><span class='ee-k'>1:</span><span class='ee-v'>50.08873547414839</span></li></ul></details></li><li><details><summary>3: [14.673153981451708, 50.08873547414839]</summary><ul><li><span class='ee-k'>0:</span><span class='ee-v'>14.673153981451708</span></li><li><span class='ee-k'>1:</span><span class='ee-v'>50.08873547414839</span></li></ul></details></li><li><details><summary>4: [14.673153981451712, 49.82721862997025]</summary><ul><li><span class='ee-k'>0:</span><span class='ee-v'>14.673153981451712</span></li><li><span class='ee-k'>1:</span><span class='ee-v'>49.82721862997025</span></li></ul></details></li></ul></details></li></ul></details></li></ul></details></li></ul></details></li></ul></details></li></ul></div></div>"
      ],
      "text/plain": [
       "<ee.image.Image at 0x2070494b9b0>"
      ]
     },
     "execution_count": 11,
     "metadata": {},
     "output_type": "execute_result"
    }
   ],
   "source": [
    "pif"
   ]
  },
  {
   "cell_type": "code",
   "execution_count": null,
   "id": "02da81a9",
   "metadata": {},
   "outputs": [
    {
     "data": {
      "text/html": [
       "\n",
       "            <style>\n",
       "                .geemap-dark {\n",
       "                    --jp-widgets-color: white;\n",
       "                    --jp-widgets-label-color: white;\n",
       "                    --jp-ui-font-color1: white;\n",
       "                    --jp-layout-color2: #454545;\n",
       "                    background-color: #383838;\n",
       "                }\n",
       "\n",
       "                .geemap-dark .jupyter-button {\n",
       "                    --jp-layout-color3: #383838;\n",
       "                }\n",
       "\n",
       "                .geemap-colab {\n",
       "                    background-color: var(--colab-primary-surface-color, white);\n",
       "                }\n",
       "\n",
       "                .geemap-colab .jupyter-button {\n",
       "                    --jp-layout-color3: var(--colab-primary-surface-color, white);\n",
       "                }\n",
       "            </style>\n",
       "            "
      ],
      "text/plain": [
       "<IPython.core.display.HTML object>"
      ]
     },
     "metadata": {},
     "output_type": "display_data"
    },
    {
     "name": "stdout",
     "output_type": "stream",
     "text": [
      "Threshold for SAM at 70th percentile: 0.23828209410207649\n"
     ]
    }
   ],
   "source": [
    "methods = ['SAM'] #'SID', 'SAM'\n",
    "percentiles = [70] # 20, 30, 40, 50, 60, 70\n",
    "\n",
    "pif_masks = {}\n",
    "\n",
    "for method in methods:\n",
    "    # count spectral distance\n",
    "    distance = target.spectralDistance(reference_new, method).rename('distance')\n",
    "\n",
    "    for p in percentiles:\n",
    "        # threshold for the given percentile\n",
    "        threshold = distance.reduceRegion(\n",
    "            reducer=ee.Reducer.percentile([p]),\n",
    "            geometry=aoi,\n",
    "            scale=30,\n",
    "            bestEffort=True,\n",
    "            maxPixels=1e13\n",
    "        ).getNumber('distance')\n",
    "\n",
    "        pif = distance.lt(threshold).rename('pif'+f'_{method}_P{p}')\n",
    "        pif_masks[f'{method}_P{p}'] = pif\n",
    "        # \n",
    "        print(f'Threshold for {method} at {p}th percentile:', threshold.getInfo())"
   ]
  },
  {
   "cell_type": "code",
   "execution_count": 13,
   "id": "52e07e5e",
   "metadata": {},
   "outputs": [
    {
     "data": {
      "text/html": [
       "\n",
       "            <style>\n",
       "                .geemap-dark {\n",
       "                    --jp-widgets-color: white;\n",
       "                    --jp-widgets-label-color: white;\n",
       "                    --jp-ui-font-color1: white;\n",
       "                    --jp-layout-color2: #454545;\n",
       "                    background-color: #383838;\n",
       "                }\n",
       "\n",
       "                .geemap-dark .jupyter-button {\n",
       "                    --jp-layout-color3: #383838;\n",
       "                }\n",
       "\n",
       "                .geemap-colab {\n",
       "                    background-color: var(--colab-primary-surface-color, white);\n",
       "                }\n",
       "\n",
       "                .geemap-colab .jupyter-button {\n",
       "                    --jp-layout-color3: var(--colab-primary-surface-color, white);\n",
       "                }\n",
       "            </style>\n",
       "            "
      ],
      "text/plain": [
       "<IPython.core.display.HTML object>"
      ]
     },
     "metadata": {},
     "output_type": "display_data"
    },
    {
     "name": "stdout",
     "output_type": "stream",
     "text": [
      "SAM_P70: ['pif_SAM_P70']\n"
     ]
    }
   ],
   "source": [
    "for key, img in pif_masks.items():\n",
    "    bands = img.bandNames().getInfo()\n",
    "    print(f'{key}: {bands}')"
   ]
  },
  {
   "cell_type": "code",
   "execution_count": null,
   "id": "84f69136",
   "metadata": {},
   "outputs": [
    {
     "data": {
      "text/html": [
       "\n",
       "            <style>\n",
       "                .geemap-dark {\n",
       "                    --jp-widgets-color: white;\n",
       "                    --jp-widgets-label-color: white;\n",
       "                    --jp-ui-font-color1: white;\n",
       "                    --jp-layout-color2: #454545;\n",
       "                    background-color: #383838;\n",
       "                }\n",
       "\n",
       "                .geemap-dark .jupyter-button {\n",
       "                    --jp-layout-color3: #383838;\n",
       "                }\n",
       "\n",
       "                .geemap-colab {\n",
       "                    background-color: var(--colab-primary-surface-color, white);\n",
       "                }\n",
       "\n",
       "                .geemap-colab .jupyter-button {\n",
       "                    --jp-layout-color3: var(--colab-primary-surface-color, white);\n",
       "                }\n",
       "            </style>\n",
       "            "
      ],
      "text/plain": [
       "<IPython.core.display.HTML object>"
      ]
     },
     "metadata": {},
     "output_type": "display_data"
    }
   ],
   "source": [
    "# functions calculating linear regresion for each band\n",
    "def match_band(band):\n",
    "    band = ee.String(band)\n",
    "    pif = pif_masks['SAM_P70']\n",
    "    \n",
    "    before_pif = target.select([band]).updateMask(pif)\n",
    "    after_pif = reference_new.select([band]).updateMask(pif)\n",
    "    \n",
    "    combined = ee.Image.cat([\n",
    "        after_pif.rename('y'),  \n",
    "        before_pif.rename('x')   \n",
    "    ])\n",
    "    \n",
    "    # calculate linear regression\n",
    "    coeffs = combined.reduceRegion(\n",
    "        reducer=ee.Reducer.linearFit(),\n",
    "        geometry=aoi,\n",
    "        scale=30,\n",
    "        maxPixels=1e12,\n",
    "        bestEffort=False\n",
    "    )\n",
    "\n",
    "    # normalize L5 image based on calculated coeffs\n",
    "    corrected = target.select([band]) \\\n",
    "        .multiply(ee.Number(coeffs.get('scale'))) \\\n",
    "        .add(ee.Number(coeffs.get('offset')))\n",
    "    return corrected\n",
    "\n",
    "def get_band_coeffs(band):\n",
    "    '''description...'''\n",
    "    band = ee.String(band)\n",
    "    pif = pif_masks['SAM_P70']\n",
    "\n",
    "    before_pif = target.select([band]).updateMask(pif)\n",
    "    after_pif = reference_new.select([band]).updateMask(pif)\n",
    "\n",
    "    coeffs = ee.Image.cat([after_pif, before_pif]).reduceRegion(\n",
    "        reducer=ee.Reducer.linearFit(),\n",
    "        geometry=aoi,\n",
    "        scale=30,\n",
    "        maxPixels=1e6,\n",
    "        bestEffort=True\n",
    "    )\n",
    "\n",
    "    return ee.Dictionary({\n",
    "        'band': band,\n",
    "        'scale': coeffs.get('scale'),\n",
    "        'offset': coeffs.get('offset')\n",
    "    })\n",
    "\n",
    "def band_coefs_before(band):\n",
    "    band = ee.String(band)\n",
    "\n",
    "    before_pif = target.select([band])\n",
    "    after_pif = reference_new.select([band])\n",
    "\n",
    "    coeffs = ee.Image.cat([after_pif, before_pif]).reduceRegion(\n",
    "        reducer=ee.Reducer.linearFit(),\n",
    "        geometry=aoi,\n",
    "        scale=30,\n",
    "        maxPixels=1e6,\n",
    "        bestEffort=True\n",
    "    )\n",
    "\n",
    "    return ee.Dictionary({\n",
    "        'band': band,\n",
    "        'scale': coeffs.get('scale'),\n",
    "        'offset': coeffs.get('offset')\n",
    "    })"
   ]
  },
  {
   "cell_type": "code",
   "execution_count": 15,
   "id": "e74810f6",
   "metadata": {},
   "outputs": [
    {
     "data": {
      "text/html": [
       "\n",
       "            <style>\n",
       "                .geemap-dark {\n",
       "                    --jp-widgets-color: white;\n",
       "                    --jp-widgets-label-color: white;\n",
       "                    --jp-ui-font-color1: white;\n",
       "                    --jp-layout-color2: #454545;\n",
       "                    background-color: #383838;\n",
       "                }\n",
       "\n",
       "                .geemap-dark .jupyter-button {\n",
       "                    --jp-layout-color3: #383838;\n",
       "                }\n",
       "\n",
       "                .geemap-colab {\n",
       "                    background-color: var(--colab-primary-surface-color, white);\n",
       "                }\n",
       "\n",
       "                .geemap-colab .jupyter-button {\n",
       "                    --jp-layout-color3: var(--colab-primary-surface-color, white);\n",
       "                }\n",
       "            </style>\n",
       "            "
      ],
      "text/plain": [
       "<IPython.core.display.HTML object>"
      ]
     },
     "metadata": {},
     "output_type": "display_data"
    },
    {
     "name": "stdout",
     "output_type": "stream",
     "text": [
      "PIF normalization band by band....\n",
      "\n",
      "Calculated coefficients for each band before normalization:\n",
      "SR_B2: scale = 0.5644, offset = 0.0235\n",
      "SR_B3: scale = 0.6773, offset = 0.0274\n",
      "SR_B4: scale = 0.5971, offset = 0.0377\n",
      "SR_B5: scale = 0.2549, offset = 0.1588\n",
      "SR_B6: scale = 0.733, offset = 0.0523\n",
      "SR_B7: scale = 0.648, offset = 0.0496\n",
      "\n",
      "Calculated coefficients for each band after normalization\n",
      "SR_B2: scale = 0.7574, offset = 0.0126\n",
      "SR_B3: scale = 0.8052, offset = 0.0159\n",
      "SR_B4: scale = 0.8035, offset = 0.0168\n",
      "SR_B5: scale = 0.5667, offset = 0.0799\n",
      "SR_B6: scale = 0.8625, offset = 0.0193\n",
      "SR_B7: scale = 0.8678, offset = 0.0113\n",
      "\n",
      "SRTM model for AOI imported.\n",
      "\n",
      "SRTM band CRS equal to other bands: True\n",
      "Calculating slope and aspect...\n",
      "Slope, aspect bands CRS equal to other bands: True, True\n",
      "\n"
     ]
    }
   ],
   "source": [
    "bands = ee.List([ee.String('SR_B2'), ee.String('SR_B3'), ee.String('SR_B4'), ee.String('SR_B5'), ee.String('SR_B6'), ee.String('SR_B7')]); \n",
    "\n",
    "print(f'PIF normalization band by band....\\n')\n",
    "matched_bands = bands.map(match_band)\n",
    "\n",
    "# Calculate and print coefficients\n",
    "coeffs_list_before = bands.map(band_coefs_before)\n",
    "coeffs_list_before = coeffs_list_before.getInfo()\n",
    "\n",
    "print(\"Calculated coefficients for each band before normalization:\")\n",
    "for coeff in coeffs_list_before:\n",
    "    band = coeff['band']\n",
    "    scale = round(coeff['scale'], 4)\n",
    "    offset = round(coeff['offset'], 4)\n",
    "    print(f\"{band}: scale = {scale}, offset = {offset}\")\n",
    "\n",
    "coeffs_list_after = bands.map(get_band_coeffs)\n",
    "coeffs_list_after = coeffs_list_after.getInfo()\n",
    "print(\"\\nCalculated coefficients for each band after normalization\")\n",
    "for coeff in coeffs_list_after:\n",
    "    band = coeff['band']\n",
    "    scale = round(coeff['scale'], 4)\n",
    "    offset = round(coeff['offset'], 4)\n",
    "    print(f\"{band}: scale = {scale}, offset = {offset}\")\n",
    "\n",
    "# match norm bands into one\n",
    "matched_image = ee.ImageCollection(matched_bands).toBands().rename(bands)\n",
    "#matched_image = ee.Image.cat(matched_bands)#.rename(bands)\n",
    "matched_image = matched_image.clip(aoi)\n",
    "\n",
    "# reproject no_change_mask\n",
    "noChangeMask = pif.reproject(crs=reference.projection(), scale=reference.projection().nominalScale())\n",
    "noChangeMask = noChangeMask.clip(aoi)\n",
    "\n",
    "# rename bands\n",
    "bands_pif = ee.List([ee.String('pif_B2'), ee.String('pif_B3'), ee.String('pif_B4'), ee.String('pif_B5'), ee.String('pif_B6'), ee.String('SR_B7')])\n",
    "\n",
    "l5_pif = matched_image.select(bands).rename(bands_pif)\n",
    "l9 = reference_new\n",
    "l5 = target\n",
    "\n",
    "# reproject l9 to l9 crs\n",
    "l9 = l9.reproject(crs = reference.projection(), scale=reference.projection().nominalScale())\n",
    "l5 = l5.reproject(crs = reference.projection(), scale=reference.projection().nominalScale())\n",
    "l5_pif = l5_pif.reproject(crs = reference.projection(), scale=reference.projection().nominalScale())\n",
    "\n",
    "# import srtm model\n",
    "srtm = ee.Image('USGS/SRTMGL1_003').clip(aoi) # SRTM DEM\n",
    "print(f'\\nSRTM model for AOI imported.\\n')\n",
    "\n",
    "# reproject to the same projection as the reference image\n",
    "srtm_repr = srtm.reproject(crs=reference.projection(), scale=reference.projection().nominalScale())\n",
    "srtm_repr = srtm_repr.clip(aoi)\n",
    "crs_info_srtm = srtm_repr.projection().getInfo()\n",
    "print(f'SRTM band CRS equal to other bands: {crs_info_srtm == l5.projection().getInfo()}')\n",
    "\n",
    "# Create slope and aspect from SRTM data\n",
    "print(f'Calculating slope and aspect...')\n",
    "slope = ee.Terrain.slope(srtm_repr).clip(aoi) # slope\n",
    "aspect = ee.Terrain.aspect(srtm_repr).clip(aoi) # aspect\n",
    "crs_info_slope = slope.projection().getInfo()\n",
    "crs_info_aspect = aspect.projection().getInfo()\n",
    "print(f'Slope, aspect bands CRS equal to other bands: {crs_info_slope == l5.projection().getInfo()}, {crs_info_aspect == l5.projection().getInfo()}\\n')"
   ]
  },
  {
   "cell_type": "code",
   "execution_count": 16,
   "id": "47315778",
   "metadata": {},
   "outputs": [
    {
     "data": {
      "text/html": [
       "\n",
       "            <style>\n",
       "                .geemap-dark {\n",
       "                    --jp-widgets-color: white;\n",
       "                    --jp-widgets-label-color: white;\n",
       "                    --jp-ui-font-color1: white;\n",
       "                    --jp-layout-color2: #454545;\n",
       "                    background-color: #383838;\n",
       "                }\n",
       "\n",
       "                .geemap-dark .jupyter-button {\n",
       "                    --jp-layout-color3: #383838;\n",
       "                }\n",
       "\n",
       "                .geemap-colab {\n",
       "                    background-color: var(--colab-primary-surface-color, white);\n",
       "                }\n",
       "\n",
       "                .geemap-colab .jupyter-button {\n",
       "                    --jp-layout-color3: var(--colab-primary-surface-color, white);\n",
       "                }\n",
       "            </style>\n",
       "            "
      ],
      "text/plain": [
       "<IPython.core.display.HTML object>"
      ]
     },
     "metadata": {},
     "output_type": "display_data"
    },
    {
     "data": {
      "application/vnd.jupyter.widget-view+json": {
       "model_id": "10fd0e70a0a04b76be2a60ac26c08727",
       "version_major": 2,
       "version_minor": 0
      },
      "text/plain": [
       "Map(bottom=178204.0, center=[49.95825012032068, 14.974934682135093], controls=(WidgetControl(options=['positio…"
      ]
     },
     "metadata": {},
     "output_type": "display_data"
    }
   ],
   "source": [
    "# add layer for no-change mask\n",
    "noChangeMask_inv = noChangeMask.updateMask(noChangeMask).clip(aoi) # mask out no-change pixels\n",
    "M1.addLayer(noChangeMask_inv, {'palette': ['red']}, 'no-change mask', True)\n",
    "\n",
    "M1"
   ]
  },
  {
   "cell_type": "code",
   "execution_count": null,
   "id": "16a4d927",
   "metadata": {},
   "outputs": [
    {
     "data": {
      "text/html": [
       "\n",
       "            <style>\n",
       "                .geemap-dark {\n",
       "                    --jp-widgets-color: white;\n",
       "                    --jp-widgets-label-color: white;\n",
       "                    --jp-ui-font-color1: white;\n",
       "                    --jp-layout-color2: #454545;\n",
       "                    background-color: #383838;\n",
       "                }\n",
       "\n",
       "                .geemap-dark .jupyter-button {\n",
       "                    --jp-layout-color3: #383838;\n",
       "                }\n",
       "\n",
       "                .geemap-colab {\n",
       "                    background-color: var(--colab-primary-surface-color, white);\n",
       "                }\n",
       "\n",
       "                .geemap-colab .jupyter-button {\n",
       "                    --jp-layout-color3: var(--colab-primary-surface-color, white);\n",
       "                }\n",
       "            </style>\n",
       "            "
      ],
      "text/plain": [
       "<IPython.core.display.HTML object>"
      ]
     },
     "metadata": {},
     "output_type": "display_data"
    },
    {
     "ename": "EEException",
     "evalue": "Dictionary.get: Dictionary does not contain key: 'pif_SAM_P10'.",
     "output_type": "error",
     "traceback": [
      "\u001b[1;31m---------------------------------------------------------------------------\u001b[0m",
      "\u001b[1;31mHttpError\u001b[0m                                 Traceback (most recent call last)",
      "File \u001b[1;32mc:\\Users\\Anna\\anaconda3\\Lib\\site-packages\\ee\\data.py:408\u001b[0m, in \u001b[0;36m_execute_cloud_call\u001b[1;34m(call, num_retries)\u001b[0m\n\u001b[0;32m    407\u001b[0m \u001b[38;5;28;01mtry\u001b[39;00m:\n\u001b[1;32m--> 408\u001b[0m   \u001b[38;5;28;01mreturn\u001b[39;00m call\u001b[38;5;241m.\u001b[39mexecute(num_retries\u001b[38;5;241m=\u001b[39mnum_retries)\n\u001b[0;32m    409\u001b[0m \u001b[38;5;28;01mexcept\u001b[39;00m googleapiclient\u001b[38;5;241m.\u001b[39merrors\u001b[38;5;241m.\u001b[39mHttpError \u001b[38;5;28;01mas\u001b[39;00m e:\n",
      "File \u001b[1;32mc:\\Users\\Anna\\anaconda3\\Lib\\site-packages\\googleapiclient\\_helpers.py:130\u001b[0m, in \u001b[0;36mpositional.<locals>.positional_decorator.<locals>.positional_wrapper\u001b[1;34m(*args, **kwargs)\u001b[0m\n\u001b[0;32m    129\u001b[0m         logger\u001b[38;5;241m.\u001b[39mwarning(message)\n\u001b[1;32m--> 130\u001b[0m \u001b[38;5;28;01mreturn\u001b[39;00m wrapped(\u001b[38;5;241m*\u001b[39margs, \u001b[38;5;241m*\u001b[39m\u001b[38;5;241m*\u001b[39mkwargs)\n",
      "File \u001b[1;32mc:\\Users\\Anna\\anaconda3\\Lib\\site-packages\\googleapiclient\\http.py:938\u001b[0m, in \u001b[0;36mHttpRequest.execute\u001b[1;34m(self, http, num_retries)\u001b[0m\n\u001b[0;32m    937\u001b[0m \u001b[38;5;28;01mif\u001b[39;00m resp\u001b[38;5;241m.\u001b[39mstatus \u001b[38;5;241m>\u001b[39m\u001b[38;5;241m=\u001b[39m \u001b[38;5;241m300\u001b[39m:\n\u001b[1;32m--> 938\u001b[0m     \u001b[38;5;28;01mraise\u001b[39;00m HttpError(resp, content, uri\u001b[38;5;241m=\u001b[39m\u001b[38;5;28mself\u001b[39m\u001b[38;5;241m.\u001b[39muri)\n\u001b[0;32m    939\u001b[0m \u001b[38;5;28;01mreturn\u001b[39;00m \u001b[38;5;28mself\u001b[39m\u001b[38;5;241m.\u001b[39mpostproc(resp, content)\n",
      "\u001b[1;31mHttpError\u001b[0m: <HttpError 400 when requesting https://earthengine.googleapis.com/v1/projects/716069062206/value:compute?prettyPrint=false&alt=json returned \"Dictionary.get: Dictionary does not contain key: 'pif_SAM_P10'.\". Details: \"Dictionary.get: Dictionary does not contain key: 'pif_SAM_P10'.\">",
      "\nDuring handling of the above exception, another exception occurred:\n",
      "\u001b[1;31mEEException\u001b[0m                               Traceback (most recent call last)",
      "Cell \u001b[1;32mIn[17], line 9\u001b[0m\n\u001b[0;32m      1\u001b[0m px_count \u001b[38;5;241m=\u001b[39m noChangeMask_inv\u001b[38;5;241m.\u001b[39mreduceRegion(\n\u001b[0;32m      2\u001b[0m     reducer   \u001b[38;5;241m=\u001b[39m ee\u001b[38;5;241m.\u001b[39mReducer\u001b[38;5;241m.\u001b[39mcount(),   \u001b[38;5;66;03m# nebo ee.Reducer.sum()\u001b[39;00m\n\u001b[0;32m      3\u001b[0m     geometry  \u001b[38;5;241m=\u001b[39m aoi,\n\u001b[1;32m   (...)\u001b[0m\n\u001b[0;32m      6\u001b[0m     bestEffort\u001b[38;5;241m=\u001b[39m\u001b[38;5;28;01mTrue\u001b[39;00m\n\u001b[0;32m      7\u001b[0m )\n\u001b[1;32m----> 9\u001b[0m \u001b[38;5;28mprint\u001b[39m(\u001b[38;5;124m'\u001b[39m\u001b[38;5;124mPočet neměnných pixelů:\u001b[39m\u001b[38;5;124m'\u001b[39m, px_count\u001b[38;5;241m.\u001b[39mget(\u001b[38;5;124m'\u001b[39m\u001b[38;5;124mpif_SAM_P10\u001b[39m\u001b[38;5;124m'\u001b[39m)\u001b[38;5;241m.\u001b[39mgetInfo())\n",
      "File \u001b[1;32mc:\\Users\\Anna\\anaconda3\\Lib\\site-packages\\ee\\computedobject.py:107\u001b[0m, in \u001b[0;36mComputedObject.getInfo\u001b[1;34m(self)\u001b[0m\n\u001b[0;32m    101\u001b[0m \u001b[38;5;28;01mdef\u001b[39;00m \u001b[38;5;21mgetInfo\u001b[39m(\u001b[38;5;28mself\u001b[39m) \u001b[38;5;241m-\u001b[39m\u001b[38;5;241m>\u001b[39m Optional[Any]:\n\u001b[0;32m    102\u001b[0m \u001b[38;5;250m  \u001b[39m\u001b[38;5;124;03m\"\"\"Fetch and return information about this object.\u001b[39;00m\n\u001b[0;32m    103\u001b[0m \n\u001b[0;32m    104\u001b[0m \u001b[38;5;124;03m  Returns:\u001b[39;00m\n\u001b[0;32m    105\u001b[0m \u001b[38;5;124;03m    The object can evaluate to anything.\u001b[39;00m\n\u001b[0;32m    106\u001b[0m \u001b[38;5;124;03m  \"\"\"\u001b[39;00m\n\u001b[1;32m--> 107\u001b[0m   \u001b[38;5;28;01mreturn\u001b[39;00m data\u001b[38;5;241m.\u001b[39mcomputeValue(\u001b[38;5;28mself\u001b[39m)\n",
      "File \u001b[1;32mc:\\Users\\Anna\\anaconda3\\Lib\\site-packages\\ee\\data.py:1128\u001b[0m, in \u001b[0;36mcomputeValue\u001b[1;34m(obj)\u001b[0m\n\u001b[0;32m   1125\u001b[0m body \u001b[38;5;241m=\u001b[39m {\u001b[38;5;124m'\u001b[39m\u001b[38;5;124mexpression\u001b[39m\u001b[38;5;124m'\u001b[39m: serializer\u001b[38;5;241m.\u001b[39mencode(obj, for_cloud_api\u001b[38;5;241m=\u001b[39m\u001b[38;5;28;01mTrue\u001b[39;00m)}\n\u001b[0;32m   1126\u001b[0m _maybe_populate_workload_tag(body)\n\u001b[1;32m-> 1128\u001b[0m \u001b[38;5;28;01mreturn\u001b[39;00m _execute_cloud_call(\n\u001b[0;32m   1129\u001b[0m     _get_cloud_projects()\n\u001b[0;32m   1130\u001b[0m     \u001b[38;5;241m.\u001b[39mvalue()\n\u001b[0;32m   1131\u001b[0m     \u001b[38;5;241m.\u001b[39mcompute(body\u001b[38;5;241m=\u001b[39mbody, project\u001b[38;5;241m=\u001b[39m_get_projects_path(), prettyPrint\u001b[38;5;241m=\u001b[39m\u001b[38;5;28;01mFalse\u001b[39;00m)\n\u001b[0;32m   1132\u001b[0m )[\u001b[38;5;124m'\u001b[39m\u001b[38;5;124mresult\u001b[39m\u001b[38;5;124m'\u001b[39m]\n",
      "File \u001b[1;32mc:\\Users\\Anna\\anaconda3\\Lib\\site-packages\\ee\\data.py:410\u001b[0m, in \u001b[0;36m_execute_cloud_call\u001b[1;34m(call, num_retries)\u001b[0m\n\u001b[0;32m    408\u001b[0m   \u001b[38;5;28;01mreturn\u001b[39;00m call\u001b[38;5;241m.\u001b[39mexecute(num_retries\u001b[38;5;241m=\u001b[39mnum_retries)\n\u001b[0;32m    409\u001b[0m \u001b[38;5;28;01mexcept\u001b[39;00m googleapiclient\u001b[38;5;241m.\u001b[39merrors\u001b[38;5;241m.\u001b[39mHttpError \u001b[38;5;28;01mas\u001b[39;00m e:\n\u001b[1;32m--> 410\u001b[0m   \u001b[38;5;28;01mraise\u001b[39;00m _translate_cloud_exception(e)\n",
      "\u001b[1;31mEEException\u001b[0m: Dictionary.get: Dictionary does not contain key: 'pif_SAM_P10'."
     ]
    }
   ],
   "source": [
    "# count of no-change pixels\n",
    "px_count = noChangeMask_inv.reduceRegion(\n",
    "    reducer   = ee.Reducer.count(),\n",
    "    geometry  = aoi,\n",
    "    scale     = 30, \n",
    "    maxPixels = 1e9,\n",
    "    bestEffort=True\n",
    ")\n",
    "\n",
    "print('No-change pixels count:', px_count.get('pif_SAM_P10').getInfo()) # name has to corespond to the same method and percentile"
   ]
  },
  {
   "cell_type": "code",
   "execution_count": 126,
   "id": "6ea216fa",
   "metadata": {},
   "outputs": [
    {
     "data": {
      "text/html": [
       "\n",
       "            <style>\n",
       "                .geemap-dark {\n",
       "                    --jp-widgets-color: white;\n",
       "                    --jp-widgets-label-color: white;\n",
       "                    --jp-ui-font-color1: white;\n",
       "                    --jp-layout-color2: #454545;\n",
       "                    background-color: #383838;\n",
       "                }\n",
       "\n",
       "                .geemap-dark .jupyter-button {\n",
       "                    --jp-layout-color3: #383838;\n",
       "                }\n",
       "\n",
       "                .geemap-colab {\n",
       "                    background-color: var(--colab-primary-surface-color, white);\n",
       "                }\n",
       "\n",
       "                .geemap-colab .jupyter-button {\n",
       "                    --jp-layout-color3: var(--colab-primary-surface-color, white);\n",
       "                }\n",
       "            </style>\n",
       "            "
      ],
      "text/plain": [
       "<IPython.core.display.HTML object>"
      ]
     },
     "metadata": {},
     "output_type": "display_data"
    }
   ],
   "source": [
    "# save coeffs before and after normalization to a csv file\n",
    "import pandas as pd\n",
    "# create a DataFrame from the list of dictionaries\n",
    "df_before = pd.DataFrame(coeffs_list_before)\n",
    "df_before.rename(columns={'scale': 'scale_before', 'offset': 'offset_before'}, inplace=True)\n",
    "df_after = pd.DataFrame(coeffs_list_after)\n",
    "df_after.rename(columns={'scale': 'scale_after', 'offset': 'offset_after'}, inplace=True)\n",
    "# merge the two DataFrames on the 'band' column\n",
    "merged_df = pd.merge(df_before, df_after, on='band')\n",
    "# save the merged DataFrame to a CSV file\n",
    "merged_df.to_csv('PIF_coeffs_SAM_70.csv', index=False) # # PIF_coeffs_SID, PIF_coeffs_SAM, PIF_coeffs_EMD\n",
    "#merged_df"
   ]
  },
  {
   "cell_type": "code",
   "execution_count": 18,
   "id": "14c3717e",
   "metadata": {},
   "outputs": [
    {
     "data": {
      "text/html": [
       "\n",
       "            <style>\n",
       "                .geemap-dark {\n",
       "                    --jp-widgets-color: white;\n",
       "                    --jp-widgets-label-color: white;\n",
       "                    --jp-ui-font-color1: white;\n",
       "                    --jp-layout-color2: #454545;\n",
       "                    background-color: #383838;\n",
       "                }\n",
       "\n",
       "                .geemap-dark .jupyter-button {\n",
       "                    --jp-layout-color3: #383838;\n",
       "                }\n",
       "\n",
       "                .geemap-colab {\n",
       "                    background-color: var(--colab-primary-surface-color, white);\n",
       "                }\n",
       "\n",
       "                .geemap-colab .jupyter-button {\n",
       "                    --jp-layout-color3: var(--colab-primary-surface-color, white);\n",
       "                }\n",
       "            </style>\n",
       "            "
      ],
      "text/plain": [
       "<IPython.core.display.HTML object>"
      ]
     },
     "metadata": {},
     "output_type": "display_data"
    },
    {
     "name": "stdout",
     "output_type": "stream",
     "text": [
      "NDVI_var9, NDMI_var9, NDVI_var5, NDMI_var5 CRS equal to other bands:\n",
      "True\n",
      "True\n",
      "True\n",
      "True\n"
     ]
    }
   ],
   "source": [
    "# create function for mask clouds\n",
    "def mask_clouds(image):\n",
    "    '''description...'''\n",
    "    qa = image.select('QA_PIXEL')\n",
    "    cloud_shadow_bit_mask = 1 << 3\n",
    "    clouds_bit_mask = 1 << 5\n",
    "    mask = qa.bitwiseAnd(cloud_shadow_bit_mask).eq(0) \\\n",
    "        .And(qa.bitwiseAnd(clouds_bit_mask).eq(0))\n",
    "    return image.updateMask(mask)\n",
    "\n",
    "# prepare ndvi and ndmi index calculation\n",
    "def ndvi9(image):\n",
    "    '''Calculate NDVI index'''\n",
    "    return image.expression('(NIR - RED) / (NIR + RED)', {\n",
    "        'NIR': image.select('SR_B5'), \n",
    "        'RED': image.select('SR_B4')  \n",
    "    }).rename('NDVI9')\n",
    "\n",
    "def ndmi9(image):\n",
    "    '''Calculate NDMI index'''\n",
    "    return image.expression('(NIR - SWIR) / (NIR + SWIR)', {\n",
    "        'NIR': image.select('SR_B5'), \n",
    "        'SWIR': image.select('SR_B6')  \n",
    "    }).rename('NDMI9')\n",
    "\n",
    "def ndvi5(image):\n",
    "    return image.expression('(NIR - RED) / (NIR + RED)', {\n",
    "        'NIR': image.select('SR_B4'), \n",
    "        'RED': image.select('SR_B3')  \n",
    "    }).rename('NDVI5')\n",
    "\n",
    "def ndmi5(image):\n",
    "    return image.expression('(NIR - SWIR) / (NIR + SWIR)', {\n",
    "        'NIR': image.select('SR_B4'), \n",
    "        'SWIR': image.select('SR_B5')  \n",
    "    }).rename('NDMI5')\n",
    "\n",
    "# caluclaten NDVI and NDMI VARIANCE\n",
    "ndvi_variance9 = ee.ImageCollection('LANDSAT/LC09/C02/T1_L2') \\\n",
    "    .filterBounds(aoi) \\\n",
    "    .filterDate('2023-04-01', '2023-10-01') \\\n",
    "    .filter(ee.Filter.lt('CLOUD_COVER', 10)) \\\n",
    "    .map(mask_clouds) \\\n",
    "    .map(ndvi9) \\\n",
    "    .select('NDVI9') \\\n",
    "    .reduce(ee.Reducer.variance()) \\\n",
    "    .rename('NDVI_variance9') \\\n",
    "    .reproject(crs=reference.projection(), scale=reference.projection().nominalScale()) \\\n",
    "    .clip(aoi) # NDVI variance for LANDSAT 9  \n",
    "\n",
    "ndmi_variance9 = ee.ImageCollection('LANDSAT/LC09/C02/T1_L2') \\\n",
    "    .filterBounds(aoi) \\\n",
    "    .filterDate('2023-04-01', '2023-10-01') \\\n",
    "    .filter(ee.Filter.lt('CLOUD_COVER', 10)) \\\n",
    "    .map(mask_clouds) \\\n",
    "    .map(ndmi9) \\\n",
    "    .select('NDMI9') \\\n",
    "    .reduce(ee.Reducer.variance()) \\\n",
    "    .rename('NDMI_variance9') \\\n",
    "    .reproject(crs=reference.projection(), scale=reference.projection().nominalScale()) \\\n",
    "    .clip(aoi) # NDMI variance for LANDSAT 9  \n",
    "\n",
    "ndvi_variance5 = ee.ImageCollection('LANDSAT/LT05/C02/T1_L2') \\\n",
    "    .filterBounds(aoi) \\\n",
    "    .filterDate('2000-04-01', '2000-10-01') \\\n",
    "    .filter(ee.Filter.lt('CLOUD_COVER', 10)) \\\n",
    "    .map(mask_clouds) \\\n",
    "    .map(ndvi5) \\\n",
    "    .select('NDVI5') \\\n",
    "    .reduce(ee.Reducer.variance()) \\\n",
    "    .rename('NDVI_variance5') \\\n",
    "    .reproject(crs=reference.projection(), scale=reference.projection().nominalScale()) \\\n",
    "    .clip(aoi) # NDVI variance for LANDSAT 5\n",
    "\n",
    "ndmi_variance5 = ee.ImageCollection('LANDSAT/LT05/C02/T1_L2') \\\n",
    "    .filterBounds(aoi) \\\n",
    "    .filterDate('2000-04-01', '2000-10-01') \\\n",
    "    .filter(ee.Filter.lt('CLOUD_COVER', 10)) \\\n",
    "    .map(mask_clouds) \\\n",
    "    .map(ndmi5) \\\n",
    "    .select('NDMI5') \\\n",
    "    .reduce(ee.Reducer.variance()) \\\n",
    "    .rename('NDMI_variance5') \\\n",
    "    .reproject(crs=reference.projection(), scale=reference.projection().nominalScale()) \\\n",
    "    .clip(aoi) # NDMI variance for LANDSAT 5\n",
    "\n",
    "print(f'NDVI_var9, NDMI_var9, NDVI_var5, NDMI_var5 CRS equal to other bands:')\n",
    "print(ndvi_variance9.projection().getInfo() == l5.projection().getInfo()) # check if the projections are the same\n",
    "print(ndmi_variance9.projection().getInfo() == l5.projection().getInfo())\n",
    "print(ndvi_variance5.projection().getInfo() == l9.projection().getInfo())\n",
    "print(ndmi_variance5.projection().getInfo() == l9.projection().getInfo())"
   ]
  },
  {
   "cell_type": "code",
   "execution_count": 19,
   "id": "4e4ae253",
   "metadata": {},
   "outputs": [
    {
     "data": {
      "text/html": [
       "\n",
       "            <style>\n",
       "                .geemap-dark {\n",
       "                    --jp-widgets-color: white;\n",
       "                    --jp-widgets-label-color: white;\n",
       "                    --jp-ui-font-color1: white;\n",
       "                    --jp-layout-color2: #454545;\n",
       "                    background-color: #383838;\n",
       "                }\n",
       "\n",
       "                .geemap-dark .jupyter-button {\n",
       "                    --jp-layout-color3: #383838;\n",
       "                }\n",
       "\n",
       "                .geemap-colab {\n",
       "                    background-color: var(--colab-primary-surface-color, white);\n",
       "                }\n",
       "\n",
       "                .geemap-colab .jupyter-button {\n",
       "                    --jp-layout-color3: var(--colab-primary-surface-color, white);\n",
       "                }\n",
       "            </style>\n",
       "            "
      ],
      "text/plain": [
       "<IPython.core.display.HTML object>"
      ]
     },
     "metadata": {},
     "output_type": "display_data"
    }
   ],
   "source": [
    "# Pro Landsat 5 (target)\n",
    "l5_ndvi = ndvi5(l5).reproject(crs=reference.projection(), scale=reference.projection().nominalScale())\n",
    "l5_ndmi = ndmi5(l5).reproject(crs=reference.projection(), scale=reference.projection().nominalScale())\n",
    "\n",
    "# Pro Landsat 9 (reference_new)\n",
    "l9_ndvi = ndvi9(l9).reproject(crs=reference.projection(), scale=reference.projection().nominalScale())\n",
    "l9_ndmi = ndmi9(l9).reproject(crs=reference.projection(), scale=reference.projection().nominalScale())"
   ]
  },
  {
   "cell_type": "code",
   "execution_count": 20,
   "id": "955ffa57",
   "metadata": {},
   "outputs": [
    {
     "data": {
      "text/html": [
       "\n",
       "            <style>\n",
       "                .geemap-dark {\n",
       "                    --jp-widgets-color: white;\n",
       "                    --jp-widgets-label-color: white;\n",
       "                    --jp-ui-font-color1: white;\n",
       "                    --jp-layout-color2: #454545;\n",
       "                    background-color: #383838;\n",
       "                }\n",
       "\n",
       "                .geemap-dark .jupyter-button {\n",
       "                    --jp-layout-color3: #383838;\n",
       "                }\n",
       "\n",
       "                .geemap-colab {\n",
       "                    background-color: var(--colab-primary-surface-color, white);\n",
       "                }\n",
       "\n",
       "                .geemap-colab .jupyter-button {\n",
       "                    --jp-layout-color3: var(--colab-primary-surface-color, white);\n",
       "                }\n",
       "            </style>\n",
       "            "
      ],
      "text/plain": [
       "<IPython.core.display.HTML object>"
      ]
     },
     "metadata": {},
     "output_type": "display_data"
    }
   ],
   "source": [
    "# rename bands\n",
    "#bands_pif = ee.List([ee.String('pif_B2'), ee.String('pif_B3'), ee.String('pif_B4'), ee.String('pif_B5'), ee.String('pif_B6')])\n",
    "bands_l5 = ee.List([ee.String('l5_B2'), ee.String('l5_B3'), ee.String('l5_B4'), ee.String('l5_B5'), ee.String('l5_B6'), ee.String('l5_B7')])\n",
    "bands_l9 = ee.List([ee.String('l9_B2'), ee.String('l9_B3'), ee.String('l9_B4'), ee.String('l9_B5'), ee.String('l9_B6'), ee.String('l9_B7')])\n",
    "\n",
    "#l5_pif = matched_image.select(bands).rename(bands_pif)\n",
    "l9 = l9.select(bands).rename(bands_l9)\n",
    "l5 = l5.select(bands).rename(bands_l5)\n",
    "\n",
    "# reproject l9 to l9 crs\n",
    "l9 = l9.reproject(crs = reference.projection(), scale=reference.projection().nominalScale())\n",
    "l5 = l5.reproject(crs = reference.projection(), scale=reference.projection().nominalScale())\n",
    "l5_pif = l5_pif.reproject(crs = reference.projection(), scale=reference.projection().nominalScale())"
   ]
  },
  {
   "cell_type": "code",
   "execution_count": 21,
   "id": "c53d1fc8",
   "metadata": {},
   "outputs": [
    {
     "data": {
      "text/html": [
       "\n",
       "            <style>\n",
       "                .geemap-dark {\n",
       "                    --jp-widgets-color: white;\n",
       "                    --jp-widgets-label-color: white;\n",
       "                    --jp-ui-font-color1: white;\n",
       "                    --jp-layout-color2: #454545;\n",
       "                    background-color: #383838;\n",
       "                }\n",
       "\n",
       "                .geemap-dark .jupyter-button {\n",
       "                    --jp-layout-color3: #383838;\n",
       "                }\n",
       "\n",
       "                .geemap-colab {\n",
       "                    background-color: var(--colab-primary-surface-color, white);\n",
       "                }\n",
       "\n",
       "                .geemap-colab .jupyter-button {\n",
       "                    --jp-layout-color3: var(--colab-primary-surface-color, white);\n",
       "                }\n",
       "            </style>\n",
       "            "
      ],
      "text/plain": [
       "<IPython.core.display.HTML object>"
      ]
     },
     "metadata": {},
     "output_type": "display_data"
    }
   ],
   "source": [
    "# merge all bands into one\n",
    "l9 = l9.clip(aoi)\n",
    "all_bands = l9.cat(l9.clip(aoi), l5.clip(aoi), l5_pif.clip(aoi), noChangeMask.clip(aoi)) # \n",
    "all_bands_srtm = all_bands.addBands(srtm_repr).addBands(slope).addBands(aspect)\n",
    "all_bands_srtm_var = all_bands_srtm.addBands(ndvi_variance9).addBands(ndmi_variance9).addBands(ndvi_variance5).addBands(ndmi_variance5)\n",
    "all_bands_srtm_var_ind = all_bands_srtm_var.addBands(l9_ndvi).addBands(l9_ndmi).addBands(l5_ndvi).addBands(l5_ndmi)\n",
    "all_bands_reproj = all_bands_srtm_var_ind.reproject(crs=reference.projection(), scale=reference.projection().nominalScale())\n",
    "all_bands_fl = all_bands_reproj.toFloat().setDefaultProjection(crs=reference.projection())"
   ]
  },
  {
   "cell_type": "code",
   "execution_count": 22,
   "id": "5d931ec1",
   "metadata": {},
   "outputs": [
    {
     "data": {
      "text/html": [
       "\n",
       "            <style>\n",
       "                .geemap-dark {\n",
       "                    --jp-widgets-color: white;\n",
       "                    --jp-widgets-label-color: white;\n",
       "                    --jp-ui-font-color1: white;\n",
       "                    --jp-layout-color2: #454545;\n",
       "                    background-color: #383838;\n",
       "                }\n",
       "\n",
       "                .geemap-dark .jupyter-button {\n",
       "                    --jp-layout-color3: #383838;\n",
       "                }\n",
       "\n",
       "                .geemap-colab {\n",
       "                    background-color: var(--colab-primary-surface-color, white);\n",
       "                }\n",
       "\n",
       "                .geemap-colab .jupyter-button {\n",
       "                    --jp-layout-color3: var(--colab-primary-surface-color, white);\n",
       "                }\n",
       "            </style>\n",
       "            "
      ],
      "text/plain": [
       "<IPython.core.display.HTML object>"
      ]
     },
     "metadata": {},
     "output_type": "display_data"
    },
    {
     "data": {
      "text/html": [
       "<div><style>:root {\n",
       "  --font-color-primary: var(--jp-content-font-color0, rgba(0, 0, 0, 1));\n",
       "  --font-color-secondary: var(--jp-content-font-color2, rgba(0, 0, 0, 0.7));\n",
       "  --font-color-accent: rgba(123, 31, 162, 1);\n",
       "  --border-color: var(--jp-border-color2, #e0e0e0);\n",
       "  --background-color: var(--jp-layout-color0, white);\n",
       "  --background-color-row-even: var(--jp-layout-color1, white);\n",
       "  --background-color-row-odd: var(--jp-layout-color2, #eeeeee);\n",
       "}\n",
       "\n",
       "html[theme=\"dark\"],\n",
       "body[data-theme=\"dark\"],\n",
       "body.vscode-dark {\n",
       "  --font-color-primary: rgba(255, 255, 255, 1);\n",
       "  --font-color-secondary: rgba(255, 255, 255, 0.7);\n",
       "  --font-color-accent: rgb(173, 132, 190);\n",
       "  --border-color: #2e2e2e;\n",
       "  --background-color: #111111;\n",
       "  --background-color-row-even: #111111;\n",
       "  --background-color-row-odd: #313131;\n",
       "}\n",
       "\n",
       ".eerepr {\n",
       "  padding: 1em;\n",
       "  line-height: 1.5em;\n",
       "  min-width: 300px;\n",
       "  max-width: 1200px;\n",
       "  overflow-y: scroll;\n",
       "  max-height: 600px;\n",
       "  border: 1px solid var(--border-color);\n",
       "  font-family: monospace;\n",
       "  font-size: 14px;\n",
       "}\n",
       "\n",
       ".eerepr li {\n",
       "  list-style-type: none;\n",
       "  margin: 0;\n",
       "}\n",
       "\n",
       ".eerepr ul {\n",
       "  padding-left: 1.5em !important;\n",
       "  margin: 0;\n",
       "}\n",
       "\n",
       ".eerepr > ul {\n",
       "  padding-left: 0 !important;\n",
       "}\n",
       "\n",
       ".eerepr summary {\n",
       "  color: var(--font-color-secondary);\n",
       "  cursor: pointer;\n",
       "  margin: 0;\n",
       "}\n",
       "\n",
       ".eerepr summary:hover {\n",
       "  color: var(--font-color-primary);\n",
       "  background-color: var(--background-color-row-odd)\n",
       "}\n",
       "\n",
       ".ee-k {\n",
       "  color: var(--font-color-accent);\n",
       "  margin-right: 6px;\n",
       "}\n",
       "\n",
       ".ee-v {\n",
       "  color: var(--font-color-primary);\n",
       "}\n",
       "\n",
       ".eerepr details > summary::before {\n",
       "  content: '▼';\n",
       "  display: inline-block;\n",
       "  margin-right: 6px;\n",
       "  transition: transform 0.2s;\n",
       "  transform: rotate(-90deg);\n",
       "}\n",
       "\n",
       ".eerepr details[open] > summary::before {\n",
       "  transform: rotate(0deg);\n",
       "}\n",
       "\n",
       ".eerepr details summary::-webkit-details-marker {\n",
       "  display:none;\n",
       "}\n",
       "\n",
       ".eerepr details summary {\n",
       "  list-style-type: none;\n",
       "}\n",
       "</style><div class='eerepr'><ul><li><details><summary>Image LANDSAT/LC09/C02/T1_L2/LC09_191025_20230917 (30 bands)</summary><ul><li><span class='ee-k'>type:</span><span class='ee-v'>Image</span></li><li><span class='ee-k'>id:</span><span class='ee-v'>LANDSAT/LC09/C02/T1_L2/LC09_191025_20230917</span></li><li><span class='ee-k'>version:</span><span class='ee-v'>1742931925338335</span></li><li><details><summary>bands: List (30 elements)</summary><ul><li><details><summary>0: \"l9_B2\", float, EPSG:32633, 1448x971 px</summary><ul><li><span class='ee-k'>id:</span><span class='ee-v'>l9_B2</span></li><li><span class='ee-k'>crs:</span><span class='ee-v'>EPSG:32633</span></li><li><details><summary>crs_transform: [30, 0, 401385, 0, -30, 5688915]</summary><ul><li><span class='ee-k'>0:</span><span class='ee-v'>30</span></li><li><span class='ee-k'>1:</span><span class='ee-v'>0</span></li><li><span class='ee-k'>2:</span><span class='ee-v'>401385</span></li><li><span class='ee-k'>3:</span><span class='ee-v'>0</span></li><li><span class='ee-k'>4:</span><span class='ee-v'>-30</span></li><li><span class='ee-k'>5:</span><span class='ee-v'>5688915</span></li></ul></details></li><li><details><summary>data_type: float</summary><ul><li><span class='ee-k'>type:</span><span class='ee-v'>PixelType</span></li><li><span class='ee-k'>precision:</span><span class='ee-v'>float</span></li></ul></details></li><li><details><summary>dimensions: [1448, 971]</summary><ul><li><span class='ee-k'>0:</span><span class='ee-v'>1448</span></li><li><span class='ee-k'>1:</span><span class='ee-v'>971</span></li></ul></details></li><li><details><summary>origin: [2503, 4678]</summary><ul><li><span class='ee-k'>0:</span><span class='ee-v'>2503</span></li><li><span class='ee-k'>1:</span><span class='ee-v'>4678</span></li></ul></details></li></ul></details></li><li><details><summary>1: \"l9_B3\", float, EPSG:32633, 1448x971 px</summary><ul><li><span class='ee-k'>id:</span><span class='ee-v'>l9_B3</span></li><li><span class='ee-k'>crs:</span><span class='ee-v'>EPSG:32633</span></li><li><details><summary>crs_transform: [30, 0, 401385, 0, -30, 5688915]</summary><ul><li><span class='ee-k'>0:</span><span class='ee-v'>30</span></li><li><span class='ee-k'>1:</span><span class='ee-v'>0</span></li><li><span class='ee-k'>2:</span><span class='ee-v'>401385</span></li><li><span class='ee-k'>3:</span><span class='ee-v'>0</span></li><li><span class='ee-k'>4:</span><span class='ee-v'>-30</span></li><li><span class='ee-k'>5:</span><span class='ee-v'>5688915</span></li></ul></details></li><li><details><summary>data_type: float</summary><ul><li><span class='ee-k'>type:</span><span class='ee-v'>PixelType</span></li><li><span class='ee-k'>precision:</span><span class='ee-v'>float</span></li></ul></details></li><li><details><summary>dimensions: [1448, 971]</summary><ul><li><span class='ee-k'>0:</span><span class='ee-v'>1448</span></li><li><span class='ee-k'>1:</span><span class='ee-v'>971</span></li></ul></details></li><li><details><summary>origin: [2503, 4678]</summary><ul><li><span class='ee-k'>0:</span><span class='ee-v'>2503</span></li><li><span class='ee-k'>1:</span><span class='ee-v'>4678</span></li></ul></details></li></ul></details></li><li><details><summary>2: \"l9_B4\", float, EPSG:32633, 1448x971 px</summary><ul><li><span class='ee-k'>id:</span><span class='ee-v'>l9_B4</span></li><li><span class='ee-k'>crs:</span><span class='ee-v'>EPSG:32633</span></li><li><details><summary>crs_transform: [30, 0, 401385, 0, -30, 5688915]</summary><ul><li><span class='ee-k'>0:</span><span class='ee-v'>30</span></li><li><span class='ee-k'>1:</span><span class='ee-v'>0</span></li><li><span class='ee-k'>2:</span><span class='ee-v'>401385</span></li><li><span class='ee-k'>3:</span><span class='ee-v'>0</span></li><li><span class='ee-k'>4:</span><span class='ee-v'>-30</span></li><li><span class='ee-k'>5:</span><span class='ee-v'>5688915</span></li></ul></details></li><li><details><summary>data_type: float</summary><ul><li><span class='ee-k'>type:</span><span class='ee-v'>PixelType</span></li><li><span class='ee-k'>precision:</span><span class='ee-v'>float</span></li></ul></details></li><li><details><summary>dimensions: [1448, 971]</summary><ul><li><span class='ee-k'>0:</span><span class='ee-v'>1448</span></li><li><span class='ee-k'>1:</span><span class='ee-v'>971</span></li></ul></details></li><li><details><summary>origin: [2503, 4678]</summary><ul><li><span class='ee-k'>0:</span><span class='ee-v'>2503</span></li><li><span class='ee-k'>1:</span><span class='ee-v'>4678</span></li></ul></details></li></ul></details></li><li><details><summary>3: \"l9_B5\", float, EPSG:32633, 1448x971 px</summary><ul><li><span class='ee-k'>id:</span><span class='ee-v'>l9_B5</span></li><li><span class='ee-k'>crs:</span><span class='ee-v'>EPSG:32633</span></li><li><details><summary>crs_transform: [30, 0, 401385, 0, -30, 5688915]</summary><ul><li><span class='ee-k'>0:</span><span class='ee-v'>30</span></li><li><span class='ee-k'>1:</span><span class='ee-v'>0</span></li><li><span class='ee-k'>2:</span><span class='ee-v'>401385</span></li><li><span class='ee-k'>3:</span><span class='ee-v'>0</span></li><li><span class='ee-k'>4:</span><span class='ee-v'>-30</span></li><li><span class='ee-k'>5:</span><span class='ee-v'>5688915</span></li></ul></details></li><li><details><summary>data_type: float</summary><ul><li><span class='ee-k'>type:</span><span class='ee-v'>PixelType</span></li><li><span class='ee-k'>precision:</span><span class='ee-v'>float</span></li></ul></details></li><li><details><summary>dimensions: [1448, 971]</summary><ul><li><span class='ee-k'>0:</span><span class='ee-v'>1448</span></li><li><span class='ee-k'>1:</span><span class='ee-v'>971</span></li></ul></details></li><li><details><summary>origin: [2503, 4678]</summary><ul><li><span class='ee-k'>0:</span><span class='ee-v'>2503</span></li><li><span class='ee-k'>1:</span><span class='ee-v'>4678</span></li></ul></details></li></ul></details></li><li><details><summary>4: \"l9_B6\", float, EPSG:32633, 1448x971 px</summary><ul><li><span class='ee-k'>id:</span><span class='ee-v'>l9_B6</span></li><li><span class='ee-k'>crs:</span><span class='ee-v'>EPSG:32633</span></li><li><details><summary>crs_transform: [30, 0, 401385, 0, -30, 5688915]</summary><ul><li><span class='ee-k'>0:</span><span class='ee-v'>30</span></li><li><span class='ee-k'>1:</span><span class='ee-v'>0</span></li><li><span class='ee-k'>2:</span><span class='ee-v'>401385</span></li><li><span class='ee-k'>3:</span><span class='ee-v'>0</span></li><li><span class='ee-k'>4:</span><span class='ee-v'>-30</span></li><li><span class='ee-k'>5:</span><span class='ee-v'>5688915</span></li></ul></details></li><li><details><summary>data_type: float</summary><ul><li><span class='ee-k'>type:</span><span class='ee-v'>PixelType</span></li><li><span class='ee-k'>precision:</span><span class='ee-v'>float</span></li></ul></details></li><li><details><summary>dimensions: [1448, 971]</summary><ul><li><span class='ee-k'>0:</span><span class='ee-v'>1448</span></li><li><span class='ee-k'>1:</span><span class='ee-v'>971</span></li></ul></details></li><li><details><summary>origin: [2503, 4678]</summary><ul><li><span class='ee-k'>0:</span><span class='ee-v'>2503</span></li><li><span class='ee-k'>1:</span><span class='ee-v'>4678</span></li></ul></details></li></ul></details></li><li><details><summary>5: \"l9_B7\", float, EPSG:32633, 1448x971 px</summary><ul><li><span class='ee-k'>id:</span><span class='ee-v'>l9_B7</span></li><li><span class='ee-k'>crs:</span><span class='ee-v'>EPSG:32633</span></li><li><details><summary>crs_transform: [30, 0, 401385, 0, -30, 5688915]</summary><ul><li><span class='ee-k'>0:</span><span class='ee-v'>30</span></li><li><span class='ee-k'>1:</span><span class='ee-v'>0</span></li><li><span class='ee-k'>2:</span><span class='ee-v'>401385</span></li><li><span class='ee-k'>3:</span><span class='ee-v'>0</span></li><li><span class='ee-k'>4:</span><span class='ee-v'>-30</span></li><li><span class='ee-k'>5:</span><span class='ee-v'>5688915</span></li></ul></details></li><li><details><summary>data_type: float</summary><ul><li><span class='ee-k'>type:</span><span class='ee-v'>PixelType</span></li><li><span class='ee-k'>precision:</span><span class='ee-v'>float</span></li></ul></details></li><li><details><summary>dimensions: [1448, 971]</summary><ul><li><span class='ee-k'>0:</span><span class='ee-v'>1448</span></li><li><span class='ee-k'>1:</span><span class='ee-v'>971</span></li></ul></details></li><li><details><summary>origin: [2503, 4678]</summary><ul><li><span class='ee-k'>0:</span><span class='ee-v'>2503</span></li><li><span class='ee-k'>1:</span><span class='ee-v'>4678</span></li></ul></details></li></ul></details></li><li><details><summary>6: \"l5_B2\", float, EPSG:32633, 1448x971 px</summary><ul><li><span class='ee-k'>id:</span><span class='ee-v'>l5_B2</span></li><li><span class='ee-k'>crs:</span><span class='ee-v'>EPSG:32633</span></li><li><details><summary>crs_transform: [30, 0, 401385, 0, -30, 5688915]</summary><ul><li><span class='ee-k'>0:</span><span class='ee-v'>30</span></li><li><span class='ee-k'>1:</span><span class='ee-v'>0</span></li><li><span class='ee-k'>2:</span><span class='ee-v'>401385</span></li><li><span class='ee-k'>3:</span><span class='ee-v'>0</span></li><li><span class='ee-k'>4:</span><span class='ee-v'>-30</span></li><li><span class='ee-k'>5:</span><span class='ee-v'>5688915</span></li></ul></details></li><li><details><summary>data_type: float</summary><ul><li><span class='ee-k'>type:</span><span class='ee-v'>PixelType</span></li><li><span class='ee-k'>precision:</span><span class='ee-v'>float</span></li></ul></details></li><li><details><summary>dimensions: [1448, 971]</summary><ul><li><span class='ee-k'>0:</span><span class='ee-v'>1448</span></li><li><span class='ee-k'>1:</span><span class='ee-v'>971</span></li></ul></details></li><li><details><summary>origin: [2503, 4678]</summary><ul><li><span class='ee-k'>0:</span><span class='ee-v'>2503</span></li><li><span class='ee-k'>1:</span><span class='ee-v'>4678</span></li></ul></details></li></ul></details></li><li><details><summary>7: \"l5_B3\", float, EPSG:32633, 1448x971 px</summary><ul><li><span class='ee-k'>id:</span><span class='ee-v'>l5_B3</span></li><li><span class='ee-k'>crs:</span><span class='ee-v'>EPSG:32633</span></li><li><details><summary>crs_transform: [30, 0, 401385, 0, -30, 5688915]</summary><ul><li><span class='ee-k'>0:</span><span class='ee-v'>30</span></li><li><span class='ee-k'>1:</span><span class='ee-v'>0</span></li><li><span class='ee-k'>2:</span><span class='ee-v'>401385</span></li><li><span class='ee-k'>3:</span><span class='ee-v'>0</span></li><li><span class='ee-k'>4:</span><span class='ee-v'>-30</span></li><li><span class='ee-k'>5:</span><span class='ee-v'>5688915</span></li></ul></details></li><li><details><summary>data_type: float</summary><ul><li><span class='ee-k'>type:</span><span class='ee-v'>PixelType</span></li><li><span class='ee-k'>precision:</span><span class='ee-v'>float</span></li></ul></details></li><li><details><summary>dimensions: [1448, 971]</summary><ul><li><span class='ee-k'>0:</span><span class='ee-v'>1448</span></li><li><span class='ee-k'>1:</span><span class='ee-v'>971</span></li></ul></details></li><li><details><summary>origin: [2503, 4678]</summary><ul><li><span class='ee-k'>0:</span><span class='ee-v'>2503</span></li><li><span class='ee-k'>1:</span><span class='ee-v'>4678</span></li></ul></details></li></ul></details></li><li><details><summary>8: \"l5_B4\", float, EPSG:32633, 1448x971 px</summary><ul><li><span class='ee-k'>id:</span><span class='ee-v'>l5_B4</span></li><li><span class='ee-k'>crs:</span><span class='ee-v'>EPSG:32633</span></li><li><details><summary>crs_transform: [30, 0, 401385, 0, -30, 5688915]</summary><ul><li><span class='ee-k'>0:</span><span class='ee-v'>30</span></li><li><span class='ee-k'>1:</span><span class='ee-v'>0</span></li><li><span class='ee-k'>2:</span><span class='ee-v'>401385</span></li><li><span class='ee-k'>3:</span><span class='ee-v'>0</span></li><li><span class='ee-k'>4:</span><span class='ee-v'>-30</span></li><li><span class='ee-k'>5:</span><span class='ee-v'>5688915</span></li></ul></details></li><li><details><summary>data_type: float</summary><ul><li><span class='ee-k'>type:</span><span class='ee-v'>PixelType</span></li><li><span class='ee-k'>precision:</span><span class='ee-v'>float</span></li></ul></details></li><li><details><summary>dimensions: [1448, 971]</summary><ul><li><span class='ee-k'>0:</span><span class='ee-v'>1448</span></li><li><span class='ee-k'>1:</span><span class='ee-v'>971</span></li></ul></details></li><li><details><summary>origin: [2503, 4678]</summary><ul><li><span class='ee-k'>0:</span><span class='ee-v'>2503</span></li><li><span class='ee-k'>1:</span><span class='ee-v'>4678</span></li></ul></details></li></ul></details></li><li><details><summary>9: \"l5_B5\", float, EPSG:32633, 1448x971 px</summary><ul><li><span class='ee-k'>id:</span><span class='ee-v'>l5_B5</span></li><li><span class='ee-k'>crs:</span><span class='ee-v'>EPSG:32633</span></li><li><details><summary>crs_transform: [30, 0, 401385, 0, -30, 5688915]</summary><ul><li><span class='ee-k'>0:</span><span class='ee-v'>30</span></li><li><span class='ee-k'>1:</span><span class='ee-v'>0</span></li><li><span class='ee-k'>2:</span><span class='ee-v'>401385</span></li><li><span class='ee-k'>3:</span><span class='ee-v'>0</span></li><li><span class='ee-k'>4:</span><span class='ee-v'>-30</span></li><li><span class='ee-k'>5:</span><span class='ee-v'>5688915</span></li></ul></details></li><li><details><summary>data_type: float</summary><ul><li><span class='ee-k'>type:</span><span class='ee-v'>PixelType</span></li><li><span class='ee-k'>precision:</span><span class='ee-v'>float</span></li></ul></details></li><li><details><summary>dimensions: [1448, 971]</summary><ul><li><span class='ee-k'>0:</span><span class='ee-v'>1448</span></li><li><span class='ee-k'>1:</span><span class='ee-v'>971</span></li></ul></details></li><li><details><summary>origin: [2503, 4678]</summary><ul><li><span class='ee-k'>0:</span><span class='ee-v'>2503</span></li><li><span class='ee-k'>1:</span><span class='ee-v'>4678</span></li></ul></details></li></ul></details></li><li><details><summary>10: \"l5_B6\", float, EPSG:32633, 1448x971 px</summary><ul><li><span class='ee-k'>id:</span><span class='ee-v'>l5_B6</span></li><li><span class='ee-k'>crs:</span><span class='ee-v'>EPSG:32633</span></li><li><details><summary>crs_transform: [30, 0, 401385, 0, -30, 5688915]</summary><ul><li><span class='ee-k'>0:</span><span class='ee-v'>30</span></li><li><span class='ee-k'>1:</span><span class='ee-v'>0</span></li><li><span class='ee-k'>2:</span><span class='ee-v'>401385</span></li><li><span class='ee-k'>3:</span><span class='ee-v'>0</span></li><li><span class='ee-k'>4:</span><span class='ee-v'>-30</span></li><li><span class='ee-k'>5:</span><span class='ee-v'>5688915</span></li></ul></details></li><li><details><summary>data_type: float</summary><ul><li><span class='ee-k'>type:</span><span class='ee-v'>PixelType</span></li><li><span class='ee-k'>precision:</span><span class='ee-v'>float</span></li></ul></details></li><li><details><summary>dimensions: [1448, 971]</summary><ul><li><span class='ee-k'>0:</span><span class='ee-v'>1448</span></li><li><span class='ee-k'>1:</span><span class='ee-v'>971</span></li></ul></details></li><li><details><summary>origin: [2503, 4678]</summary><ul><li><span class='ee-k'>0:</span><span class='ee-v'>2503</span></li><li><span class='ee-k'>1:</span><span class='ee-v'>4678</span></li></ul></details></li></ul></details></li><li><details><summary>11: \"l5_B7\", float, EPSG:32633, 1448x971 px</summary><ul><li><span class='ee-k'>id:</span><span class='ee-v'>l5_B7</span></li><li><span class='ee-k'>crs:</span><span class='ee-v'>EPSG:32633</span></li><li><details><summary>crs_transform: [30, 0, 401385, 0, -30, 5688915]</summary><ul><li><span class='ee-k'>0:</span><span class='ee-v'>30</span></li><li><span class='ee-k'>1:</span><span class='ee-v'>0</span></li><li><span class='ee-k'>2:</span><span class='ee-v'>401385</span></li><li><span class='ee-k'>3:</span><span class='ee-v'>0</span></li><li><span class='ee-k'>4:</span><span class='ee-v'>-30</span></li><li><span class='ee-k'>5:</span><span class='ee-v'>5688915</span></li></ul></details></li><li><details><summary>data_type: float</summary><ul><li><span class='ee-k'>type:</span><span class='ee-v'>PixelType</span></li><li><span class='ee-k'>precision:</span><span class='ee-v'>float</span></li></ul></details></li><li><details><summary>dimensions: [1448, 971]</summary><ul><li><span class='ee-k'>0:</span><span class='ee-v'>1448</span></li><li><span class='ee-k'>1:</span><span class='ee-v'>971</span></li></ul></details></li><li><details><summary>origin: [2503, 4678]</summary><ul><li><span class='ee-k'>0:</span><span class='ee-v'>2503</span></li><li><span class='ee-k'>1:</span><span class='ee-v'>4678</span></li></ul></details></li></ul></details></li><li><details><summary>12: \"pif_B2\", float, EPSG:32633, 1448x971 px</summary><ul><li><span class='ee-k'>id:</span><span class='ee-v'>pif_B2</span></li><li><span class='ee-k'>crs:</span><span class='ee-v'>EPSG:32633</span></li><li><details><summary>crs_transform: [30, 0, 401385, 0, -30, 5688915]</summary><ul><li><span class='ee-k'>0:</span><span class='ee-v'>30</span></li><li><span class='ee-k'>1:</span><span class='ee-v'>0</span></li><li><span class='ee-k'>2:</span><span class='ee-v'>401385</span></li><li><span class='ee-k'>3:</span><span class='ee-v'>0</span></li><li><span class='ee-k'>4:</span><span class='ee-v'>-30</span></li><li><span class='ee-k'>5:</span><span class='ee-v'>5688915</span></li></ul></details></li><li><details><summary>data_type: float</summary><ul><li><span class='ee-k'>type:</span><span class='ee-v'>PixelType</span></li><li><span class='ee-k'>precision:</span><span class='ee-v'>float</span></li></ul></details></li><li><details><summary>dimensions: [1448, 971]</summary><ul><li><span class='ee-k'>0:</span><span class='ee-v'>1448</span></li><li><span class='ee-k'>1:</span><span class='ee-v'>971</span></li></ul></details></li><li><details><summary>origin: [2503, 4678]</summary><ul><li><span class='ee-k'>0:</span><span class='ee-v'>2503</span></li><li><span class='ee-k'>1:</span><span class='ee-v'>4678</span></li></ul></details></li></ul></details></li><li><details><summary>13: \"pif_B3\", float, EPSG:32633, 1448x971 px</summary><ul><li><span class='ee-k'>id:</span><span class='ee-v'>pif_B3</span></li><li><span class='ee-k'>crs:</span><span class='ee-v'>EPSG:32633</span></li><li><details><summary>crs_transform: [30, 0, 401385, 0, -30, 5688915]</summary><ul><li><span class='ee-k'>0:</span><span class='ee-v'>30</span></li><li><span class='ee-k'>1:</span><span class='ee-v'>0</span></li><li><span class='ee-k'>2:</span><span class='ee-v'>401385</span></li><li><span class='ee-k'>3:</span><span class='ee-v'>0</span></li><li><span class='ee-k'>4:</span><span class='ee-v'>-30</span></li><li><span class='ee-k'>5:</span><span class='ee-v'>5688915</span></li></ul></details></li><li><details><summary>data_type: float</summary><ul><li><span class='ee-k'>type:</span><span class='ee-v'>PixelType</span></li><li><span class='ee-k'>precision:</span><span class='ee-v'>float</span></li></ul></details></li><li><details><summary>dimensions: [1448, 971]</summary><ul><li><span class='ee-k'>0:</span><span class='ee-v'>1448</span></li><li><span class='ee-k'>1:</span><span class='ee-v'>971</span></li></ul></details></li><li><details><summary>origin: [2503, 4678]</summary><ul><li><span class='ee-k'>0:</span><span class='ee-v'>2503</span></li><li><span class='ee-k'>1:</span><span class='ee-v'>4678</span></li></ul></details></li></ul></details></li><li><details><summary>14: \"pif_B4\", float, EPSG:32633, 1448x971 px</summary><ul><li><span class='ee-k'>id:</span><span class='ee-v'>pif_B4</span></li><li><span class='ee-k'>crs:</span><span class='ee-v'>EPSG:32633</span></li><li><details><summary>crs_transform: [30, 0, 401385, 0, -30, 5688915]</summary><ul><li><span class='ee-k'>0:</span><span class='ee-v'>30</span></li><li><span class='ee-k'>1:</span><span class='ee-v'>0</span></li><li><span class='ee-k'>2:</span><span class='ee-v'>401385</span></li><li><span class='ee-k'>3:</span><span class='ee-v'>0</span></li><li><span class='ee-k'>4:</span><span class='ee-v'>-30</span></li><li><span class='ee-k'>5:</span><span class='ee-v'>5688915</span></li></ul></details></li><li><details><summary>data_type: float</summary><ul><li><span class='ee-k'>type:</span><span class='ee-v'>PixelType</span></li><li><span class='ee-k'>precision:</span><span class='ee-v'>float</span></li></ul></details></li><li><details><summary>dimensions: [1448, 971]</summary><ul><li><span class='ee-k'>0:</span><span class='ee-v'>1448</span></li><li><span class='ee-k'>1:</span><span class='ee-v'>971</span></li></ul></details></li><li><details><summary>origin: [2503, 4678]</summary><ul><li><span class='ee-k'>0:</span><span class='ee-v'>2503</span></li><li><span class='ee-k'>1:</span><span class='ee-v'>4678</span></li></ul></details></li></ul></details></li><li><details><summary>15: \"pif_B5\", float, EPSG:32633, 1448x971 px</summary><ul><li><span class='ee-k'>id:</span><span class='ee-v'>pif_B5</span></li><li><span class='ee-k'>crs:</span><span class='ee-v'>EPSG:32633</span></li><li><details><summary>crs_transform: [30, 0, 401385, 0, -30, 5688915]</summary><ul><li><span class='ee-k'>0:</span><span class='ee-v'>30</span></li><li><span class='ee-k'>1:</span><span class='ee-v'>0</span></li><li><span class='ee-k'>2:</span><span class='ee-v'>401385</span></li><li><span class='ee-k'>3:</span><span class='ee-v'>0</span></li><li><span class='ee-k'>4:</span><span class='ee-v'>-30</span></li><li><span class='ee-k'>5:</span><span class='ee-v'>5688915</span></li></ul></details></li><li><details><summary>data_type: float</summary><ul><li><span class='ee-k'>type:</span><span class='ee-v'>PixelType</span></li><li><span class='ee-k'>precision:</span><span class='ee-v'>float</span></li></ul></details></li><li><details><summary>dimensions: [1448, 971]</summary><ul><li><span class='ee-k'>0:</span><span class='ee-v'>1448</span></li><li><span class='ee-k'>1:</span><span class='ee-v'>971</span></li></ul></details></li><li><details><summary>origin: [2503, 4678]</summary><ul><li><span class='ee-k'>0:</span><span class='ee-v'>2503</span></li><li><span class='ee-k'>1:</span><span class='ee-v'>4678</span></li></ul></details></li></ul></details></li><li><details><summary>16: \"pif_B6\", float, EPSG:32633, 1448x971 px</summary><ul><li><span class='ee-k'>id:</span><span class='ee-v'>pif_B6</span></li><li><span class='ee-k'>crs:</span><span class='ee-v'>EPSG:32633</span></li><li><details><summary>crs_transform: [30, 0, 401385, 0, -30, 5688915]</summary><ul><li><span class='ee-k'>0:</span><span class='ee-v'>30</span></li><li><span class='ee-k'>1:</span><span class='ee-v'>0</span></li><li><span class='ee-k'>2:</span><span class='ee-v'>401385</span></li><li><span class='ee-k'>3:</span><span class='ee-v'>0</span></li><li><span class='ee-k'>4:</span><span class='ee-v'>-30</span></li><li><span class='ee-k'>5:</span><span class='ee-v'>5688915</span></li></ul></details></li><li><details><summary>data_type: float</summary><ul><li><span class='ee-k'>type:</span><span class='ee-v'>PixelType</span></li><li><span class='ee-k'>precision:</span><span class='ee-v'>float</span></li></ul></details></li><li><details><summary>dimensions: [1448, 971]</summary><ul><li><span class='ee-k'>0:</span><span class='ee-v'>1448</span></li><li><span class='ee-k'>1:</span><span class='ee-v'>971</span></li></ul></details></li><li><details><summary>origin: [2503, 4678]</summary><ul><li><span class='ee-k'>0:</span><span class='ee-v'>2503</span></li><li><span class='ee-k'>1:</span><span class='ee-v'>4678</span></li></ul></details></li></ul></details></li><li><details><summary>17: \"SR_B7\", float, EPSG:32633, 1448x971 px</summary><ul><li><span class='ee-k'>id:</span><span class='ee-v'>SR_B7</span></li><li><span class='ee-k'>crs:</span><span class='ee-v'>EPSG:32633</span></li><li><details><summary>crs_transform: [30, 0, 401385, 0, -30, 5688915]</summary><ul><li><span class='ee-k'>0:</span><span class='ee-v'>30</span></li><li><span class='ee-k'>1:</span><span class='ee-v'>0</span></li><li><span class='ee-k'>2:</span><span class='ee-v'>401385</span></li><li><span class='ee-k'>3:</span><span class='ee-v'>0</span></li><li><span class='ee-k'>4:</span><span class='ee-v'>-30</span></li><li><span class='ee-k'>5:</span><span class='ee-v'>5688915</span></li></ul></details></li><li><details><summary>data_type: float</summary><ul><li><span class='ee-k'>type:</span><span class='ee-v'>PixelType</span></li><li><span class='ee-k'>precision:</span><span class='ee-v'>float</span></li></ul></details></li><li><details><summary>dimensions: [1448, 971]</summary><ul><li><span class='ee-k'>0:</span><span class='ee-v'>1448</span></li><li><span class='ee-k'>1:</span><span class='ee-v'>971</span></li></ul></details></li><li><details><summary>origin: [2503, 4678]</summary><ul><li><span class='ee-k'>0:</span><span class='ee-v'>2503</span></li><li><span class='ee-k'>1:</span><span class='ee-v'>4678</span></li></ul></details></li></ul></details></li><li><details><summary>18: \"pif_SAM_P70\", float, EPSG:32633, 1448x971 px</summary><ul><li><span class='ee-k'>id:</span><span class='ee-v'>pif_SAM_P70</span></li><li><span class='ee-k'>crs:</span><span class='ee-v'>EPSG:32633</span></li><li><details><summary>crs_transform: [30, 0, 401385, 0, -30, 5688915]</summary><ul><li><span class='ee-k'>0:</span><span class='ee-v'>30</span></li><li><span class='ee-k'>1:</span><span class='ee-v'>0</span></li><li><span class='ee-k'>2:</span><span class='ee-v'>401385</span></li><li><span class='ee-k'>3:</span><span class='ee-v'>0</span></li><li><span class='ee-k'>4:</span><span class='ee-v'>-30</span></li><li><span class='ee-k'>5:</span><span class='ee-v'>5688915</span></li></ul></details></li><li><details><summary>data_type: float</summary><ul><li><span class='ee-k'>type:</span><span class='ee-v'>PixelType</span></li><li><span class='ee-k'>precision:</span><span class='ee-v'>float</span></li></ul></details></li><li><details><summary>dimensions: [1448, 971]</summary><ul><li><span class='ee-k'>0:</span><span class='ee-v'>1448</span></li><li><span class='ee-k'>1:</span><span class='ee-v'>971</span></li></ul></details></li><li><details><summary>origin: [2503, 4678]</summary><ul><li><span class='ee-k'>0:</span><span class='ee-v'>2503</span></li><li><span class='ee-k'>1:</span><span class='ee-v'>4678</span></li></ul></details></li></ul></details></li><li><details><summary>19: \"elevation\", float, EPSG:32633, 1449x972 px</summary><ul><li><span class='ee-k'>id:</span><span class='ee-v'>elevation</span></li><li><span class='ee-k'>crs:</span><span class='ee-v'>EPSG:32633</span></li><li><details><summary>crs_transform: [30, 0, 401385, 0, -30, 5688915]</summary><ul><li><span class='ee-k'>0:</span><span class='ee-v'>30</span></li><li><span class='ee-k'>1:</span><span class='ee-v'>0</span></li><li><span class='ee-k'>2:</span><span class='ee-v'>401385</span></li><li><span class='ee-k'>3:</span><span class='ee-v'>0</span></li><li><span class='ee-k'>4:</span><span class='ee-v'>-30</span></li><li><span class='ee-k'>5:</span><span class='ee-v'>5688915</span></li></ul></details></li><li><details><summary>data_type: float</summary><ul><li><span class='ee-k'>type:</span><span class='ee-v'>PixelType</span></li><li><span class='ee-k'>precision:</span><span class='ee-v'>float</span></li></ul></details></li><li><details><summary>dimensions: [1449, 972]</summary><ul><li><span class='ee-k'>0:</span><span class='ee-v'>1449</span></li><li><span class='ee-k'>1:</span><span class='ee-v'>972</span></li></ul></details></li><li><details><summary>origin: [2503, 4678]</summary><ul><li><span class='ee-k'>0:</span><span class='ee-v'>2503</span></li><li><span class='ee-k'>1:</span><span class='ee-v'>4678</span></li></ul></details></li></ul></details></li><li><details><summary>20: \"slope\", float, EPSG:32633, 1449x972 px</summary><ul><li><span class='ee-k'>id:</span><span class='ee-v'>slope</span></li><li><span class='ee-k'>crs:</span><span class='ee-v'>EPSG:32633</span></li><li><details><summary>crs_transform: [30, 0, 401385, 0, -30, 5688915]</summary><ul><li><span class='ee-k'>0:</span><span class='ee-v'>30</span></li><li><span class='ee-k'>1:</span><span class='ee-v'>0</span></li><li><span class='ee-k'>2:</span><span class='ee-v'>401385</span></li><li><span class='ee-k'>3:</span><span class='ee-v'>0</span></li><li><span class='ee-k'>4:</span><span class='ee-v'>-30</span></li><li><span class='ee-k'>5:</span><span class='ee-v'>5688915</span></li></ul></details></li><li><details><summary>data_type: float</summary><ul><li><span class='ee-k'>type:</span><span class='ee-v'>PixelType</span></li><li><span class='ee-k'>precision:</span><span class='ee-v'>float</span></li></ul></details></li><li><details><summary>dimensions: [1449, 972]</summary><ul><li><span class='ee-k'>0:</span><span class='ee-v'>1449</span></li><li><span class='ee-k'>1:</span><span class='ee-v'>972</span></li></ul></details></li><li><details><summary>origin: [2503, 4678]</summary><ul><li><span class='ee-k'>0:</span><span class='ee-v'>2503</span></li><li><span class='ee-k'>1:</span><span class='ee-v'>4678</span></li></ul></details></li></ul></details></li><li><details><summary>21: \"aspect\", float, EPSG:32633, 1449x972 px</summary><ul><li><span class='ee-k'>id:</span><span class='ee-v'>aspect</span></li><li><span class='ee-k'>crs:</span><span class='ee-v'>EPSG:32633</span></li><li><details><summary>crs_transform: [30, 0, 401385, 0, -30, 5688915]</summary><ul><li><span class='ee-k'>0:</span><span class='ee-v'>30</span></li><li><span class='ee-k'>1:</span><span class='ee-v'>0</span></li><li><span class='ee-k'>2:</span><span class='ee-v'>401385</span></li><li><span class='ee-k'>3:</span><span class='ee-v'>0</span></li><li><span class='ee-k'>4:</span><span class='ee-v'>-30</span></li><li><span class='ee-k'>5:</span><span class='ee-v'>5688915</span></li></ul></details></li><li><details><summary>data_type: float</summary><ul><li><span class='ee-k'>type:</span><span class='ee-v'>PixelType</span></li><li><span class='ee-k'>precision:</span><span class='ee-v'>float</span></li></ul></details></li><li><details><summary>dimensions: [1449, 972]</summary><ul><li><span class='ee-k'>0:</span><span class='ee-v'>1449</span></li><li><span class='ee-k'>1:</span><span class='ee-v'>972</span></li></ul></details></li><li><details><summary>origin: [2503, 4678]</summary><ul><li><span class='ee-k'>0:</span><span class='ee-v'>2503</span></li><li><span class='ee-k'>1:</span><span class='ee-v'>4678</span></li></ul></details></li></ul></details></li><li><details><summary>22: \"NDVI_variance9\", float, EPSG:32633, 1449x972 px</summary><ul><li><span class='ee-k'>id:</span><span class='ee-v'>NDVI_variance9</span></li><li><span class='ee-k'>crs:</span><span class='ee-v'>EPSG:32633</span></li><li><details><summary>crs_transform: [30, 0, 401385, 0, -30, 5688915]</summary><ul><li><span class='ee-k'>0:</span><span class='ee-v'>30</span></li><li><span class='ee-k'>1:</span><span class='ee-v'>0</span></li><li><span class='ee-k'>2:</span><span class='ee-v'>401385</span></li><li><span class='ee-k'>3:</span><span class='ee-v'>0</span></li><li><span class='ee-k'>4:</span><span class='ee-v'>-30</span></li><li><span class='ee-k'>5:</span><span class='ee-v'>5688915</span></li></ul></details></li><li><details><summary>data_type: float</summary><ul><li><span class='ee-k'>type:</span><span class='ee-v'>PixelType</span></li><li><span class='ee-k'>precision:</span><span class='ee-v'>float</span></li></ul></details></li><li><details><summary>dimensions: [1449, 972]</summary><ul><li><span class='ee-k'>0:</span><span class='ee-v'>1449</span></li><li><span class='ee-k'>1:</span><span class='ee-v'>972</span></li></ul></details></li><li><details><summary>origin: [2503, 4678]</summary><ul><li><span class='ee-k'>0:</span><span class='ee-v'>2503</span></li><li><span class='ee-k'>1:</span><span class='ee-v'>4678</span></li></ul></details></li></ul></details></li><li><details><summary>23: \"NDMI_variance9\", float, EPSG:32633, 1449x972 px</summary><ul><li><span class='ee-k'>id:</span><span class='ee-v'>NDMI_variance9</span></li><li><span class='ee-k'>crs:</span><span class='ee-v'>EPSG:32633</span></li><li><details><summary>crs_transform: [30, 0, 401385, 0, -30, 5688915]</summary><ul><li><span class='ee-k'>0:</span><span class='ee-v'>30</span></li><li><span class='ee-k'>1:</span><span class='ee-v'>0</span></li><li><span class='ee-k'>2:</span><span class='ee-v'>401385</span></li><li><span class='ee-k'>3:</span><span class='ee-v'>0</span></li><li><span class='ee-k'>4:</span><span class='ee-v'>-30</span></li><li><span class='ee-k'>5:</span><span class='ee-v'>5688915</span></li></ul></details></li><li><details><summary>data_type: float</summary><ul><li><span class='ee-k'>type:</span><span class='ee-v'>PixelType</span></li><li><span class='ee-k'>precision:</span><span class='ee-v'>float</span></li></ul></details></li><li><details><summary>dimensions: [1449, 972]</summary><ul><li><span class='ee-k'>0:</span><span class='ee-v'>1449</span></li><li><span class='ee-k'>1:</span><span class='ee-v'>972</span></li></ul></details></li><li><details><summary>origin: [2503, 4678]</summary><ul><li><span class='ee-k'>0:</span><span class='ee-v'>2503</span></li><li><span class='ee-k'>1:</span><span class='ee-v'>4678</span></li></ul></details></li></ul></details></li><li><details><summary>24: \"NDVI_variance5\", float, EPSG:32633, 1449x972 px</summary><ul><li><span class='ee-k'>id:</span><span class='ee-v'>NDVI_variance5</span></li><li><span class='ee-k'>crs:</span><span class='ee-v'>EPSG:32633</span></li><li><details><summary>crs_transform: [30, 0, 401385, 0, -30, 5688915]</summary><ul><li><span class='ee-k'>0:</span><span class='ee-v'>30</span></li><li><span class='ee-k'>1:</span><span class='ee-v'>0</span></li><li><span class='ee-k'>2:</span><span class='ee-v'>401385</span></li><li><span class='ee-k'>3:</span><span class='ee-v'>0</span></li><li><span class='ee-k'>4:</span><span class='ee-v'>-30</span></li><li><span class='ee-k'>5:</span><span class='ee-v'>5688915</span></li></ul></details></li><li><details><summary>data_type: float</summary><ul><li><span class='ee-k'>type:</span><span class='ee-v'>PixelType</span></li><li><span class='ee-k'>precision:</span><span class='ee-v'>float</span></li></ul></details></li><li><details><summary>dimensions: [1449, 972]</summary><ul><li><span class='ee-k'>0:</span><span class='ee-v'>1449</span></li><li><span class='ee-k'>1:</span><span class='ee-v'>972</span></li></ul></details></li><li><details><summary>origin: [2503, 4678]</summary><ul><li><span class='ee-k'>0:</span><span class='ee-v'>2503</span></li><li><span class='ee-k'>1:</span><span class='ee-v'>4678</span></li></ul></details></li></ul></details></li><li><details><summary>25: \"NDMI_variance5\", float, EPSG:32633, 1449x972 px</summary><ul><li><span class='ee-k'>id:</span><span class='ee-v'>NDMI_variance5</span></li><li><span class='ee-k'>crs:</span><span class='ee-v'>EPSG:32633</span></li><li><details><summary>crs_transform: [30, 0, 401385, 0, -30, 5688915]</summary><ul><li><span class='ee-k'>0:</span><span class='ee-v'>30</span></li><li><span class='ee-k'>1:</span><span class='ee-v'>0</span></li><li><span class='ee-k'>2:</span><span class='ee-v'>401385</span></li><li><span class='ee-k'>3:</span><span class='ee-v'>0</span></li><li><span class='ee-k'>4:</span><span class='ee-v'>-30</span></li><li><span class='ee-k'>5:</span><span class='ee-v'>5688915</span></li></ul></details></li><li><details><summary>data_type: float</summary><ul><li><span class='ee-k'>type:</span><span class='ee-v'>PixelType</span></li><li><span class='ee-k'>precision:</span><span class='ee-v'>float</span></li></ul></details></li><li><details><summary>dimensions: [1449, 972]</summary><ul><li><span class='ee-k'>0:</span><span class='ee-v'>1449</span></li><li><span class='ee-k'>1:</span><span class='ee-v'>972</span></li></ul></details></li><li><details><summary>origin: [2503, 4678]</summary><ul><li><span class='ee-k'>0:</span><span class='ee-v'>2503</span></li><li><span class='ee-k'>1:</span><span class='ee-v'>4678</span></li></ul></details></li></ul></details></li><li><details><summary>26: \"NDVI9\", float, EPSG:32633, 1448x971 px</summary><ul><li><span class='ee-k'>id:</span><span class='ee-v'>NDVI9</span></li><li><span class='ee-k'>crs:</span><span class='ee-v'>EPSG:32633</span></li><li><details><summary>crs_transform: [30, 0, 401385, 0, -30, 5688915]</summary><ul><li><span class='ee-k'>0:</span><span class='ee-v'>30</span></li><li><span class='ee-k'>1:</span><span class='ee-v'>0</span></li><li><span class='ee-k'>2:</span><span class='ee-v'>401385</span></li><li><span class='ee-k'>3:</span><span class='ee-v'>0</span></li><li><span class='ee-k'>4:</span><span class='ee-v'>-30</span></li><li><span class='ee-k'>5:</span><span class='ee-v'>5688915</span></li></ul></details></li><li><details><summary>data_type: float</summary><ul><li><span class='ee-k'>type:</span><span class='ee-v'>PixelType</span></li><li><span class='ee-k'>precision:</span><span class='ee-v'>float</span></li></ul></details></li><li><details><summary>dimensions: [1448, 971]</summary><ul><li><span class='ee-k'>0:</span><span class='ee-v'>1448</span></li><li><span class='ee-k'>1:</span><span class='ee-v'>971</span></li></ul></details></li><li><details><summary>origin: [2503, 4678]</summary><ul><li><span class='ee-k'>0:</span><span class='ee-v'>2503</span></li><li><span class='ee-k'>1:</span><span class='ee-v'>4678</span></li></ul></details></li></ul></details></li><li><details><summary>27: \"NDMI9\", float, EPSG:32633, 1448x971 px</summary><ul><li><span class='ee-k'>id:</span><span class='ee-v'>NDMI9</span></li><li><span class='ee-k'>crs:</span><span class='ee-v'>EPSG:32633</span></li><li><details><summary>crs_transform: [30, 0, 401385, 0, -30, 5688915]</summary><ul><li><span class='ee-k'>0:</span><span class='ee-v'>30</span></li><li><span class='ee-k'>1:</span><span class='ee-v'>0</span></li><li><span class='ee-k'>2:</span><span class='ee-v'>401385</span></li><li><span class='ee-k'>3:</span><span class='ee-v'>0</span></li><li><span class='ee-k'>4:</span><span class='ee-v'>-30</span></li><li><span class='ee-k'>5:</span><span class='ee-v'>5688915</span></li></ul></details></li><li><details><summary>data_type: float</summary><ul><li><span class='ee-k'>type:</span><span class='ee-v'>PixelType</span></li><li><span class='ee-k'>precision:</span><span class='ee-v'>float</span></li></ul></details></li><li><details><summary>dimensions: [1448, 971]</summary><ul><li><span class='ee-k'>0:</span><span class='ee-v'>1448</span></li><li><span class='ee-k'>1:</span><span class='ee-v'>971</span></li></ul></details></li><li><details><summary>origin: [2503, 4678]</summary><ul><li><span class='ee-k'>0:</span><span class='ee-v'>2503</span></li><li><span class='ee-k'>1:</span><span class='ee-v'>4678</span></li></ul></details></li></ul></details></li><li><details><summary>28: \"NDVI5\", float, EPSG:32633, 1448x971 px</summary><ul><li><span class='ee-k'>id:</span><span class='ee-v'>NDVI5</span></li><li><span class='ee-k'>crs:</span><span class='ee-v'>EPSG:32633</span></li><li><details><summary>crs_transform: [30, 0, 401385, 0, -30, 5688915]</summary><ul><li><span class='ee-k'>0:</span><span class='ee-v'>30</span></li><li><span class='ee-k'>1:</span><span class='ee-v'>0</span></li><li><span class='ee-k'>2:</span><span class='ee-v'>401385</span></li><li><span class='ee-k'>3:</span><span class='ee-v'>0</span></li><li><span class='ee-k'>4:</span><span class='ee-v'>-30</span></li><li><span class='ee-k'>5:</span><span class='ee-v'>5688915</span></li></ul></details></li><li><details><summary>data_type: float</summary><ul><li><span class='ee-k'>type:</span><span class='ee-v'>PixelType</span></li><li><span class='ee-k'>precision:</span><span class='ee-v'>float</span></li></ul></details></li><li><details><summary>dimensions: [1448, 971]</summary><ul><li><span class='ee-k'>0:</span><span class='ee-v'>1448</span></li><li><span class='ee-k'>1:</span><span class='ee-v'>971</span></li></ul></details></li><li><details><summary>origin: [2503, 4678]</summary><ul><li><span class='ee-k'>0:</span><span class='ee-v'>2503</span></li><li><span class='ee-k'>1:</span><span class='ee-v'>4678</span></li></ul></details></li></ul></details></li><li><details><summary>29: \"NDMI5\", float, EPSG:32633, 1448x971 px</summary><ul><li><span class='ee-k'>id:</span><span class='ee-v'>NDMI5</span></li><li><span class='ee-k'>crs:</span><span class='ee-v'>EPSG:32633</span></li><li><details><summary>crs_transform: [30, 0, 401385, 0, -30, 5688915]</summary><ul><li><span class='ee-k'>0:</span><span class='ee-v'>30</span></li><li><span class='ee-k'>1:</span><span class='ee-v'>0</span></li><li><span class='ee-k'>2:</span><span class='ee-v'>401385</span></li><li><span class='ee-k'>3:</span><span class='ee-v'>0</span></li><li><span class='ee-k'>4:</span><span class='ee-v'>-30</span></li><li><span class='ee-k'>5:</span><span class='ee-v'>5688915</span></li></ul></details></li><li><details><summary>data_type: float</summary><ul><li><span class='ee-k'>type:</span><span class='ee-v'>PixelType</span></li><li><span class='ee-k'>precision:</span><span class='ee-v'>float</span></li></ul></details></li><li><details><summary>dimensions: [1448, 971]</summary><ul><li><span class='ee-k'>0:</span><span class='ee-v'>1448</span></li><li><span class='ee-k'>1:</span><span class='ee-v'>971</span></li></ul></details></li><li><details><summary>origin: [2503, 4678]</summary><ul><li><span class='ee-k'>0:</span><span class='ee-v'>2503</span></li><li><span class='ee-k'>1:</span><span class='ee-v'>4678</span></li></ul></details></li></ul></details></li></ul></details></li><li><details><summary>properties: Object (90 properties)</summary><ul><li><span class='ee-k'>ALGORITHM_SOURCE_SURFACE_REFLECTANCE:</span><span class='ee-v'>LaSRC_1.6.0</span></li><li><span class='ee-k'>ALGORITHM_SOURCE_SURFACE_TEMPERATURE:</span><span class='ee-v'>st_1.5.0</span></li><li><span class='ee-k'>CLOUD_COVER:</span><span class='ee-v'>1.67</span></li><li><span class='ee-k'>CLOUD_COVER_LAND:</span><span class='ee-v'>1.67</span></li><li><span class='ee-k'>COLLECTION_CATEGORY:</span><span class='ee-v'>T1</span></li><li><span class='ee-k'>COLLECTION_NUMBER:</span><span class='ee-v'>2</span></li><li><span class='ee-k'>DATA_SOURCE_AIR_TEMPERATURE:</span><span class='ee-v'>MODIS</span></li><li><span class='ee-k'>DATA_SOURCE_ELEVATION:</span><span class='ee-v'>GLS2000</span></li><li><span class='ee-k'>DATA_SOURCE_OZONE:</span><span class='ee-v'>MODIS</span></li><li><span class='ee-k'>DATA_SOURCE_PRESSURE:</span><span class='ee-v'>Calculated</span></li><li><span class='ee-k'>DATA_SOURCE_REANALYSIS:</span><span class='ee-v'>GEOS-5 FP-IT</span></li><li><span class='ee-k'>DATA_SOURCE_WATER_VAPOR:</span><span class='ee-v'>MODIS</span></li><li><span class='ee-k'>DATE_ACQUIRED:</span><span class='ee-v'>2023-09-17</span></li><li><span class='ee-k'>DATE_PRODUCT_GENERATED:</span><span class='ee-v'>1695109724000</span></li><li><span class='ee-k'>DATUM:</span><span class='ee-v'>WGS84</span></li><li><span class='ee-k'>EARTH_SUN_DISTANCE:</span><span class='ee-v'>1.0052597</span></li><li><span class='ee-k'>ELLIPSOID:</span><span class='ee-v'>WGS84</span></li><li><span class='ee-k'>GEOMETRIC_RMSE_MODEL:</span><span class='ee-v'>6.865</span></li><li><span class='ee-k'>GEOMETRIC_RMSE_MODEL_X:</span><span class='ee-v'>4.624</span></li><li><span class='ee-k'>GEOMETRIC_RMSE_MODEL_Y:</span><span class='ee-v'>5.075</span></li><li><span class='ee-k'>GEOMETRIC_RMSE_VERIFY:</span><span class='ee-v'>4.951</span></li><li><span class='ee-k'>GRID_CELL_SIZE_REFLECTIVE:</span><span class='ee-v'>30</span></li><li><span class='ee-k'>GRID_CELL_SIZE_THERMAL:</span><span class='ee-v'>30</span></li><li><span class='ee-k'>GROUND_CONTROL_POINTS_MODEL:</span><span class='ee-v'>899</span></li><li><span class='ee-k'>GROUND_CONTROL_POINTS_VERIFY:</span><span class='ee-v'>179</span></li><li><span class='ee-k'>GROUND_CONTROL_POINTS_VERSION:</span><span class='ee-v'>5</span></li><li><span class='ee-k'>IMAGE_QUALITY_OLI:</span><span class='ee-v'>9</span></li><li><span class='ee-k'>IMAGE_QUALITY_TIRS:</span><span class='ee-v'>9</span></li><li><span class='ee-k'>L1_DATE_PRODUCT_GENERATED:</span><span class='ee-v'>2023-09-17T14:18:21Z</span></li><li><span class='ee-k'>L1_LANDSAT_PRODUCT_ID:</span><span class='ee-v'>LC09_L1TP_191025_20230917_20230917_02_T1</span></li><li><span class='ee-k'>L1_PROCESSING_LEVEL:</span><span class='ee-v'>L1TP</span></li><li><span class='ee-k'>L1_PROCESSING_SOFTWARE_VERSION:</span><span class='ee-v'>LPGS_16.3.0</span></li><li><span class='ee-k'>L1_REQUEST_ID:</span><span class='ee-v'>1788668_00016</span></li><li><span class='ee-k'>LANDSAT_PRODUCT_ID:</span><span class='ee-v'>LC09_L2SP_191025_20230917_20230919_02_T1</span></li><li><span class='ee-k'>LANDSAT_SCENE_ID:</span><span class='ee-v'>LC91910252023260LGN00</span></li><li><span class='ee-k'>MAP_PROJECTION:</span><span class='ee-v'>UTM</span></li><li><span class='ee-k'>NADIR_OFFNADIR:</span><span class='ee-v'>NADIR</span></li><li><span class='ee-k'>ORIENTATION:</span><span class='ee-v'>NORTH_UP</span></li><li><span class='ee-k'>PROCESSING_LEVEL:</span><span class='ee-v'>L2SP</span></li><li><span class='ee-k'>PROCESSING_SOFTWARE_VERSION:</span><span class='ee-v'>LPGS_16.3.0</span></li><li><span class='ee-k'>REFLECTANCE_ADD_BAND_1:</span><span class='ee-v'>-0.2</span></li><li><span class='ee-k'>REFLECTANCE_ADD_BAND_2:</span><span class='ee-v'>-0.2</span></li><li><span class='ee-k'>REFLECTANCE_ADD_BAND_3:</span><span class='ee-v'>-0.2</span></li><li><span class='ee-k'>REFLECTANCE_ADD_BAND_4:</span><span class='ee-v'>-0.2</span></li><li><span class='ee-k'>REFLECTANCE_ADD_BAND_5:</span><span class='ee-v'>-0.2</span></li><li><span class='ee-k'>REFLECTANCE_ADD_BAND_6:</span><span class='ee-v'>-0.2</span></li><li><span class='ee-k'>REFLECTANCE_ADD_BAND_7:</span><span class='ee-v'>-0.2</span></li><li><span class='ee-k'>REFLECTANCE_MULT_BAND_1:</span><span class='ee-v'>2.75e-05</span></li><li><span class='ee-k'>REFLECTANCE_MULT_BAND_2:</span><span class='ee-v'>2.75e-05</span></li><li><span class='ee-k'>REFLECTANCE_MULT_BAND_3:</span><span class='ee-v'>2.75e-05</span></li><li><span class='ee-k'>REFLECTANCE_MULT_BAND_4:</span><span class='ee-v'>2.75e-05</span></li><li><span class='ee-k'>REFLECTANCE_MULT_BAND_5:</span><span class='ee-v'>2.75e-05</span></li><li><span class='ee-k'>REFLECTANCE_MULT_BAND_6:</span><span class='ee-v'>2.75e-05</span></li><li><span class='ee-k'>REFLECTANCE_MULT_BAND_7:</span><span class='ee-v'>2.75e-05</span></li><li><span class='ee-k'>REFLECTIVE_LINES:</span><span class='ee-v'>7971</span></li><li><span class='ee-k'>REFLECTIVE_SAMPLES:</span><span class='ee-v'>7871</span></li><li><span class='ee-k'>REQUEST_ID:</span><span class='ee-v'>1789871_00016</span></li><li><span class='ee-k'>ROLL_ANGLE:</span><span class='ee-v'>-0.001</span></li><li><span class='ee-k'>SATURATION_BAND_1:</span><span class='ee-v'>Y</span></li><li><span class='ee-k'>SATURATION_BAND_2:</span><span class='ee-v'>Y</span></li><li><span class='ee-k'>SATURATION_BAND_3:</span><span class='ee-v'>Y</span></li><li><span class='ee-k'>SATURATION_BAND_4:</span><span class='ee-v'>Y</span></li><li><span class='ee-k'>SATURATION_BAND_5:</span><span class='ee-v'>Y</span></li><li><span class='ee-k'>SATURATION_BAND_6:</span><span class='ee-v'>Y</span></li><li><span class='ee-k'>SATURATION_BAND_7:</span><span class='ee-v'>Y</span></li><li><span class='ee-k'>SATURATION_BAND_8:</span><span class='ee-v'>N</span></li><li><span class='ee-k'>SATURATION_BAND_9:</span><span class='ee-v'>N</span></li><li><span class='ee-k'>SCENE_CENTER_TIME:</span><span class='ee-v'>09:51:04.3800410Z</span></li><li><span class='ee-k'>SENSOR_ID:</span><span class='ee-v'>OLI_TIRS</span></li><li><span class='ee-k'>SPACECRAFT_ID:</span><span class='ee-v'>LANDSAT_9</span></li><li><span class='ee-k'>STATION_ID:</span><span class='ee-v'>LGN</span></li><li><span class='ee-k'>SUN_AZIMUTH:</span><span class='ee-v'>159.38452316</span></li><li><span class='ee-k'>SUN_ELEVATION:</span><span class='ee-v'>40.20570569</span></li><li><span class='ee-k'>TARGET_WRS_PATH:</span><span class='ee-v'>191</span></li><li><span class='ee-k'>TARGET_WRS_ROW:</span><span class='ee-v'>25</span></li><li><span class='ee-k'>TEMPERATURE_ADD_BAND_ST_B10:</span><span class='ee-v'>149</span></li><li><span class='ee-k'>TEMPERATURE_MAXIMUM_BAND_ST_B10:</span><span class='ee-v'>372.999941</span></li><li><span class='ee-k'>TEMPERATURE_MINIMUM_BAND_ST_B10:</span><span class='ee-v'>149.003418</span></li><li><span class='ee-k'>TEMPERATURE_MULT_BAND_ST_B10:</span><span class='ee-v'>0.00341802</span></li><li><span class='ee-k'>THERMAL_LINES:</span><span class='ee-v'>7971</span></li><li><span class='ee-k'>THERMAL_SAMPLES:</span><span class='ee-v'>7871</span></li><li><span class='ee-k'>UTM_ZONE:</span><span class='ee-v'>33</span></li><li><span class='ee-k'>WRS_PATH:</span><span class='ee-v'>191</span></li><li><span class='ee-k'>WRS_ROW:</span><span class='ee-v'>25</span></li><li><span class='ee-k'>WRS_TYPE:</span><span class='ee-v'>2</span></li><li><span class='ee-k'>system:asset_size:</span><span class='ee-v'>1060571290</span></li><li><details><summary>system:footprint: Polygon (5 vertices)</summary><ul><li><span class='ee-k'>type:</span><span class='ee-v'>Polygon</span></li><li><details><summary>coordinates: List (1 element)</summary><ul><li><details><summary>0: List (5 elements)</summary><ul><li><details><summary>0: [14.673153981451712, 49.82721862997025]</summary><ul><li><span class='ee-k'>0:</span><span class='ee-v'>14.673153981451712</span></li><li><span class='ee-k'>1:</span><span class='ee-v'>49.82721862997025</span></li></ul></details></li><li><details><summary>1: [15.2767153828189, 49.82721862997025]</summary><ul><li><span class='ee-k'>0:</span><span class='ee-v'>15.2767153828189</span></li><li><span class='ee-k'>1:</span><span class='ee-v'>49.82721862997025</span></li></ul></details></li><li><details><summary>2: [15.2767153828189, 50.08873547414839]</summary><ul><li><span class='ee-k'>0:</span><span class='ee-v'>15.2767153828189</span></li><li><span class='ee-k'>1:</span><span class='ee-v'>50.08873547414839</span></li></ul></details></li><li><details><summary>3: [14.673153981451708, 50.08873547414839]</summary><ul><li><span class='ee-k'>0:</span><span class='ee-v'>14.673153981451708</span></li><li><span class='ee-k'>1:</span><span class='ee-v'>50.08873547414839</span></li></ul></details></li><li><details><summary>4: [14.673153981451712, 49.82721862997025]</summary><ul><li><span class='ee-k'>0:</span><span class='ee-v'>14.673153981451712</span></li><li><span class='ee-k'>1:</span><span class='ee-v'>49.82721862997025</span></li></ul></details></li></ul></details></li></ul></details></li></ul></details></li><li><span class='ee-k'>system:index:</span><span class='ee-v'>LC09_191025_20230917</span></li><li><span class='ee-k'>system:time_end:</span><span class='ee-v'>1694944264380</span></li><li><span class='ee-k'>system:time_start:</span><span class='ee-v'>1694944264380</span></li></ul></details></li></ul></details></li></ul></div></div>"
      ],
      "text/plain": [
       "<ee.image.Image at 0x207068b4620>"
      ]
     },
     "execution_count": 22,
     "metadata": {},
     "output_type": "execute_result"
    }
   ],
   "source": [
    "all_bands_fl"
   ]
  },
  {
   "cell_type": "code",
   "execution_count": 23,
   "id": "f52ffb49",
   "metadata": {},
   "outputs": [
    {
     "data": {
      "text/html": [
       "\n",
       "            <style>\n",
       "                .geemap-dark {\n",
       "                    --jp-widgets-color: white;\n",
       "                    --jp-widgets-label-color: white;\n",
       "                    --jp-ui-font-color1: white;\n",
       "                    --jp-layout-color2: #454545;\n",
       "                    background-color: #383838;\n",
       "                }\n",
       "\n",
       "                .geemap-dark .jupyter-button {\n",
       "                    --jp-layout-color3: #383838;\n",
       "                }\n",
       "\n",
       "                .geemap-colab {\n",
       "                    background-color: var(--colab-primary-surface-color, white);\n",
       "                }\n",
       "\n",
       "                .geemap-colab .jupyter-button {\n",
       "                    --jp-layout-color3: var(--colab-primary-surface-color, white);\n",
       "                }\n",
       "            </style>\n",
       "            "
      ],
      "text/plain": [
       "<IPython.core.display.HTML object>"
      ]
     },
     "metadata": {},
     "output_type": "display_data"
    },
    {
     "data": {
      "application/vnd.jupyter.widget-view+json": {
       "model_id": "10fd0e70a0a04b76be2a60ac26c08727",
       "version_major": 2,
       "version_minor": 0
      },
      "text/plain": [
       "Map(bottom=178204.0, center=[49.95825012032068, 14.974934682135093], controls=(WidgetControl(options=['positio…"
      ]
     },
     "metadata": {},
     "output_type": "display_data"
    }
   ],
   "source": [
    "vis_pif = ['pif_B4','pif_B3','pif_B2']\n",
    "vis_params_pif = {\n",
    "    'bands': ['pif_B4','pif_B3','pif_B2'],  # R-G-B\n",
    "    'min':   0,\n",
    "    'max':   0.2,\n",
    "    'gamma': 0.9\n",
    "}\n",
    "#display_ls(all_bands_fl.select(vis_pif), M1, 'PIF')\n",
    "M1.addLayer(all_bands_fl, vis_params_pif, 'PIF – RGB')\n",
    "M1"
   ]
  },
  {
   "cell_type": "code",
   "execution_count": 25,
   "id": "e0bd92ad",
   "metadata": {},
   "outputs": [
    {
     "data": {
      "text/html": [
       "\n",
       "            <style>\n",
       "                .geemap-dark {\n",
       "                    --jp-widgets-color: white;\n",
       "                    --jp-widgets-label-color: white;\n",
       "                    --jp-ui-font-color1: white;\n",
       "                    --jp-layout-color2: #454545;\n",
       "                    background-color: #383838;\n",
       "                }\n",
       "\n",
       "                .geemap-dark .jupyter-button {\n",
       "                    --jp-layout-color3: #383838;\n",
       "                }\n",
       "\n",
       "                .geemap-colab {\n",
       "                    background-color: var(--colab-primary-surface-color, white);\n",
       "                }\n",
       "\n",
       "                .geemap-colab .jupyter-button {\n",
       "                    --jp-layout-color3: var(--colab-primary-surface-color, white);\n",
       "                }\n",
       "            </style>\n",
       "            "
      ],
      "text/plain": [
       "<IPython.core.display.HTML object>"
      ]
     },
     "metadata": {},
     "output_type": "display_data"
    },
    {
     "name": "stdout",
     "output_type": "stream",
     "text": [
      "Exporting iMAD to Google Drive\n",
      " task id: GBCYNFRRBKSXEWRCDTSZZKZS\n"
     ]
    }
   ],
   "source": [
    "all_bands_fl = all_bands_fl.clip(aoi)\n",
    "# Export to Google Drive\n",
    "driveexport = ee.batch.Export.image.toDrive(all_bands_fl,\n",
    "                        description='pif_emd_out_5',\n",
    "                        folder='EngineExports',\n",
    "                        region=aoi,\n",
    "                        crs='EPSG:32633',\n",
    "                        fileNamePrefix='PIF_EMD_5',\n",
    "                        fileFormat='GeoTIFF',\n",
    "                        scale=30, maxPixels=1e12)\n",
    "driveexport.start()\n",
    "print('Exporting iMAD to Google Drive\\n task id: %s'%str(driveexport.id))"
   ]
  }
 ],
 "metadata": {
  "kernelspec": {
   "display_name": "base",
   "language": "python",
   "name": "python3"
  },
  "language_info": {
   "codemirror_mode": {
    "name": "ipython",
    "version": 3
   },
   "file_extension": ".py",
   "mimetype": "text/x-python",
   "name": "python",
   "nbconvert_exporter": "python",
   "pygments_lexer": "ipython3",
   "version": "3.12.3"
  }
 },
 "nbformat": 4,
 "nbformat_minor": 5
}
