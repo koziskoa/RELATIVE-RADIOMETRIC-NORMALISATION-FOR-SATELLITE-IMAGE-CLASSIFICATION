{
 "cells": [
  {
   "cell_type": "code",
   "execution_count": null,
   "id": "511a710b",
   "metadata": {},
   "outputs": [],
   "source": [
    "# this part is taken from M. J. Canty: https://developers.google.com/earth-engine/tutorials/community/imad-tutorial-pt3\n",
    "# Enter your own export to assets path name here -----------\n",
    "EXPORT_PATH = 'projects/ee-koziskoa-dp/assets/'\n",
    "\n",
    "import ee\n",
    "ee.Authenticate()\n",
    "# Connect to my project number\n",
    "ee.Initialize(project='716069062206')\n",
    "\n",
    "# Import other packages used in the tutorial\n",
    "%matplotlib inline\n",
    "import geemap\n",
    "import numpy as np\n",
    "import random, time\n",
    "import matplotlib.pyplot as plt\n",
    "from scipy.stats import norm, chi2\n",
    "\n",
    "from pprint import pprint  # for pretty printing"
   ]
  },
  {
   "cell_type": "code",
   "execution_count": null,
   "id": "1c59a784",
   "metadata": {},
   "outputs": [
    {
     "data": {
      "text/html": [
       "\n",
       "            <style>\n",
       "                .geemap-dark {\n",
       "                    --jp-widgets-color: white;\n",
       "                    --jp-widgets-label-color: white;\n",
       "                    --jp-ui-font-color1: white;\n",
       "                    --jp-layout-color2: #454545;\n",
       "                    background-color: #383838;\n",
       "                }\n",
       "\n",
       "                .geemap-dark .jupyter-button {\n",
       "                    --jp-layout-color3: #383838;\n",
       "                }\n",
       "\n",
       "                .geemap-colab {\n",
       "                    background-color: var(--colab-primary-surface-color, white);\n",
       "                }\n",
       "\n",
       "                .geemap-colab .jupyter-button {\n",
       "                    --jp-layout-color3: var(--colab-primary-surface-color, white);\n",
       "                }\n",
       "            </style>\n",
       "            "
      ],
      "text/plain": [
       "<IPython.core.display.HTML object>"
      ]
     },
     "metadata": {},
     "output_type": "display_data"
    }
   ],
   "source": [
    "# this part is taken from M. J. Canty: https://developers.google.com/earth-engine/tutorials/community/imad-tutorial-pt3\n",
    "# compared to the original code, the script is modified to use Landsat images.\n",
    "\n",
    "def trunc(values, dec = 3):\n",
    "    '''Truncate a 1-D array to dec decimal places.'''\n",
    "    return np.trunc(values*10**dec)/(10**dec)\n",
    "\n",
    "# Display an image in a one percent linear stretch.\n",
    "def display_ls(image, map, name, centered = False):\n",
    "    bns = image.bandNames().length().getInfo()\n",
    "    if bns == 3:\n",
    "        image = image.rename('B1', 'B2', 'B3')\n",
    "        pb_99 = ['B1_p99', 'B2_p99', 'B3_p99']\n",
    "        pb_1 = ['B1_p1', 'B2_p1', 'B3_p1']\n",
    "        img = ee.Image.rgb(\n",
    "            image.select('B1'), image.select('B2'), image.select('B3'))\n",
    "    else:\n",
    "        image = image.rename('B1')\n",
    "        pb_99 = ['B1_p99']\n",
    "        pb_1 = ['B1_p1']\n",
    "        img = image.select('B1')\n",
    "    percentiles = image.reduceRegion(\n",
    "        ee.Reducer.percentile([1, 98]), maxPixels=1e11)\n",
    "    mx = percentiles.values(pb_99)\n",
    "    if centered:\n",
    "        mn = ee.Array(mx).multiply(-1).toList()\n",
    "    else:\n",
    "        mn = percentiles.values(pb_1)\n",
    "    map.addLayer(img, {'min': mn, 'max': mx}, name)\n",
    "\n",
    "# create function for mask clouds\n",
    "def mask_clouds(image):\n",
    "    qa = image.select('QA_PIXEL')\n",
    "    cloud_shadow_bit_mask = 1 << 3\n",
    "    clouds_bit_mask = 1 << 5\n",
    "    mask = qa.bitwiseAnd(cloud_shadow_bit_mask).eq(0) \\\n",
    "        .And(qa.bitwiseAnd(clouds_bit_mask).eq(0))\n",
    "    return image.updateMask(mask)\n",
    "\n",
    "def covarw(image, weights=None, scale=30, maxPixels=1e10):\n",
    "    '''Return the centered image and its weighted covariance matrix.'''\n",
    "    try:\n",
    "        geometry = image.geometry()\n",
    "        bandNames = image.bandNames()\n",
    "        N = bandNames.length()\n",
    "        if weights is None:\n",
    "            weights = image.constant(1)\n",
    "        weightsImage = image.multiply(ee.Image.constant(0)).add(weights)\n",
    "        means = image.addBands(weightsImage) \\\n",
    "                    .reduceRegion(ee.Reducer.mean().repeat(N).splitWeights(),\n",
    "                                scale=scale,\n",
    "                                maxPixels=maxPixels) \\\n",
    "                    .toArray() \\\n",
    "                    .project([1])\n",
    "        centered = image.toArray().subtract(means)\n",
    "        B1 = centered.bandNames().get(0)\n",
    "        b1 = weights.bandNames().get(0)\n",
    "        nPixels = ee.Number(centered.reduceRegion(ee.Reducer.count(),\n",
    "                                                scale=scale,\n",
    "                                                maxPixels=maxPixels).get(B1))\n",
    "        sumWeights = ee.Number(weights.reduceRegion(ee.Reducer.sum(),\n",
    "                                                    geometry=geometry,\n",
    "                                                    scale=scale,\n",
    "                                                    maxPixels=maxPixels).get(b1))\n",
    "        covw = centered.multiply(weights.sqrt()) \\\n",
    "                    .toArray() \\\n",
    "                    .reduceRegion(ee.Reducer.centeredCovariance(),\n",
    "                                    geometry=geometry,\n",
    "                                    scale=scale,\n",
    "                                    maxPixels=maxPixels) \\\n",
    "                    .get('array')\n",
    "        covw = ee.Array(covw).multiply(nPixels).divide(sumWeights)\n",
    "        return (centered.arrayFlatten([bandNames]), covw)\n",
    "    except Exception as e:\n",
    "        print('Error: %s'%e)\n",
    "\n",
    "def corr(cov):\n",
    "    '''Transform covariance matrix to correlation matrix.'''\n",
    "    # Diagonal matrix of inverse sigmas.\n",
    "    sInv = cov.matrixDiagonal().sqrt().matrixToDiag().matrixInverse()\n",
    "    # Transform.\n",
    "    corr = sInv.matrixMultiply(cov).matrixMultiply(sInv).getInfo()\n",
    "    # Truncate.\n",
    "    return [list(map(trunc, corr[i])) for i in range(len(corr))]\n",
    "\n",
    "def geneiv(C,B):\n",
    "    '''Return the eigenvalues and eigenvectors of the generalized eigenproblem\n",
    "       C*X = lambda*B*X'''\n",
    "    try:\n",
    "        C = ee.Array(C)\n",
    "        B = ee.Array(B)\n",
    "        #  Li = choldc(B)^-1\n",
    "        Li = ee.Array(B.matrixCholeskyDecomposition().get('L')).matrixInverse()\n",
    "        # Solve symmetric, ordinary eigenproblem Li*C*Li^T*x = lambda*x\n",
    "        Xa = Li.matrixMultiply(C) \\\n",
    "            .matrixMultiply(Li.matrixTranspose()) \\\n",
    "            .eigen()\n",
    "        # Eigenvalues as a row vector.\n",
    "        lambdas = Xa.slice(1, 0, 1).matrixTranspose()\n",
    "        # Eigenvectors as columns.\n",
    "        X = Xa.slice(1, 1).matrixTranspose()\n",
    "        # Generalized eigenvectors as columns, Li^T*X\n",
    "        eigenvecs = Li.matrixTranspose().matrixMultiply(X)\n",
    "        return (lambdas, eigenvecs)\n",
    "    except Exception as e:\n",
    "        print('Error: %s'%e)\n",
    "\n",
    "# Collect a Sentinel-2 image pair.\n",
    "def collect(aoi):\n",
    "    '''Combination:\n",
    "    LT05_191025_20000909 -> LC09_191025_20230917 L5 -> L9\n",
    "    \n",
    "    IM1 = REFERENCE IMAGE (L9)\n",
    "    IM2 = TARET IMAGE (L5)\n",
    "    '''\n",
    "    \n",
    "    try:\n",
    "        bands = ['SR_B2', 'SR_B3', 'SR_B4', 'SR_B5', 'SR_B6', 'SR_B7'] # bands for Landsat 5 and 9\n",
    "        reference = ee.Image( ee.ImageCollection('LANDSAT/LC09/C02/T1_L2') # master: landsat 9: LANDSAT/LC09/C02/T1_L2\n",
    "                  .filter(ee.Filter.eq('system:index', 'LC09_191025_20230917')) # L9: LC09_191025_20230917\n",
    "                  .first()\n",
    "                  .clip(aoi)\n",
    "                  )\n",
    "        im1 = (ee.ImageCollection('LANDSAT/LC09/C02/T1_L2') # reference: landsat 9: LANDSAT/LC09/C02/T1_L2\n",
    "                  .filter(ee.Filter.eq('system:index', 'LC09_191025_20230917')) # L9: LC09_191025_20230917\n",
    "                  .first()\n",
    "                  .filterBounds(aoi)\n",
    "                  .filterDate('2023-08-01', '2023-09-24')\n",
    "                  .filter(ee.Filter.lt('CLOUD_COVER', 10))\n",
    "                  .map(mask_clouds)\n",
    "                  .median()\n",
    "                  .reproject(crs=reference.projection(), scale=reference.projection().nominalScale())\n",
    "                  .clip(aoi)\n",
    "                  .select(bands))\n",
    "        im2 = ( ee.ImageCollection('LANDSAT/LT05/C02/T1_L2') # target: landsat 5: LANDSAT/LT05/C02/T1_L2\n",
    "                  .filter(ee.Filter.eq('system:index', 'LT05_191025_20000909'))\n",
    "                  .first()\n",
    "                  .filterBounds(aoi)\n",
    "                  .filterDate('2000-08-01', '2000-09-24')\n",
    "                  .filter(ee.Filter.lt('CLOUD_COVER', 10))\n",
    "                  .map(mask_clouds)\n",
    "                  .median()\n",
    "                  .reproject(crs=reference.projection(), scale=reference.projection().nominalScale())\n",
    "                  .clip(aoi)\n",
    "                  .select(['SR_B1', 'SR_B2', 'SR_B3', 'SR_B4', 'SR_B5', 'SR_B7']).rename(bands) )\n",
    "        '''timestamp = im1.date().format('E MMM dd HH:mm:ss YYYY')\n",
    "        print(timestamp.getInfo())\n",
    "        timestamp = im2.date().format('E MMM dd HH:mm:ss YYYY')\n",
    "        print(timestamp.getInfo())'''\n",
    "        return (im1, im2)\n",
    "    except Exception as e:\n",
    "        print('Error: %s'%e)\n",
    "        return (None, None)\n",
    "\n",
    "#@title The iMAD code\n",
    "def chi2cdf(Z,df):\n",
    "    '''Chi-square cumulative distribution function with df degrees of freedom.'''\n",
    "    return ee.Image(Z.divide(2)).gammainc(ee.Number(df).divide(2))\n",
    "\n",
    "def imad(current,prev):\n",
    "    '''Iterator function for iMAD.'''\n",
    "    done =  ee.Number(ee.Dictionary(prev).get('done'))\n",
    "    return ee.Algorithms.If(done, prev, imad1(current, prev))\n",
    "\n",
    "def imad1(current,prev):\n",
    "    '''Iteratively re-weighted MAD.'''\n",
    "    image = ee.Image(ee.Dictionary(prev).get('image'))\n",
    "    Z = ee.Image(ee.Dictionary(prev).get('Z'))\n",
    "    allrhos = ee.List(ee.Dictionary(prev).get('allrhos'))\n",
    "    nBands = image.bandNames().length().divide(2)\n",
    "    weights = chi2cdf(Z,nBands).subtract(1).multiply(-1)\n",
    "    scale = ee.Dictionary(prev).getNumber('scale')\n",
    "    niter = ee.Dictionary(prev).getNumber('niter')\n",
    "    # Weighted stacked image and weighted covariance matrix.\n",
    "    centeredImage, covarArray = covarw(image, weights, scale)\n",
    "    bNames = centeredImage.bandNames()\n",
    "    bNames1 = bNames.slice(0, nBands)\n",
    "    bNames2 = bNames.slice(nBands)\n",
    "    centeredImage1 = centeredImage.select(bNames1)\n",
    "    centeredImage2 = centeredImage.select(bNames2)\n",
    "    s11 = covarArray.slice(0, 0, nBands).slice(1, 0, nBands)\n",
    "    s22 = covarArray.slice(0, nBands).slice(1, nBands)\n",
    "    s12 = covarArray.slice(0, 0, nBands).slice(1, nBands)\n",
    "    s21 = covarArray.slice(0, nBands).slice(1, 0, nBands)\n",
    "    c1 = s12.matrixMultiply(s22.matrixInverse()).matrixMultiply(s21)\n",
    "    b1 = s11\n",
    "    c2 = s21.matrixMultiply(s11.matrixInverse()).matrixMultiply(s12)\n",
    "    b2 = s22\n",
    "    # Solution of generalized eigenproblems.\n",
    "    lambdas, A = geneiv(c1, b1)\n",
    "    _, B       = geneiv(c2, b2)\n",
    "    rhos = lambdas.sqrt().project(ee.List([1]))\n",
    "    # Test for convergence.\n",
    "    lastrhos = ee.Array(allrhos.get(-1))\n",
    "    done = rhos.subtract(lastrhos) \\\n",
    "               .abs() \\\n",
    "               .reduce(ee.Reducer.max(), ee.List([0])) \\\n",
    "               .lt(ee.Number(0.0001)) \\\n",
    "               .toList() \\\n",
    "               .get(0)\n",
    "    allrhos = allrhos.cat([rhos.toList()])\n",
    "    # MAD variances.\n",
    "    sigma2s = rhos.subtract(1).multiply(-2).toList()\n",
    "    sigma2s = ee.Image.constant(sigma2s)\n",
    "    # Ensure sum of positive correlations between X and U is positive.\n",
    "    tmp = s11.matrixDiagonal().sqrt()\n",
    "    ones = tmp.multiply(0).add(1)\n",
    "    tmp = ones.divide(tmp).matrixToDiag()\n",
    "    s = tmp.matrixMultiply(s11).matrixMultiply(A).reduce(ee.Reducer.sum(), [0]).transpose()\n",
    "    A = A.matrixMultiply(s.divide(s.abs()).matrixToDiag())\n",
    "    # Ensure positive correlation.\n",
    "    tmp = A.transpose().matrixMultiply(s12).matrixMultiply(B).matrixDiagonal()\n",
    "    tmp = tmp.divide(tmp.abs()).matrixToDiag()\n",
    "    B = B.matrixMultiply(tmp)\n",
    "    # Canonical and MAD variates.\n",
    "    centeredImage1Array = centeredImage1.toArray().toArray(1)\n",
    "    centeredImage2Array = centeredImage2.toArray().toArray(1)\n",
    "    U = ee.Image(A.transpose()).matrixMultiply(centeredImage1Array) \\\n",
    "                   .arrayProject([0]) \\\n",
    "                   .arrayFlatten([bNames1])\n",
    "    V = ee.Image(B.transpose()).matrixMultiply(centeredImage2Array) \\\n",
    "                   .arrayProject([0]) \\\n",
    "                   .arrayFlatten([bNames2])\n",
    "    iMAD = U.subtract(V)\n",
    "    # Chi-square image.\n",
    "    Z = iMAD.pow(2) \\\n",
    "              .divide(sigma2s) \\\n",
    "              .reduce(ee.Reducer.sum())\n",
    "    return ee.Dictionary({'done': done, 'scale': scale, 'niter': niter.add(1),\n",
    "                          'image': image, 'allrhos': allrhos, 'Z': Z, 'iMAD': iMAD})\n",
    "\n",
    "#@title Run iMAD algorithm as export task\n",
    "def run_imad(aoi, image1, image2, assetId, scale=30, maxiter=10):\n",
    "    try:\n",
    "        N = image1.bandNames().length().getInfo()\n",
    "        imadnames = ['iMAD'+str(i+1) for i in range(N)]\n",
    "        imadnames.append('Z')\n",
    "        # Maximum iterations.\n",
    "        inputlist = ee.List.sequence(1, maxiter)\n",
    "        first = ee.Dictionary({'done':0,\n",
    "                            'scale': scale,\n",
    "                            'niter': ee.Number(0),\n",
    "                            'image': image1.addBands(image2),\n",
    "                            'allrhos': [ee.List.sequence(1, N)],\n",
    "                            'Z': ee.Image.constant(0),\n",
    "                            'iMAD': ee.Image.constant(0)})\n",
    "        # Iteration.\n",
    "        result = ee.Dictionary(inputlist.iterate(imad, first))\n",
    "        # Retrieve results.\n",
    "        iMAD = ee.Image(result.get('iMAD')).clip(aoi)\n",
    "        rhos = ee.String.encodeJSON(ee.List(result.get('allrhos')).get(-1))\n",
    "        Z = ee.Image(result.get('Z'))\n",
    "        niter = result.getNumber('niter')\n",
    "        # Export iMAD and Z as a singe image, including rhos and number of iterations in properties.\n",
    "        iMAD_export = ee.Image.cat(iMAD, Z).rename(imadnames).set('rhos', rhos, 'niter', niter)\n",
    "        assexport = ee.batch.Export.image.toAsset(iMAD_export,\n",
    "                        description='assetExportTask',\n",
    "                        assetId=assetId, scale=scale, maxPixels=1e12)\n",
    "        assexport.start()\n",
    "        print('Exporting iMAD to %s\\n task id: %s'%(assetId, str(assexport.id)))\n",
    "    except Exception as e:\n",
    "        print('Error: %s'%e)"
   ]
  },
  {
   "cell_type": "code",
   "execution_count": null,
   "id": "7b51df47",
   "metadata": {},
   "outputs": [
    {
     "data": {
      "text/html": [
       "\n",
       "            <style>\n",
       "                .geemap-dark {\n",
       "                    --jp-widgets-color: white;\n",
       "                    --jp-widgets-label-color: white;\n",
       "                    --jp-ui-font-color1: white;\n",
       "                    --jp-layout-color2: #454545;\n",
       "                    background-color: #383838;\n",
       "                }\n",
       "\n",
       "                .geemap-dark .jupyter-button {\n",
       "                    --jp-layout-color3: #383838;\n",
       "                }\n",
       "\n",
       "                .geemap-colab {\n",
       "                    background-color: var(--colab-primary-surface-color, white);\n",
       "                }\n",
       "\n",
       "                .geemap-colab .jupyter-button {\n",
       "                    --jp-layout-color3: var(--colab-primary-surface-color, white);\n",
       "                }\n",
       "            </style>\n",
       "            "
      ],
      "text/plain": [
       "<IPython.core.display.HTML object>"
      ]
     },
     "metadata": {},
     "output_type": "display_data"
    }
   ],
   "source": [
    "# this part is taken from M. J. Canty: https://developers.google.com/earth-engine/tutorials/community/imad-tutorial-pt3\n",
    "# consists of orthogonal regression function and function for relative radiometric normalization\n",
    "def orthoregress(current, prev):\n",
    "    '''\n",
    "    Iterator function for orthogonal regression\n",
    "    '''\n",
    "    k = ee.Number(current)\n",
    "    prev = ee.Dictionary(prev)\n",
    "    # Image is concatenation of reference and target.\n",
    "    image = ee.Image(prev.get('image'))\n",
    "    coeffs = ee.List(prev.get('coeffs'))\n",
    "    N = image.bandNames().length().divide(2)\n",
    "    # Data matrix.\n",
    "    d = image.select(k, k.add(N))\n",
    "    means = d.reduceRegion(ee.Reducer.mean(), scale=30, maxPixels=1e10) \\\n",
    "                  .toArray() \\\n",
    "                  .project([0])\n",
    "    Xm = means.get([0])\n",
    "    Ym = means.get([1])\n",
    "    Sigma = ee.Array(d.toArray() \\\n",
    "              .reduceRegion(ee.Reducer.covariance(), scale=30, maxPixels=1e10) \\\n",
    "              .get('array'))\n",
    "    Sxx = Sigma.get([0, 0])\n",
    "    Syy = Sigma.get([1, 1])\n",
    "    Sxy = Sigma.get([0, 1])\n",
    "    # Correlation.\n",
    "    rho = Sxy.divide(Sxx.multiply(Syy).sqrt())\n",
    "    # Orthoregress reference onto target.\n",
    "    b = Syy.subtract(Sxx) \\\n",
    "           .add(Syy.subtract(Sxx).pow(2).add(Sxy.pow(2).multiply(4)).sqrt()) \\\n",
    "           .divide(Sxy.multiply(2))\n",
    "    a = Ym.subtract(b.multiply(Xm))\n",
    "    coeffs = coeffs.add(ee.List([b, a, rho]))\n",
    "    return ee.Dictionary({'image': image, 'coeffs': coeffs})\n",
    "\n",
    "def normalize(ref, target, imad_path, pmin=0.9, bandNames=['SR_B2', 'SR_B3', 'SR_B4', 'SR_B5', 'SR_B6', 'SR_B7']):\n",
    "    '''\n",
    "    Relative radiometric normalization of target to reference\n",
    "    using iMAD for 6-band visual/infrared images\n",
    "\n",
    "    Args:\n",
    "    - ref: Reference image\n",
    "    - target: Target image\n",
    "    - imad_path: Asset path of iMAD image\n",
    "    - pmin: Minimum p-value for identifying no change\n",
    "    - bandNames: Band names (default: S2 visual/infrared)\n",
    "\n",
    "    Returns:\n",
    "    - Tuple containing normalized target, coefficients, image stack, and no-change mask\n",
    "    '''\n",
    "    try:\n",
    "        # Get iMAD result and mask out water surfaces.\n",
    "        res = ee.Image(imad_path)\n",
    "        # iMAD image.\n",
    "        imad = res.select(0, 1, 2, 3, 4, 5)\n",
    "        # chi-square test statistic.\n",
    "        z = res.select(6).rename('Z')\n",
    "        niter = imad.get('niter').getInfo()\n",
    "        rhos = ee.List(imad.get('rhos')).getInfo()\n",
    "        print('iMAD result:')\n",
    "        print('iterations: %i'%niter)\n",
    "        print('canonical correlations: %s'%rhos)\n",
    "        print('orthogonal regression:')\n",
    "        # p-values.\n",
    "        pval = chi2cdf(z, 6).subtract(1).multiply(-1).rename('pval')\n",
    "        # no-change mask using p-values greater than pmin.\n",
    "        noChangeMask = pval.gt(pmin)\n",
    "        # Stack (concatenate) the reference and target images.\n",
    "        im_stack = ee.Image.cat(ref, target).clip(aoi).updateMask(noChangeMask)\n",
    "        # iterate ortho regression over spectral bands.\n",
    "        first = ee.Dictionary({'image': im_stack, 'coeffs': ee.List([])})\n",
    "        result = ee.Dictionary(ee.List.sequence(0, 5).iterate(orthoregress, first))\n",
    "        # Display results.\n",
    "        coeffs = np.array(result.get('coeffs').getInfo())\n",
    "        print('          Slope        Intercept      Rho')\n",
    "        pprint(coeffs)\n",
    "        a = coeffs[:, 1].tolist()\n",
    "        b = coeffs[:, 0].tolist()\n",
    "        # Normalize target:  Y = b X + a => X = (Y - a) / b\n",
    "        target_norm = target.subtract(ee.Image.constant(a)).divide(ee.Image.constant(b)).rename(bandNames)\n",
    "        return (target_norm, coeffs, im_stack, noChangeMask)\n",
    "    except ee.EEException as e:\n",
    "        print(\"Error:\", e)\n",
    "        return (None, None, None, None)"
   ]
  },
  {
   "cell_type": "code",
   "execution_count": null,
   "id": "1f2c2f3b",
   "metadata": {},
   "outputs": [
    {
     "data": {
      "text/html": [
       "\n",
       "            <style>\n",
       "                .geemap-dark {\n",
       "                    --jp-widgets-color: white;\n",
       "                    --jp-widgets-label-color: white;\n",
       "                    --jp-ui-font-color1: white;\n",
       "                    --jp-layout-color2: #454545;\n",
       "                    background-color: #383838;\n",
       "                }\n",
       "\n",
       "                .geemap-dark .jupyter-button {\n",
       "                    --jp-layout-color3: #383838;\n",
       "                }\n",
       "\n",
       "                .geemap-colab {\n",
       "                    background-color: var(--colab-primary-surface-color, white);\n",
       "                }\n",
       "\n",
       "                .geemap-colab .jupyter-button {\n",
       "                    --jp-layout-color3: var(--colab-primary-surface-color, white);\n",
       "                }\n",
       "            </style>\n",
       "            "
      ],
      "text/plain": [
       "<IPython.core.display.HTML object>"
      ]
     },
     "metadata": {},
     "output_type": "display_data"
    }
   ],
   "source": [
    "# study area\n",
    "aoi = ee.Geometry.Polygon(\n",
    "        [[[14.673153981451712,49.82721862997025],\n",
    "          [15.2767153828189,49.82721862997025],\n",
    "          [15.2767153828189,50.08873547414839],\n",
    "          [14.673153981451712,50.08873547414839]]]) \n",
    "\n",
    "# Spectral band combinations\n",
    "visirbands = ['SR_B2','SR_B3','SR_B4','SR_B5','SR_B6', 'SR_B7']\n",
    "visnirbands = ['SR_B7','SR_B3','SR_B2']\n",
    "visbands = ['SR_B4','SR_B3','SR_B2']\n",
    "irbands = ['SR_B5', 'SR_B6', 'SR_B7']\n",
    "rededgebands = ['B5', 'B6', 'B7', 'B8A'] \n",
    "visnirparams = {'min': [0,0,0], 'max': [6000,1500,1500]}\n",
    "visparams = {'min': [0,0,0], 'max': [1500,1500,1500]}\n",
    "# Landsat-9 surface reflectance\n",
    "visirbands_ls = ['SR_B2','SR_B3','SR_B4','SR_B5','SR_B6','SR_B7']\n",
    "visnirbands_ls = ['SR_B5','SR_B3','SR_B2']\n",
    "# Rescale images\n",
    "def rescale_ls(image):\n",
    "    return image.select(0, 1, 2, 3, 4, 5).multiply(0.0000275).add(-0.2)#.multiply(100)"
   ]
  },
  {
   "cell_type": "markdown",
   "id": "a27cb0ac",
   "metadata": {},
   "source": [
    "### Selected Iamge and AOI"
   ]
  },
  {
   "cell_type": "code",
   "execution_count": 5,
   "id": "48cada5f",
   "metadata": {},
   "outputs": [
    {
     "data": {
      "text/html": [
       "\n",
       "            <style>\n",
       "                .geemap-dark {\n",
       "                    --jp-widgets-color: white;\n",
       "                    --jp-widgets-label-color: white;\n",
       "                    --jp-ui-font-color1: white;\n",
       "                    --jp-layout-color2: #454545;\n",
       "                    background-color: #383838;\n",
       "                }\n",
       "\n",
       "                .geemap-dark .jupyter-button {\n",
       "                    --jp-layout-color3: #383838;\n",
       "                }\n",
       "\n",
       "                .geemap-colab {\n",
       "                    background-color: var(--colab-primary-surface-color, white);\n",
       "                }\n",
       "\n",
       "                .geemap-colab .jupyter-button {\n",
       "                    --jp-layout-color3: var(--colab-primary-surface-color, white);\n",
       "                }\n",
       "            </style>\n",
       "            "
      ],
      "text/plain": [
       "<IPython.core.display.HTML object>"
      ]
     },
     "metadata": {},
     "output_type": "display_data"
    },
    {
     "data": {
      "application/vnd.jupyter.widget-view+json": {
       "model_id": "35addcc97b42468a961c586650b69b06",
       "version_major": 2,
       "version_minor": 0
      },
      "text/plain": [
       "Map(center=[49.95825012032068, 14.974934682135093], controls=(WidgetControl(options=['position', 'transparent_…"
      ]
     },
     "metadata": {},
     "output_type": "display_data"
    }
   ],
   "source": [
    "# visualize selected images and AOI\n",
    "landsat9 = ee.Image( ee.ImageCollection('LANDSAT/LC09/C02/T1_L2') # master: landsat 9: LANDSAT/LC09/C02/T1_L2, landsat 8: LANDSAT/LC08/C02/T1_L2\n",
    "                  .filter(ee.Filter.eq('system:index', 'LC09_191025_20230917')) # L9: LC09_191025_20230917\n",
    "                  .first()\n",
    "                  )\n",
    "vis_params_l9 = {\n",
    "    'bands': ['SR_B4', 'SR_B3', 'SR_B2'],  # R-G-B\n",
    "    'min':   7807.5,\n",
    "    'max':  15223.5,\n",
    "    'gamma': 0.9\n",
    "}\n",
    "aoi_param = {'color': 'red', 'fillColor': '00000000', 'width': 2}\n",
    "M1 = geemap.Map()\n",
    "M1.centerObject(aoi, 11)\n",
    "M1.addLayer(landsat9,vis_params_l9, 'L9', True)\n",
    "M1.addLayer(aoi,aoi_param, 'AOI', True)\n",
    "M1"
   ]
  },
  {
   "cell_type": "markdown",
   "id": "00bdc233",
   "metadata": {},
   "source": [
    "# IRMAD and normalization"
   ]
  },
  {
   "cell_type": "code",
   "execution_count": 6,
   "id": "7a9bcde2",
   "metadata": {},
   "outputs": [
    {
     "data": {
      "text/html": [
       "\n",
       "            <style>\n",
       "                .geemap-dark {\n",
       "                    --jp-widgets-color: white;\n",
       "                    --jp-widgets-label-color: white;\n",
       "                    --jp-ui-font-color1: white;\n",
       "                    --jp-layout-color2: #454545;\n",
       "                    background-color: #383838;\n",
       "                }\n",
       "\n",
       "                .geemap-dark .jupyter-button {\n",
       "                    --jp-layout-color3: #383838;\n",
       "                }\n",
       "\n",
       "                .geemap-colab {\n",
       "                    background-color: var(--colab-primary-surface-color, white);\n",
       "                }\n",
       "\n",
       "                .geemap-colab .jupyter-button {\n",
       "                    --jp-layout-color3: var(--colab-primary-surface-color, white);\n",
       "                }\n",
       "            </style>\n",
       "            "
      ],
      "text/plain": [
       "<IPython.core.display.HTML object>"
      ]
     },
     "metadata": {},
     "output_type": "display_data"
    }
   ],
   "source": [
    "im1, im2 = collect(aoi)\n",
    "im1_rescale = rescale_ls(im1)\n",
    "im2_rescale = rescale_ls(im2)"
   ]
  },
  {
   "cell_type": "code",
   "execution_count": 7,
   "id": "2cd0aff1",
   "metadata": {},
   "outputs": [
    {
     "data": {
      "text/html": [
       "\n",
       "            <style>\n",
       "                .geemap-dark {\n",
       "                    --jp-widgets-color: white;\n",
       "                    --jp-widgets-label-color: white;\n",
       "                    --jp-ui-font-color1: white;\n",
       "                    --jp-layout-color2: #454545;\n",
       "                    background-color: #383838;\n",
       "                }\n",
       "\n",
       "                .geemap-dark .jupyter-button {\n",
       "                    --jp-layout-color3: #383838;\n",
       "                }\n",
       "\n",
       "                .geemap-colab {\n",
       "                    background-color: var(--colab-primary-surface-color, white);\n",
       "                }\n",
       "\n",
       "                .geemap-colab .jupyter-button {\n",
       "                    --jp-layout-color3: var(--colab-primary-surface-color, white);\n",
       "                }\n",
       "            </style>\n",
       "            "
      ],
      "text/plain": [
       "<IPython.core.display.HTML object>"
      ]
     },
     "metadata": {},
     "output_type": "display_data"
    },
    {
     "data": {
      "text/html": [
       "<div><style>:root {\n",
       "  --font-color-primary: var(--jp-content-font-color0, rgba(0, 0, 0, 1));\n",
       "  --font-color-secondary: var(--jp-content-font-color2, rgba(0, 0, 0, 0.7));\n",
       "  --font-color-accent: rgba(123, 31, 162, 1);\n",
       "  --border-color: var(--jp-border-color2, #e0e0e0);\n",
       "  --background-color: var(--jp-layout-color0, white);\n",
       "  --background-color-row-even: var(--jp-layout-color1, white);\n",
       "  --background-color-row-odd: var(--jp-layout-color2, #eeeeee);\n",
       "}\n",
       "\n",
       "html[theme=\"dark\"],\n",
       "body[data-theme=\"dark\"],\n",
       "body.vscode-dark {\n",
       "  --font-color-primary: rgba(255, 255, 255, 1);\n",
       "  --font-color-secondary: rgba(255, 255, 255, 0.7);\n",
       "  --font-color-accent: rgb(173, 132, 190);\n",
       "  --border-color: #2e2e2e;\n",
       "  --background-color: #111111;\n",
       "  --background-color-row-even: #111111;\n",
       "  --background-color-row-odd: #313131;\n",
       "}\n",
       "\n",
       ".eerepr {\n",
       "  padding: 1em;\n",
       "  line-height: 1.5em;\n",
       "  min-width: 300px;\n",
       "  max-width: 1200px;\n",
       "  overflow-y: scroll;\n",
       "  max-height: 600px;\n",
       "  border: 1px solid var(--border-color);\n",
       "  font-family: monospace;\n",
       "  font-size: 14px;\n",
       "}\n",
       "\n",
       ".eerepr li {\n",
       "  list-style-type: none;\n",
       "  margin: 0;\n",
       "}\n",
       "\n",
       ".eerepr ul {\n",
       "  padding-left: 1.5em !important;\n",
       "  margin: 0;\n",
       "}\n",
       "\n",
       ".eerepr > ul {\n",
       "  padding-left: 0 !important;\n",
       "}\n",
       "\n",
       ".eerepr summary {\n",
       "  color: var(--font-color-secondary);\n",
       "  cursor: pointer;\n",
       "  margin: 0;\n",
       "}\n",
       "\n",
       ".eerepr summary:hover {\n",
       "  color: var(--font-color-primary);\n",
       "  background-color: var(--background-color-row-odd)\n",
       "}\n",
       "\n",
       ".ee-k {\n",
       "  color: var(--font-color-accent);\n",
       "  margin-right: 6px;\n",
       "}\n",
       "\n",
       ".ee-v {\n",
       "  color: var(--font-color-primary);\n",
       "}\n",
       "\n",
       ".eerepr details > summary::before {\n",
       "  content: '▼';\n",
       "  display: inline-block;\n",
       "  margin-right: 6px;\n",
       "  transition: transform 0.2s;\n",
       "  transform: rotate(-90deg);\n",
       "}\n",
       "\n",
       ".eerepr details[open] > summary::before {\n",
       "  transform: rotate(0deg);\n",
       "}\n",
       "\n",
       ".eerepr details summary::-webkit-details-marker {\n",
       "  display:none;\n",
       "}\n",
       "\n",
       ".eerepr details summary {\n",
       "  list-style-type: none;\n",
       "}\n",
       "</style><div class='eerepr'><ul><li><details><summary>Image (6 bands)</summary><ul><li><span class='ee-k'>type:</span><span class='ee-v'>Image</span></li><li><details><summary>bands: List (6 elements)</summary><ul><li><details><summary>0: \"SR_B2\", double, EPSG:32633, 1449x972 px</summary><ul><li><span class='ee-k'>id:</span><span class='ee-v'>SR_B2</span></li><li><span class='ee-k'>crs:</span><span class='ee-v'>EPSG:32633</span></li><li><details><summary>crs_transform: [30, 0, 401385, 0, 30, 5688915]</summary><ul><li><span class='ee-k'>0:</span><span class='ee-v'>30</span></li><li><span class='ee-k'>1:</span><span class='ee-v'>0</span></li><li><span class='ee-k'>2:</span><span class='ee-v'>401385</span></li><li><span class='ee-k'>3:</span><span class='ee-v'>0</span></li><li><span class='ee-k'>4:</span><span class='ee-v'>30</span></li><li><span class='ee-k'>5:</span><span class='ee-v'>5688915</span></li></ul></details></li><li><details><summary>data_type: double</summary><ul><li><span class='ee-k'>type:</span><span class='ee-v'>PixelType</span></li><li><span class='ee-k'>max:</span><span class='ee-v'>1.6022125</span></li><li><span class='ee-k'>min:</span><span class='ee-v'>-0.2</span></li><li><span class='ee-k'>precision:</span><span class='ee-v'>double</span></li></ul></details></li><li><details><summary>dimensions: [1449, 972]</summary><ul><li><span class='ee-k'>0:</span><span class='ee-v'>1449</span></li><li><span class='ee-k'>1:</span><span class='ee-v'>972</span></li></ul></details></li><li><details><summary>origin: [2503, -5650]</summary><ul><li><span class='ee-k'>0:</span><span class='ee-v'>2503</span></li><li><span class='ee-k'>1:</span><span class='ee-v'>-5650</span></li></ul></details></li></ul></details></li><li><details><summary>1: \"SR_B3\", double, EPSG:32633, 1449x972 px</summary><ul><li><span class='ee-k'>id:</span><span class='ee-v'>SR_B3</span></li><li><span class='ee-k'>crs:</span><span class='ee-v'>EPSG:32633</span></li><li><details><summary>crs_transform: [30, 0, 401385, 0, 30, 5688915]</summary><ul><li><span class='ee-k'>0:</span><span class='ee-v'>30</span></li><li><span class='ee-k'>1:</span><span class='ee-v'>0</span></li><li><span class='ee-k'>2:</span><span class='ee-v'>401385</span></li><li><span class='ee-k'>3:</span><span class='ee-v'>0</span></li><li><span class='ee-k'>4:</span><span class='ee-v'>30</span></li><li><span class='ee-k'>5:</span><span class='ee-v'>5688915</span></li></ul></details></li><li><details><summary>data_type: double</summary><ul><li><span class='ee-k'>type:</span><span class='ee-v'>PixelType</span></li><li><span class='ee-k'>max:</span><span class='ee-v'>1.6022125</span></li><li><span class='ee-k'>min:</span><span class='ee-v'>-0.2</span></li><li><span class='ee-k'>precision:</span><span class='ee-v'>double</span></li></ul></details></li><li><details><summary>dimensions: [1449, 972]</summary><ul><li><span class='ee-k'>0:</span><span class='ee-v'>1449</span></li><li><span class='ee-k'>1:</span><span class='ee-v'>972</span></li></ul></details></li><li><details><summary>origin: [2503, -5650]</summary><ul><li><span class='ee-k'>0:</span><span class='ee-v'>2503</span></li><li><span class='ee-k'>1:</span><span class='ee-v'>-5650</span></li></ul></details></li></ul></details></li><li><details><summary>2: \"SR_B4\", double, EPSG:32633, 1449x972 px</summary><ul><li><span class='ee-k'>id:</span><span class='ee-v'>SR_B4</span></li><li><span class='ee-k'>crs:</span><span class='ee-v'>EPSG:32633</span></li><li><details><summary>crs_transform: [30, 0, 401385, 0, 30, 5688915]</summary><ul><li><span class='ee-k'>0:</span><span class='ee-v'>30</span></li><li><span class='ee-k'>1:</span><span class='ee-v'>0</span></li><li><span class='ee-k'>2:</span><span class='ee-v'>401385</span></li><li><span class='ee-k'>3:</span><span class='ee-v'>0</span></li><li><span class='ee-k'>4:</span><span class='ee-v'>30</span></li><li><span class='ee-k'>5:</span><span class='ee-v'>5688915</span></li></ul></details></li><li><details><summary>data_type: double</summary><ul><li><span class='ee-k'>type:</span><span class='ee-v'>PixelType</span></li><li><span class='ee-k'>max:</span><span class='ee-v'>1.6022125</span></li><li><span class='ee-k'>min:</span><span class='ee-v'>-0.2</span></li><li><span class='ee-k'>precision:</span><span class='ee-v'>double</span></li></ul></details></li><li><details><summary>dimensions: [1449, 972]</summary><ul><li><span class='ee-k'>0:</span><span class='ee-v'>1449</span></li><li><span class='ee-k'>1:</span><span class='ee-v'>972</span></li></ul></details></li><li><details><summary>origin: [2503, -5650]</summary><ul><li><span class='ee-k'>0:</span><span class='ee-v'>2503</span></li><li><span class='ee-k'>1:</span><span class='ee-v'>-5650</span></li></ul></details></li></ul></details></li><li><details><summary>3: \"SR_B5\", double, EPSG:32633, 1449x972 px</summary><ul><li><span class='ee-k'>id:</span><span class='ee-v'>SR_B5</span></li><li><span class='ee-k'>crs:</span><span class='ee-v'>EPSG:32633</span></li><li><details><summary>crs_transform: [30, 0, 401385, 0, 30, 5688915]</summary><ul><li><span class='ee-k'>0:</span><span class='ee-v'>30</span></li><li><span class='ee-k'>1:</span><span class='ee-v'>0</span></li><li><span class='ee-k'>2:</span><span class='ee-v'>401385</span></li><li><span class='ee-k'>3:</span><span class='ee-v'>0</span></li><li><span class='ee-k'>4:</span><span class='ee-v'>30</span></li><li><span class='ee-k'>5:</span><span class='ee-v'>5688915</span></li></ul></details></li><li><details><summary>data_type: double</summary><ul><li><span class='ee-k'>type:</span><span class='ee-v'>PixelType</span></li><li><span class='ee-k'>max:</span><span class='ee-v'>1.6022125</span></li><li><span class='ee-k'>min:</span><span class='ee-v'>-0.2</span></li><li><span class='ee-k'>precision:</span><span class='ee-v'>double</span></li></ul></details></li><li><details><summary>dimensions: [1449, 972]</summary><ul><li><span class='ee-k'>0:</span><span class='ee-v'>1449</span></li><li><span class='ee-k'>1:</span><span class='ee-v'>972</span></li></ul></details></li><li><details><summary>origin: [2503, -5650]</summary><ul><li><span class='ee-k'>0:</span><span class='ee-v'>2503</span></li><li><span class='ee-k'>1:</span><span class='ee-v'>-5650</span></li></ul></details></li></ul></details></li><li><details><summary>4: \"SR_B6\", double, EPSG:32633, 1449x972 px</summary><ul><li><span class='ee-k'>id:</span><span class='ee-v'>SR_B6</span></li><li><span class='ee-k'>crs:</span><span class='ee-v'>EPSG:32633</span></li><li><details><summary>crs_transform: [30, 0, 401385, 0, 30, 5688915]</summary><ul><li><span class='ee-k'>0:</span><span class='ee-v'>30</span></li><li><span class='ee-k'>1:</span><span class='ee-v'>0</span></li><li><span class='ee-k'>2:</span><span class='ee-v'>401385</span></li><li><span class='ee-k'>3:</span><span class='ee-v'>0</span></li><li><span class='ee-k'>4:</span><span class='ee-v'>30</span></li><li><span class='ee-k'>5:</span><span class='ee-v'>5688915</span></li></ul></details></li><li><details><summary>data_type: double</summary><ul><li><span class='ee-k'>type:</span><span class='ee-v'>PixelType</span></li><li><span class='ee-k'>max:</span><span class='ee-v'>1.6022125</span></li><li><span class='ee-k'>min:</span><span class='ee-v'>-0.2</span></li><li><span class='ee-k'>precision:</span><span class='ee-v'>double</span></li></ul></details></li><li><details><summary>dimensions: [1449, 972]</summary><ul><li><span class='ee-k'>0:</span><span class='ee-v'>1449</span></li><li><span class='ee-k'>1:</span><span class='ee-v'>972</span></li></ul></details></li><li><details><summary>origin: [2503, -5650]</summary><ul><li><span class='ee-k'>0:</span><span class='ee-v'>2503</span></li><li><span class='ee-k'>1:</span><span class='ee-v'>-5650</span></li></ul></details></li></ul></details></li><li><details><summary>5: \"SR_B7\", double, EPSG:32633, 1449x972 px</summary><ul><li><span class='ee-k'>id:</span><span class='ee-v'>SR_B7</span></li><li><span class='ee-k'>crs:</span><span class='ee-v'>EPSG:32633</span></li><li><details><summary>crs_transform: [30, 0, 401385, 0, 30, 5688915]</summary><ul><li><span class='ee-k'>0:</span><span class='ee-v'>30</span></li><li><span class='ee-k'>1:</span><span class='ee-v'>0</span></li><li><span class='ee-k'>2:</span><span class='ee-v'>401385</span></li><li><span class='ee-k'>3:</span><span class='ee-v'>0</span></li><li><span class='ee-k'>4:</span><span class='ee-v'>30</span></li><li><span class='ee-k'>5:</span><span class='ee-v'>5688915</span></li></ul></details></li><li><details><summary>data_type: double</summary><ul><li><span class='ee-k'>type:</span><span class='ee-v'>PixelType</span></li><li><span class='ee-k'>max:</span><span class='ee-v'>1.6022125</span></li><li><span class='ee-k'>min:</span><span class='ee-v'>-0.2</span></li><li><span class='ee-k'>precision:</span><span class='ee-v'>double</span></li></ul></details></li><li><details><summary>dimensions: [1449, 972]</summary><ul><li><span class='ee-k'>0:</span><span class='ee-v'>1449</span></li><li><span class='ee-k'>1:</span><span class='ee-v'>972</span></li></ul></details></li><li><details><summary>origin: [2503, -5650]</summary><ul><li><span class='ee-k'>0:</span><span class='ee-v'>2503</span></li><li><span class='ee-k'>1:</span><span class='ee-v'>-5650</span></li></ul></details></li></ul></details></li></ul></details></li><li><details><summary>properties: Object (1 property)</summary><ul><li><details><summary>system:footprint: Polygon (5 vertices)</summary><ul><li><span class='ee-k'>type:</span><span class='ee-v'>Polygon</span></li><li><details><summary>coordinates: List (1 element)</summary><ul><li><details><summary>0: List (5 elements)</summary><ul><li><details><summary>0: [14.673153981451712, 49.82721862997025]</summary><ul><li><span class='ee-k'>0:</span><span class='ee-v'>14.673153981451712</span></li><li><span class='ee-k'>1:</span><span class='ee-v'>49.82721862997025</span></li></ul></details></li><li><details><summary>1: [15.2767153828189, 49.82721862997025]</summary><ul><li><span class='ee-k'>0:</span><span class='ee-v'>15.2767153828189</span></li><li><span class='ee-k'>1:</span><span class='ee-v'>49.82721862997025</span></li></ul></details></li><li><details><summary>2: [15.2767153828189, 50.08873547414839]</summary><ul><li><span class='ee-k'>0:</span><span class='ee-v'>15.2767153828189</span></li><li><span class='ee-k'>1:</span><span class='ee-v'>50.08873547414839</span></li></ul></details></li><li><details><summary>3: [14.673153981451712, 50.08873547414839]</summary><ul><li><span class='ee-k'>0:</span><span class='ee-v'>14.673153981451712</span></li><li><span class='ee-k'>1:</span><span class='ee-v'>50.08873547414839</span></li></ul></details></li><li><details><summary>4: [14.673153981451712, 49.82721862997025]</summary><ul><li><span class='ee-k'>0:</span><span class='ee-v'>14.673153981451712</span></li><li><span class='ee-k'>1:</span><span class='ee-v'>49.82721862997025</span></li></ul></details></li></ul></details></li></ul></details></li></ul></details></li></ul></details></li></ul></details></li></ul></div></div>"
      ],
      "text/plain": [
       "<ee.image.Image at 0x2c3b56dca70>"
      ]
     },
     "execution_count": 7,
     "metadata": {},
     "output_type": "execute_result"
    }
   ],
   "source": [
    "im2_rescale"
   ]
  },
  {
   "cell_type": "code",
   "execution_count": 8,
   "id": "d8e476a7",
   "metadata": {},
   "outputs": [
    {
     "data": {
      "text/html": [
       "\n",
       "            <style>\n",
       "                .geemap-dark {\n",
       "                    --jp-widgets-color: white;\n",
       "                    --jp-widgets-label-color: white;\n",
       "                    --jp-ui-font-color1: white;\n",
       "                    --jp-layout-color2: #454545;\n",
       "                    background-color: #383838;\n",
       "                }\n",
       "\n",
       "                .geemap-dark .jupyter-button {\n",
       "                    --jp-layout-color3: #383838;\n",
       "                }\n",
       "\n",
       "                .geemap-colab {\n",
       "                    background-color: var(--colab-primary-surface-color, white);\n",
       "                }\n",
       "\n",
       "                .geemap-colab .jupyter-button {\n",
       "                    --jp-layout-color3: var(--colab-primary-surface-color, white);\n",
       "                }\n",
       "            </style>\n",
       "            "
      ],
      "text/plain": [
       "<IPython.core.display.HTML object>"
      ]
     },
     "metadata": {},
     "output_type": "display_data"
    },
    {
     "name": "stdout",
     "output_type": "stream",
     "text": [
      "same reference system: True\n"
     ]
    }
   ],
   "source": [
    "target = im2_rescale\n",
    "reference = im1_rescale\n",
    "\n",
    "reference_new = reference.clip(aoi)\n",
    "crs_info_reference_n = reference.projection().getInfo()\n",
    "target = target.clip(aoi)\n",
    "crs_info_target = target.projection().getInfo()\n",
    "# check if images are in the same reference system\n",
    "print(f'same reference system: {crs_info_reference_n == crs_info_target}') "
   ]
  },
  {
   "cell_type": "code",
   "execution_count": null,
   "id": "747d5ace",
   "metadata": {},
   "outputs": [
    {
     "data": {
      "text/html": [
       "\n",
       "            <style>\n",
       "                .geemap-dark {\n",
       "                    --jp-widgets-color: white;\n",
       "                    --jp-widgets-label-color: white;\n",
       "                    --jp-ui-font-color1: white;\n",
       "                    --jp-layout-color2: #454545;\n",
       "                    background-color: #383838;\n",
       "                }\n",
       "\n",
       "                .geemap-dark .jupyter-button {\n",
       "                    --jp-layout-color3: #383838;\n",
       "                }\n",
       "\n",
       "                .geemap-colab {\n",
       "                    background-color: var(--colab-primary-surface-color, white);\n",
       "                }\n",
       "\n",
       "                .geemap-colab .jupyter-button {\n",
       "                    --jp-layout-color3: var(--colab-primary-surface-color, white);\n",
       "                }\n",
       "            </style>\n",
       "            "
      ],
      "text/plain": [
       "<IPython.core.display.HTML object>"
      ]
     },
     "metadata": {},
     "output_type": "display_data"
    },
    {
     "name": "stdout",
     "output_type": "stream",
     "text": [
      "Exporting iMAD to projects/ee-koziskoa-dp/assets/colab_imad_30_rescaled\n",
      " task id: MOLBQNR54XYCL67EJRPP3PWC\n"
     ]
    }
   ],
   "source": [
    "asset_path = f'{EXPORT_PATH}colab_imad_10_rescaled' \n",
    "# colab_imad_1_rescaled, colab_imad_5_rescaled, colab_imad_20_rescaled, colab_imad_30_rescaled, colab_imad_40_rescaled, colab_imad_Max_rescaled\n",
    "run_imad(aoi, reference_new.select(visirbands), target.select(visirbands), asset_path)"
   ]
  },
  {
   "cell_type": "code",
   "execution_count": null,
   "id": "ffa131b2",
   "metadata": {},
   "outputs": [
    {
     "data": {
      "text/html": [
       "\n",
       "            <style>\n",
       "                .geemap-dark {\n",
       "                    --jp-widgets-color: white;\n",
       "                    --jp-widgets-label-color: white;\n",
       "                    --jp-ui-font-color1: white;\n",
       "                    --jp-layout-color2: #454545;\n",
       "                    background-color: #383838;\n",
       "                }\n",
       "\n",
       "                .geemap-dark .jupyter-button {\n",
       "                    --jp-layout-color3: #383838;\n",
       "                }\n",
       "\n",
       "                .geemap-colab {\n",
       "                    background-color: var(--colab-primary-surface-color, white);\n",
       "                }\n",
       "\n",
       "                .geemap-colab .jupyter-button {\n",
       "                    --jp-layout-color3: var(--colab-primary-surface-color, white);\n",
       "                }\n",
       "            </style>\n",
       "            "
      ],
      "text/plain": [
       "<IPython.core.display.HTML object>"
      ]
     },
     "metadata": {},
     "output_type": "display_data"
    },
    {
     "name": "stdout",
     "output_type": "stream",
     "text": [
      "same reference system: True\n"
     ]
    },
    {
     "data": {
      "text/plain": [
       "\" IF NEEDED, REPROJECT IMAGES TO THE SAME CRS\\n#REPROJECTING:\\nreference_new = reference.reproject(crs=reference.projection(), scale=reference.projection().nominalScale())\\nreference_new = reference_new.clip(aoi)\\ncrs_info_reference_n = reference_new.projection().getInfo()\\ntarget = target.reproject(crs=reference.projection(), scale=reference.projection().nominalScale())\\ntarget = target.clip(aoi)\\ncrs_info_target = target.projection().getInfo()\\nprint(f'same reference system: {crs_info_reference_n == crs_info_target}')\""
      ]
     },
     "execution_count": 10,
     "metadata": {},
     "output_type": "execute_result"
    }
   ],
   "source": [
    "target = im2_rescale.select(visirbands)\n",
    "reference = im1_rescale.select(visirbands)\n",
    "imad_asset_path = 'projects/ee-koziskoa-dp/assets/colab_imad_10_rescaled'  \n",
    "\n",
    "# colab_imad_1_rescaled, colab_imad_5_rescaled, colab_imad_20_rescaled, colab_imad_30_rescaled, colab_imad_40_rescaled, colab_imad_Max_rescaled\n",
    "\n",
    "\n",
    "reference_new = reference.clip(aoi)\n",
    "crs_info_reference_n = reference_new.projection().getInfo()\n",
    "target = target.clip(aoi)\n",
    "crs_info_target = target.projection().getInfo()\n",
    "# check if images are in the same reference system\n",
    "print(f'same reference system: {crs_info_reference_n == crs_info_target}') \n",
    "\n",
    "''' IF NEEDED, REPROJECT IMAGES TO THE SAME CRS\n",
    "#REPROJECTING:\n",
    "reference_new = reference.reproject(crs=reference.projection(), scale=reference.projection().nominalScale())\n",
    "reference_new = reference_new.clip(aoi)\n",
    "crs_info_reference_n = reference_new.projection().getInfo()\n",
    "target = target.reproject(crs=reference.projection(), scale=reference.projection().nominalScale())\n",
    "target = target.clip(aoi)\n",
    "crs_info_target = target.projection().getInfo()\n",
    "print(f'same reference system: {crs_info_reference_n == crs_info_target}')'''"
   ]
  },
  {
   "cell_type": "code",
   "execution_count": 11,
   "id": "e497a650",
   "metadata": {},
   "outputs": [
    {
     "data": {
      "text/html": [
       "\n",
       "            <style>\n",
       "                .geemap-dark {\n",
       "                    --jp-widgets-color: white;\n",
       "                    --jp-widgets-label-color: white;\n",
       "                    --jp-ui-font-color1: white;\n",
       "                    --jp-layout-color2: #454545;\n",
       "                    background-color: #383838;\n",
       "                }\n",
       "\n",
       "                .geemap-dark .jupyter-button {\n",
       "                    --jp-layout-color3: #383838;\n",
       "                }\n",
       "\n",
       "                .geemap-colab {\n",
       "                    background-color: var(--colab-primary-surface-color, white);\n",
       "                }\n",
       "\n",
       "                .geemap-colab .jupyter-button {\n",
       "                    --jp-layout-color3: var(--colab-primary-surface-color, white);\n",
       "                }\n",
       "            </style>\n",
       "            "
      ],
      "text/plain": [
       "<IPython.core.display.HTML object>"
      ]
     },
     "metadata": {},
     "output_type": "display_data"
    },
    {
     "name": "stdout",
     "output_type": "stream",
     "text": [
      "iMAD result:\n",
      "iterations: 10\n",
      "canonical correlations: [0.9883277617401384,0.9588760307575506,0.7912307963065308,0.7062702910416456,0.5446847043563119,0.5173717666375767]\n",
      "orthogonal regression:\n",
      "          Slope        Intercept      Rho\n",
      "array([[ 1.14101429,  0.00567879,  0.90272637],\n",
      "       [ 1.14390222,  0.00387363,  0.94798419],\n",
      "       [ 1.11981114,  0.00580904,  0.96135886],\n",
      "       [ 0.92179069, -0.01001866,  0.97337294],\n",
      "       [ 1.09893759, -0.00760058,  0.98054878],\n",
      "       [ 1.09963978, -0.0033906 ,  0.98234804]])\n"
     ]
    }
   ],
   "source": [
    "# Change the iMAD image path as needed. Here we use Earth Engine's asset.\n",
    "im_norm, coeffs, im_stack, noChangeMask = normalize(\n",
    "    reference_new, target, imad_asset_path)\n",
    "\n",
    "# No-change image.\n",
    "nc = ee.Image.constant(1).clip(aoi).updateMask(noChangeMask)"
   ]
  },
  {
   "cell_type": "code",
   "execution_count": null,
   "id": "2b10cb42",
   "metadata": {},
   "outputs": [
    {
     "data": {
      "text/html": [
       "\n",
       "            <style>\n",
       "                .geemap-dark {\n",
       "                    --jp-widgets-color: white;\n",
       "                    --jp-widgets-label-color: white;\n",
       "                    --jp-ui-font-color1: white;\n",
       "                    --jp-layout-color2: #454545;\n",
       "                    background-color: #383838;\n",
       "                }\n",
       "\n",
       "                .geemap-dark .jupyter-button {\n",
       "                    --jp-layout-color3: #383838;\n",
       "                }\n",
       "\n",
       "                .geemap-colab {\n",
       "                    background-color: var(--colab-primary-surface-color, white);\n",
       "                }\n",
       "\n",
       "                .geemap-colab .jupyter-button {\n",
       "                    --jp-layout-color3: var(--colab-primary-surface-color, white);\n",
       "                }\n",
       "            </style>\n",
       "            "
      ],
      "text/plain": [
       "<IPython.core.display.HTML object>"
      ]
     },
     "metadata": {},
     "output_type": "display_data"
    },
    {
     "name": "stdout",
     "output_type": "stream",
     "text": [
      "Koeficienty z IRMAD byly uloženy do 'IMAD_coeffs_1_rescale_SWIR_POSLEDNI.csv'\n"
     ]
    }
   ],
   "source": [
    "import pandas as pd\n",
    "\n",
    "# save coefficients to a CSV file\n",
    "bands = ['SR_B2', 'SR_B3', 'SR_B4', 'SR_B5', 'SR_B6', 'SR_B7']\n",
    "df = pd.DataFrame(coeffs, columns=[\"Slope\", \"Offset\", \"Correlation\"])\n",
    "df.insert(0, \"Band\", bands)\n",
    "\n",
    "df.to_csv(\"IMAD_coeffs_1_SWIR.csv\", index=False) \n",
    "print(\"IMAD coefficients were saved to 'IMAD_coeffs_1_rescale_SWIR.csv'\")"
   ]
  },
  {
   "cell_type": "code",
   "execution_count": null,
   "id": "a40944ab",
   "metadata": {},
   "outputs": [
    {
     "data": {
      "text/html": [
       "\n",
       "            <style>\n",
       "                .geemap-dark {\n",
       "                    --jp-widgets-color: white;\n",
       "                    --jp-widgets-label-color: white;\n",
       "                    --jp-ui-font-color1: white;\n",
       "                    --jp-layout-color2: #454545;\n",
       "                    background-color: #383838;\n",
       "                }\n",
       "\n",
       "                .geemap-dark .jupyter-button {\n",
       "                    --jp-layout-color3: #383838;\n",
       "                }\n",
       "\n",
       "                .geemap-colab {\n",
       "                    background-color: var(--colab-primary-surface-color, white);\n",
       "                }\n",
       "\n",
       "                .geemap-colab .jupyter-button {\n",
       "                    --jp-layout-color3: var(--colab-primary-surface-color, white);\n",
       "                }\n",
       "            </style>\n",
       "            "
      ],
      "text/plain": [
       "<IPython.core.display.HTML object>"
      ]
     },
     "metadata": {},
     "output_type": "display_data"
    }
   ],
   "source": [
    "# this part is taken from M. J. Canty: https://developers.google.com/earth-engine/tutorials/community/imad-tutorial-pt3\n",
    "def plot_orthoregress(coeffs, im_stack, bandNames=visirbands, aoi=None):\n",
    "    '''Plot the regression fits for 6 spectral bands.'''\n",
    "    fig, ax = plt.subplots(2, 3, figsize=(12, 8))\n",
    "    a = coeffs[:, 1].tolist()\n",
    "    b = coeffs[:, 0].tolist()\n",
    "\n",
    "    for i in range(3):\n",
    "        # Visual bands.\n",
    "        try:\n",
    "            d = np.array(ee.Array(im_stack.select(i, 6 + i)\n",
    "                                  .reduceRegion(ee.Reducer.toList(2), geometry=aoi, scale=30, maxPixels=1e10)\n",
    "                                  .get('list')).getInfo())\n",
    "            ax[0, i].plot(d[:, 0], d[:, 1], '.', label=bandNames[i])\n",
    "            ax[0, i].set_ylim(-0.1, 1)\n",
    "            ax[0, i].set_xlim(-0.1, 1)\n",
    "            ax[0, i].plot([-0.1, 1], [a[i] - 0.1 * b[i], a[i] + 1 * b[i]], '-r', label=f'ortho regression'),\n",
    "            ax[0, i].set_title(f'test')\n",
    "            ax[0, i].legend()\n",
    "            ax[0, i].grid()\n",
    "        except ee.EEException as e:\n",
    "            print(\"Error fetching visual band data:\", e)\n",
    "\n",
    "        # IR bands.\n",
    "        try:\n",
    "            d = np.array(ee.Array(im_stack.select(i + 3, 9 + i)\n",
    "                                  .reduceRegion(ee.Reducer.toList(2), geometry=aoi, scale=30, maxPixels=1e10)\n",
    "                                  .get('list')).getInfo())\n",
    "            ax[1, i].plot(d[:, 0], d[:, 1], '.', label=bandNames[i + 3])\n",
    "            ax[1, i].set_ylim(-0.1, 1)\n",
    "            ax[1, i].set_xlim(-0.1, 1)\n",
    "            ax[1, i].plot([-0.1, 1], [a[i + 3] - 0.1 * b[i + 3], a[i + 3] + 1 * b[i + 3]], '-r', label='ortho regression')\n",
    "            ax[1, i].legend()\n",
    "            ax[1, i].grid()\n",
    "        except ee.EEException as e:\n",
    "            print(\"Error fetching IR band data:\", e)\n",
    "    plt.show()"
   ]
  },
  {
   "cell_type": "code",
   "execution_count": 13,
   "id": "4cbcf323",
   "metadata": {},
   "outputs": [
    {
     "data": {
      "text/html": [
       "\n",
       "            <style>\n",
       "                .geemap-dark {\n",
       "                    --jp-widgets-color: white;\n",
       "                    --jp-widgets-label-color: white;\n",
       "                    --jp-ui-font-color1: white;\n",
       "                    --jp-layout-color2: #454545;\n",
       "                    background-color: #383838;\n",
       "                }\n",
       "\n",
       "                .geemap-dark .jupyter-button {\n",
       "                    --jp-layout-color3: #383838;\n",
       "                }\n",
       "\n",
       "                .geemap-colab {\n",
       "                    background-color: var(--colab-primary-surface-color, white);\n",
       "                }\n",
       "\n",
       "                .geemap-colab .jupyter-button {\n",
       "                    --jp-layout-color3: var(--colab-primary-surface-color, white);\n",
       "                }\n",
       "            </style>\n",
       "            "
      ],
      "text/plain": [
       "<IPython.core.display.HTML object>"
      ]
     },
     "metadata": {},
     "output_type": "display_data"
    },
    {
     "data": {
      "image/png": "[encoded data removed]",
      "text/plain": [
       "<Figure size 1200x800 with 6 Axes>"
      ]
     },
     "metadata": {},
     "output_type": "display_data"
    }
   ],
   "source": [
    "plot_orthoregress( coeffs, im_stack )"
   ]
  },
  {
   "cell_type": "code",
   "execution_count": null,
   "id": "9f9a7b4e",
   "metadata": {},
   "outputs": [
    {
     "data": {
      "text/html": [
       "\n",
       "            <style>\n",
       "                .geemap-dark {\n",
       "                    --jp-widgets-color: white;\n",
       "                    --jp-widgets-label-color: white;\n",
       "                    --jp-ui-font-color1: white;\n",
       "                    --jp-layout-color2: #454545;\n",
       "                    background-color: #383838;\n",
       "                }\n",
       "\n",
       "                .geemap-dark .jupyter-button {\n",
       "                    --jp-layout-color3: #383838;\n",
       "                }\n",
       "\n",
       "                .geemap-colab {\n",
       "                    background-color: var(--colab-primary-surface-color, white);\n",
       "                }\n",
       "\n",
       "                .geemap-colab .jupyter-button {\n",
       "                    --jp-layout-color3: var(--colab-primary-surface-color, white);\n",
       "                }\n",
       "            </style>\n",
       "            "
      ],
      "text/plain": [
       "<IPython.core.display.HTML object>"
      ]
     },
     "metadata": {},
     "output_type": "display_data"
    },
    {
     "data": {
      "application/vnd.jupyter.widget-view+json": {
       "model_id": "2c38f77c5312400889b796de7b502005",
       "version_major": 2,
       "version_minor": 0
      },
      "text/plain": [
       "Map(center=[49.95825012032068, 14.974934682135093], controls=(WidgetControl(options=['position', 'transparent_…"
      ]
     },
     "metadata": {},
     "output_type": "display_data"
    }
   ],
   "source": [
    "# check selected images and results \n",
    "M1 = geemap.Map()\n",
    "M1.centerObject(aoi, 11)\n",
    "#M1.addLayer(reference_new.select(visnirbands), visnirparams, 'L9')\n",
    "#M1.addLayer(target.select(visnirbands), visnirparams, 'L5')\n",
    "#M1.addLayer(im_norm.select(visnirbands), visnirparams, 'L5_norm')\n",
    "M1.addLayer(nc,{'min': 0, 'max': 1, 'palette': ['red']}, 'no change', True)\n",
    "M1"
   ]
  },
  {
   "cell_type": "code",
   "execution_count": 15,
   "id": "ab921f26",
   "metadata": {},
   "outputs": [
    {
     "data": {
      "text/html": [
       "\n",
       "            <style>\n",
       "                .geemap-dark {\n",
       "                    --jp-widgets-color: white;\n",
       "                    --jp-widgets-label-color: white;\n",
       "                    --jp-ui-font-color1: white;\n",
       "                    --jp-layout-color2: #454545;\n",
       "                    background-color: #383838;\n",
       "                }\n",
       "\n",
       "                .geemap-dark .jupyter-button {\n",
       "                    --jp-layout-color3: #383838;\n",
       "                }\n",
       "\n",
       "                .geemap-colab {\n",
       "                    background-color: var(--colab-primary-surface-color, white);\n",
       "                }\n",
       "\n",
       "                .geemap-colab .jupyter-button {\n",
       "                    --jp-layout-color3: var(--colab-primary-surface-color, white);\n",
       "                }\n",
       "            </style>\n",
       "            "
      ],
      "text/plain": [
       "<IPython.core.display.HTML object>"
      ]
     },
     "metadata": {},
     "output_type": "display_data"
    },
    {
     "name": "stdout",
     "output_type": "stream",
     "text": [
      "EPSG:32633 [30, 0, 401385, 0, -30, 5688915]\n",
      "EPSG:32633 [30, 0, 401385, 0, 30, 5688915]\n",
      "EPSG:32633 [30, 0, 401385, 0, 30, 5688915]\n"
     ]
    },
    {
     "data": {
      "text/plain": [
       "True"
      ]
     },
     "execution_count": 15,
     "metadata": {},
     "output_type": "execute_result"
    }
   ],
   "source": [
    "# set projection to the same as the reference image\n",
    "im_norm = im_norm.reproject(crs=reference.projection(), scale=reference.projection().nominalScale())\n",
    "im_norm_cliped = im_norm.clip(aoi)\n",
    "crs_info_norm = im_norm_cliped.projection().getInfo()\n",
    "\n",
    "print(crs_info_norm['crs'], crs_info_norm['transform'])\n",
    "print(crs_info_reference_n['crs'], crs_info_reference_n['transform'])\n",
    "print(crs_info_target['crs'], crs_info_target['transform'])\n",
    "crs_info_reference_n == crs_info_norm # check if the projections are the same\n",
    "\n",
    "norm_names = ee.List(['iMAD_B'+str(i+2) for i in range(6)])\n",
    "im_norm_cliped = im_norm_cliped.select(0,1,2,3,4,5).rename(norm_names)\n",
    "im_norm_cliped.projection().getInfo()\n",
    "\n",
    "noChangeMask = noChangeMask.reproject(crs=reference.projection(), scale=reference.projection().nominalScale())\n",
    "noChangeMask = noChangeMask.clip(aoi)\n",
    "crs_info_nc = noChangeMask.projection().getInfo()\n",
    "crs_info_nc == crs_info_norm"
   ]
  },
  {
   "cell_type": "code",
   "execution_count": 16,
   "id": "f0895de0",
   "metadata": {},
   "outputs": [
    {
     "data": {
      "text/html": [
       "\n",
       "            <style>\n",
       "                .geemap-dark {\n",
       "                    --jp-widgets-color: white;\n",
       "                    --jp-widgets-label-color: white;\n",
       "                    --jp-ui-font-color1: white;\n",
       "                    --jp-layout-color2: #454545;\n",
       "                    background-color: #383838;\n",
       "                }\n",
       "\n",
       "                .geemap-dark .jupyter-button {\n",
       "                    --jp-layout-color3: #383838;\n",
       "                }\n",
       "\n",
       "                .geemap-colab {\n",
       "                    background-color: var(--colab-primary-surface-color, white);\n",
       "                }\n",
       "\n",
       "                .geemap-colab .jupyter-button {\n",
       "                    --jp-layout-color3: var(--colab-primary-surface-color, white);\n",
       "                }\n",
       "            </style>\n",
       "            "
      ],
      "text/plain": [
       "<IPython.core.display.HTML object>"
      ]
     },
     "metadata": {},
     "output_type": "display_data"
    },
    {
     "name": "stdout",
     "output_type": "stream",
     "text": [
      "Check SRTM reference system: True\n",
      "Check SRTM derivates reference system: True\n"
     ]
    },
    {
     "data": {
      "text/html": [
       "<div><style>:root {\n",
       "  --font-color-primary: var(--jp-content-font-color0, rgba(0, 0, 0, 1));\n",
       "  --font-color-secondary: var(--jp-content-font-color2, rgba(0, 0, 0, 0.7));\n",
       "  --font-color-accent: rgba(123, 31, 162, 1);\n",
       "  --border-color: var(--jp-border-color2, #e0e0e0);\n",
       "  --background-color: var(--jp-layout-color0, white);\n",
       "  --background-color-row-even: var(--jp-layout-color1, white);\n",
       "  --background-color-row-odd: var(--jp-layout-color2, #eeeeee);\n",
       "}\n",
       "\n",
       "html[theme=\"dark\"],\n",
       "body[data-theme=\"dark\"],\n",
       "body.vscode-dark {\n",
       "  --font-color-primary: rgba(255, 255, 255, 1);\n",
       "  --font-color-secondary: rgba(255, 255, 255, 0.7);\n",
       "  --font-color-accent: rgb(173, 132, 190);\n",
       "  --border-color: #2e2e2e;\n",
       "  --background-color: #111111;\n",
       "  --background-color-row-even: #111111;\n",
       "  --background-color-row-odd: #313131;\n",
       "}\n",
       "\n",
       ".eerepr {\n",
       "  padding: 1em;\n",
       "  line-height: 1.5em;\n",
       "  min-width: 300px;\n",
       "  max-width: 1200px;\n",
       "  overflow-y: scroll;\n",
       "  max-height: 600px;\n",
       "  border: 1px solid var(--border-color);\n",
       "  font-family: monospace;\n",
       "  font-size: 14px;\n",
       "}\n",
       "\n",
       ".eerepr li {\n",
       "  list-style-type: none;\n",
       "  margin: 0;\n",
       "}\n",
       "\n",
       ".eerepr ul {\n",
       "  padding-left: 1.5em !important;\n",
       "  margin: 0;\n",
       "}\n",
       "\n",
       ".eerepr > ul {\n",
       "  padding-left: 0 !important;\n",
       "}\n",
       "\n",
       ".eerepr summary {\n",
       "  color: var(--font-color-secondary);\n",
       "  cursor: pointer;\n",
       "  margin: 0;\n",
       "}\n",
       "\n",
       ".eerepr summary:hover {\n",
       "  color: var(--font-color-primary);\n",
       "  background-color: var(--background-color-row-odd)\n",
       "}\n",
       "\n",
       ".ee-k {\n",
       "  color: var(--font-color-accent);\n",
       "  margin-right: 6px;\n",
       "}\n",
       "\n",
       ".ee-v {\n",
       "  color: var(--font-color-primary);\n",
       "}\n",
       "\n",
       ".eerepr details > summary::before {\n",
       "  content: '▼';\n",
       "  display: inline-block;\n",
       "  margin-right: 6px;\n",
       "  transition: transform 0.2s;\n",
       "  transform: rotate(-90deg);\n",
       "}\n",
       "\n",
       ".eerepr details[open] > summary::before {\n",
       "  transform: rotate(0deg);\n",
       "}\n",
       "\n",
       ".eerepr details summary::-webkit-details-marker {\n",
       "  display:none;\n",
       "}\n",
       "\n",
       ".eerepr details summary {\n",
       "  list-style-type: none;\n",
       "}\n",
       "</style><div class='eerepr'><ul><li><details><summary>Image (22 bands)</summary><ul><li><span class='ee-k'>type:</span><span class='ee-v'>Image</span></li><li><details><summary>bands: List (22 elements)</summary><ul><li><details><summary>0: \"SR_B2\", float, EPSG:32633, 1448x971 px</summary><ul><li><span class='ee-k'>id:</span><span class='ee-v'>SR_B2</span></li><li><span class='ee-k'>crs:</span><span class='ee-v'>EPSG:32633</span></li><li><details><summary>crs_transform: [30, 0, 401385, 0, 30, 5688915]</summary><ul><li><span class='ee-k'>0:</span><span class='ee-v'>30</span></li><li><span class='ee-k'>1:</span><span class='ee-v'>0</span></li><li><span class='ee-k'>2:</span><span class='ee-v'>401385</span></li><li><span class='ee-k'>3:</span><span class='ee-v'>0</span></li><li><span class='ee-k'>4:</span><span class='ee-v'>30</span></li><li><span class='ee-k'>5:</span><span class='ee-v'>5688915</span></li></ul></details></li><li><details><summary>data_type: float</summary><ul><li><span class='ee-k'>type:</span><span class='ee-v'>PixelType</span></li><li><span class='ee-k'>precision:</span><span class='ee-v'>float</span></li></ul></details></li><li><details><summary>dimensions: [1448, 971]</summary><ul><li><span class='ee-k'>0:</span><span class='ee-v'>1448</span></li><li><span class='ee-k'>1:</span><span class='ee-v'>971</span></li></ul></details></li><li><details><summary>origin: [2503, -5649]</summary><ul><li><span class='ee-k'>0:</span><span class='ee-v'>2503</span></li><li><span class='ee-k'>1:</span><span class='ee-v'>-5649</span></li></ul></details></li></ul></details></li><li><details><summary>1: \"SR_B3\", float, EPSG:32633, 1448x971 px</summary><ul><li><span class='ee-k'>id:</span><span class='ee-v'>SR_B3</span></li><li><span class='ee-k'>crs:</span><span class='ee-v'>EPSG:32633</span></li><li><details><summary>crs_transform: [30, 0, 401385, 0, 30, 5688915]</summary><ul><li><span class='ee-k'>0:</span><span class='ee-v'>30</span></li><li><span class='ee-k'>1:</span><span class='ee-v'>0</span></li><li><span class='ee-k'>2:</span><span class='ee-v'>401385</span></li><li><span class='ee-k'>3:</span><span class='ee-v'>0</span></li><li><span class='ee-k'>4:</span><span class='ee-v'>30</span></li><li><span class='ee-k'>5:</span><span class='ee-v'>5688915</span></li></ul></details></li><li><details><summary>data_type: float</summary><ul><li><span class='ee-k'>type:</span><span class='ee-v'>PixelType</span></li><li><span class='ee-k'>precision:</span><span class='ee-v'>float</span></li></ul></details></li><li><details><summary>dimensions: [1448, 971]</summary><ul><li><span class='ee-k'>0:</span><span class='ee-v'>1448</span></li><li><span class='ee-k'>1:</span><span class='ee-v'>971</span></li></ul></details></li><li><details><summary>origin: [2503, -5649]</summary><ul><li><span class='ee-k'>0:</span><span class='ee-v'>2503</span></li><li><span class='ee-k'>1:</span><span class='ee-v'>-5649</span></li></ul></details></li></ul></details></li><li><details><summary>2: \"SR_B4\", float, EPSG:32633, 1448x971 px</summary><ul><li><span class='ee-k'>id:</span><span class='ee-v'>SR_B4</span></li><li><span class='ee-k'>crs:</span><span class='ee-v'>EPSG:32633</span></li><li><details><summary>crs_transform: [30, 0, 401385, 0, 30, 5688915]</summary><ul><li><span class='ee-k'>0:</span><span class='ee-v'>30</span></li><li><span class='ee-k'>1:</span><span class='ee-v'>0</span></li><li><span class='ee-k'>2:</span><span class='ee-v'>401385</span></li><li><span class='ee-k'>3:</span><span class='ee-v'>0</span></li><li><span class='ee-k'>4:</span><span class='ee-v'>30</span></li><li><span class='ee-k'>5:</span><span class='ee-v'>5688915</span></li></ul></details></li><li><details><summary>data_type: float</summary><ul><li><span class='ee-k'>type:</span><span class='ee-v'>PixelType</span></li><li><span class='ee-k'>precision:</span><span class='ee-v'>float</span></li></ul></details></li><li><details><summary>dimensions: [1448, 971]</summary><ul><li><span class='ee-k'>0:</span><span class='ee-v'>1448</span></li><li><span class='ee-k'>1:</span><span class='ee-v'>971</span></li></ul></details></li><li><details><summary>origin: [2503, -5649]</summary><ul><li><span class='ee-k'>0:</span><span class='ee-v'>2503</span></li><li><span class='ee-k'>1:</span><span class='ee-v'>-5649</span></li></ul></details></li></ul></details></li><li><details><summary>3: \"SR_B5\", float, EPSG:32633, 1448x971 px</summary><ul><li><span class='ee-k'>id:</span><span class='ee-v'>SR_B5</span></li><li><span class='ee-k'>crs:</span><span class='ee-v'>EPSG:32633</span></li><li><details><summary>crs_transform: [30, 0, 401385, 0, 30, 5688915]</summary><ul><li><span class='ee-k'>0:</span><span class='ee-v'>30</span></li><li><span class='ee-k'>1:</span><span class='ee-v'>0</span></li><li><span class='ee-k'>2:</span><span class='ee-v'>401385</span></li><li><span class='ee-k'>3:</span><span class='ee-v'>0</span></li><li><span class='ee-k'>4:</span><span class='ee-v'>30</span></li><li><span class='ee-k'>5:</span><span class='ee-v'>5688915</span></li></ul></details></li><li><details><summary>data_type: float</summary><ul><li><span class='ee-k'>type:</span><span class='ee-v'>PixelType</span></li><li><span class='ee-k'>precision:</span><span class='ee-v'>float</span></li></ul></details></li><li><details><summary>dimensions: [1448, 971]</summary><ul><li><span class='ee-k'>0:</span><span class='ee-v'>1448</span></li><li><span class='ee-k'>1:</span><span class='ee-v'>971</span></li></ul></details></li><li><details><summary>origin: [2503, -5649]</summary><ul><li><span class='ee-k'>0:</span><span class='ee-v'>2503</span></li><li><span class='ee-k'>1:</span><span class='ee-v'>-5649</span></li></ul></details></li></ul></details></li><li><details><summary>4: \"SR_B6\", float, EPSG:32633, 1448x971 px</summary><ul><li><span class='ee-k'>id:</span><span class='ee-v'>SR_B6</span></li><li><span class='ee-k'>crs:</span><span class='ee-v'>EPSG:32633</span></li><li><details><summary>crs_transform: [30, 0, 401385, 0, 30, 5688915]</summary><ul><li><span class='ee-k'>0:</span><span class='ee-v'>30</span></li><li><span class='ee-k'>1:</span><span class='ee-v'>0</span></li><li><span class='ee-k'>2:</span><span class='ee-v'>401385</span></li><li><span class='ee-k'>3:</span><span class='ee-v'>0</span></li><li><span class='ee-k'>4:</span><span class='ee-v'>30</span></li><li><span class='ee-k'>5:</span><span class='ee-v'>5688915</span></li></ul></details></li><li><details><summary>data_type: float</summary><ul><li><span class='ee-k'>type:</span><span class='ee-v'>PixelType</span></li><li><span class='ee-k'>precision:</span><span class='ee-v'>float</span></li></ul></details></li><li><details><summary>dimensions: [1448, 971]</summary><ul><li><span class='ee-k'>0:</span><span class='ee-v'>1448</span></li><li><span class='ee-k'>1:</span><span class='ee-v'>971</span></li></ul></details></li><li><details><summary>origin: [2503, -5649]</summary><ul><li><span class='ee-k'>0:</span><span class='ee-v'>2503</span></li><li><span class='ee-k'>1:</span><span class='ee-v'>-5649</span></li></ul></details></li></ul></details></li><li><details><summary>5: \"SR_B7\", float, EPSG:32633, 1448x971 px</summary><ul><li><span class='ee-k'>id:</span><span class='ee-v'>SR_B7</span></li><li><span class='ee-k'>crs:</span><span class='ee-v'>EPSG:32633</span></li><li><details><summary>crs_transform: [30, 0, 401385, 0, 30, 5688915]</summary><ul><li><span class='ee-k'>0:</span><span class='ee-v'>30</span></li><li><span class='ee-k'>1:</span><span class='ee-v'>0</span></li><li><span class='ee-k'>2:</span><span class='ee-v'>401385</span></li><li><span class='ee-k'>3:</span><span class='ee-v'>0</span></li><li><span class='ee-k'>4:</span><span class='ee-v'>30</span></li><li><span class='ee-k'>5:</span><span class='ee-v'>5688915</span></li></ul></details></li><li><details><summary>data_type: float</summary><ul><li><span class='ee-k'>type:</span><span class='ee-v'>PixelType</span></li><li><span class='ee-k'>precision:</span><span class='ee-v'>float</span></li></ul></details></li><li><details><summary>dimensions: [1448, 971]</summary><ul><li><span class='ee-k'>0:</span><span class='ee-v'>1448</span></li><li><span class='ee-k'>1:</span><span class='ee-v'>971</span></li></ul></details></li><li><details><summary>origin: [2503, -5649]</summary><ul><li><span class='ee-k'>0:</span><span class='ee-v'>2503</span></li><li><span class='ee-k'>1:</span><span class='ee-v'>-5649</span></li></ul></details></li></ul></details></li><li><details><summary>6: \"SR_B2_1\", float, EPSG:32633, 1448x971 px</summary><ul><li><span class='ee-k'>id:</span><span class='ee-v'>SR_B2_1</span></li><li><span class='ee-k'>crs:</span><span class='ee-v'>EPSG:32633</span></li><li><details><summary>crs_transform: [30, 0, 401385, 0, 30, 5688915]</summary><ul><li><span class='ee-k'>0:</span><span class='ee-v'>30</span></li><li><span class='ee-k'>1:</span><span class='ee-v'>0</span></li><li><span class='ee-k'>2:</span><span class='ee-v'>401385</span></li><li><span class='ee-k'>3:</span><span class='ee-v'>0</span></li><li><span class='ee-k'>4:</span><span class='ee-v'>30</span></li><li><span class='ee-k'>5:</span><span class='ee-v'>5688915</span></li></ul></details></li><li><details><summary>data_type: float</summary><ul><li><span class='ee-k'>type:</span><span class='ee-v'>PixelType</span></li><li><span class='ee-k'>precision:</span><span class='ee-v'>float</span></li></ul></details></li><li><details><summary>dimensions: [1448, 971]</summary><ul><li><span class='ee-k'>0:</span><span class='ee-v'>1448</span></li><li><span class='ee-k'>1:</span><span class='ee-v'>971</span></li></ul></details></li><li><details><summary>origin: [2503, -5649]</summary><ul><li><span class='ee-k'>0:</span><span class='ee-v'>2503</span></li><li><span class='ee-k'>1:</span><span class='ee-v'>-5649</span></li></ul></details></li></ul></details></li><li><details><summary>7: \"SR_B3_1\", float, EPSG:32633, 1448x971 px</summary><ul><li><span class='ee-k'>id:</span><span class='ee-v'>SR_B3_1</span></li><li><span class='ee-k'>crs:</span><span class='ee-v'>EPSG:32633</span></li><li><details><summary>crs_transform: [30, 0, 401385, 0, 30, 5688915]</summary><ul><li><span class='ee-k'>0:</span><span class='ee-v'>30</span></li><li><span class='ee-k'>1:</span><span class='ee-v'>0</span></li><li><span class='ee-k'>2:</span><span class='ee-v'>401385</span></li><li><span class='ee-k'>3:</span><span class='ee-v'>0</span></li><li><span class='ee-k'>4:</span><span class='ee-v'>30</span></li><li><span class='ee-k'>5:</span><span class='ee-v'>5688915</span></li></ul></details></li><li><details><summary>data_type: float</summary><ul><li><span class='ee-k'>type:</span><span class='ee-v'>PixelType</span></li><li><span class='ee-k'>precision:</span><span class='ee-v'>float</span></li></ul></details></li><li><details><summary>dimensions: [1448, 971]</summary><ul><li><span class='ee-k'>0:</span><span class='ee-v'>1448</span></li><li><span class='ee-k'>1:</span><span class='ee-v'>971</span></li></ul></details></li><li><details><summary>origin: [2503, -5649]</summary><ul><li><span class='ee-k'>0:</span><span class='ee-v'>2503</span></li><li><span class='ee-k'>1:</span><span class='ee-v'>-5649</span></li></ul></details></li></ul></details></li><li><details><summary>8: \"SR_B4_1\", float, EPSG:32633, 1448x971 px</summary><ul><li><span class='ee-k'>id:</span><span class='ee-v'>SR_B4_1</span></li><li><span class='ee-k'>crs:</span><span class='ee-v'>EPSG:32633</span></li><li><details><summary>crs_transform: [30, 0, 401385, 0, 30, 5688915]</summary><ul><li><span class='ee-k'>0:</span><span class='ee-v'>30</span></li><li><span class='ee-k'>1:</span><span class='ee-v'>0</span></li><li><span class='ee-k'>2:</span><span class='ee-v'>401385</span></li><li><span class='ee-k'>3:</span><span class='ee-v'>0</span></li><li><span class='ee-k'>4:</span><span class='ee-v'>30</span></li><li><span class='ee-k'>5:</span><span class='ee-v'>5688915</span></li></ul></details></li><li><details><summary>data_type: float</summary><ul><li><span class='ee-k'>type:</span><span class='ee-v'>PixelType</span></li><li><span class='ee-k'>precision:</span><span class='ee-v'>float</span></li></ul></details></li><li><details><summary>dimensions: [1448, 971]</summary><ul><li><span class='ee-k'>0:</span><span class='ee-v'>1448</span></li><li><span class='ee-k'>1:</span><span class='ee-v'>971</span></li></ul></details></li><li><details><summary>origin: [2503, -5649]</summary><ul><li><span class='ee-k'>0:</span><span class='ee-v'>2503</span></li><li><span class='ee-k'>1:</span><span class='ee-v'>-5649</span></li></ul></details></li></ul></details></li><li><details><summary>9: \"SR_B5_1\", float, EPSG:32633, 1448x971 px</summary><ul><li><span class='ee-k'>id:</span><span class='ee-v'>SR_B5_1</span></li><li><span class='ee-k'>crs:</span><span class='ee-v'>EPSG:32633</span></li><li><details><summary>crs_transform: [30, 0, 401385, 0, 30, 5688915]</summary><ul><li><span class='ee-k'>0:</span><span class='ee-v'>30</span></li><li><span class='ee-k'>1:</span><span class='ee-v'>0</span></li><li><span class='ee-k'>2:</span><span class='ee-v'>401385</span></li><li><span class='ee-k'>3:</span><span class='ee-v'>0</span></li><li><span class='ee-k'>4:</span><span class='ee-v'>30</span></li><li><span class='ee-k'>5:</span><span class='ee-v'>5688915</span></li></ul></details></li><li><details><summary>data_type: float</summary><ul><li><span class='ee-k'>type:</span><span class='ee-v'>PixelType</span></li><li><span class='ee-k'>precision:</span><span class='ee-v'>float</span></li></ul></details></li><li><details><summary>dimensions: [1448, 971]</summary><ul><li><span class='ee-k'>0:</span><span class='ee-v'>1448</span></li><li><span class='ee-k'>1:</span><span class='ee-v'>971</span></li></ul></details></li><li><details><summary>origin: [2503, -5649]</summary><ul><li><span class='ee-k'>0:</span><span class='ee-v'>2503</span></li><li><span class='ee-k'>1:</span><span class='ee-v'>-5649</span></li></ul></details></li></ul></details></li><li><details><summary>10: \"SR_B6_1\", float, EPSG:32633, 1448x971 px</summary><ul><li><span class='ee-k'>id:</span><span class='ee-v'>SR_B6_1</span></li><li><span class='ee-k'>crs:</span><span class='ee-v'>EPSG:32633</span></li><li><details><summary>crs_transform: [30, 0, 401385, 0, 30, 5688915]</summary><ul><li><span class='ee-k'>0:</span><span class='ee-v'>30</span></li><li><span class='ee-k'>1:</span><span class='ee-v'>0</span></li><li><span class='ee-k'>2:</span><span class='ee-v'>401385</span></li><li><span class='ee-k'>3:</span><span class='ee-v'>0</span></li><li><span class='ee-k'>4:</span><span class='ee-v'>30</span></li><li><span class='ee-k'>5:</span><span class='ee-v'>5688915</span></li></ul></details></li><li><details><summary>data_type: float</summary><ul><li><span class='ee-k'>type:</span><span class='ee-v'>PixelType</span></li><li><span class='ee-k'>precision:</span><span class='ee-v'>float</span></li></ul></details></li><li><details><summary>dimensions: [1448, 971]</summary><ul><li><span class='ee-k'>0:</span><span class='ee-v'>1448</span></li><li><span class='ee-k'>1:</span><span class='ee-v'>971</span></li></ul></details></li><li><details><summary>origin: [2503, -5649]</summary><ul><li><span class='ee-k'>0:</span><span class='ee-v'>2503</span></li><li><span class='ee-k'>1:</span><span class='ee-v'>-5649</span></li></ul></details></li></ul></details></li><li><details><summary>11: \"SR_B7_1\", float, EPSG:32633, 1448x971 px</summary><ul><li><span class='ee-k'>id:</span><span class='ee-v'>SR_B7_1</span></li><li><span class='ee-k'>crs:</span><span class='ee-v'>EPSG:32633</span></li><li><details><summary>crs_transform: [30, 0, 401385, 0, 30, 5688915]</summary><ul><li><span class='ee-k'>0:</span><span class='ee-v'>30</span></li><li><span class='ee-k'>1:</span><span class='ee-v'>0</span></li><li><span class='ee-k'>2:</span><span class='ee-v'>401385</span></li><li><span class='ee-k'>3:</span><span class='ee-v'>0</span></li><li><span class='ee-k'>4:</span><span class='ee-v'>30</span></li><li><span class='ee-k'>5:</span><span class='ee-v'>5688915</span></li></ul></details></li><li><details><summary>data_type: float</summary><ul><li><span class='ee-k'>type:</span><span class='ee-v'>PixelType</span></li><li><span class='ee-k'>precision:</span><span class='ee-v'>float</span></li></ul></details></li><li><details><summary>dimensions: [1448, 971]</summary><ul><li><span class='ee-k'>0:</span><span class='ee-v'>1448</span></li><li><span class='ee-k'>1:</span><span class='ee-v'>971</span></li></ul></details></li><li><details><summary>origin: [2503, -5649]</summary><ul><li><span class='ee-k'>0:</span><span class='ee-v'>2503</span></li><li><span class='ee-k'>1:</span><span class='ee-v'>-5649</span></li></ul></details></li></ul></details></li><li><details><summary>12: \"iMAD_B2\", float, EPSG:32633, 1448x971 px</summary><ul><li><span class='ee-k'>id:</span><span class='ee-v'>iMAD_B2</span></li><li><span class='ee-k'>crs:</span><span class='ee-v'>EPSG:32633</span></li><li><details><summary>crs_transform: [30, 0, 401385, 0, 30, 5688915]</summary><ul><li><span class='ee-k'>0:</span><span class='ee-v'>30</span></li><li><span class='ee-k'>1:</span><span class='ee-v'>0</span></li><li><span class='ee-k'>2:</span><span class='ee-v'>401385</span></li><li><span class='ee-k'>3:</span><span class='ee-v'>0</span></li><li><span class='ee-k'>4:</span><span class='ee-v'>30</span></li><li><span class='ee-k'>5:</span><span class='ee-v'>5688915</span></li></ul></details></li><li><details><summary>data_type: float</summary><ul><li><span class='ee-k'>type:</span><span class='ee-v'>PixelType</span></li><li><span class='ee-k'>precision:</span><span class='ee-v'>float</span></li></ul></details></li><li><details><summary>dimensions: [1448, 971]</summary><ul><li><span class='ee-k'>0:</span><span class='ee-v'>1448</span></li><li><span class='ee-k'>1:</span><span class='ee-v'>971</span></li></ul></details></li><li><details><summary>origin: [2503, -5649]</summary><ul><li><span class='ee-k'>0:</span><span class='ee-v'>2503</span></li><li><span class='ee-k'>1:</span><span class='ee-v'>-5649</span></li></ul></details></li></ul></details></li><li><details><summary>13: \"iMAD_B3\", float, EPSG:32633, 1448x971 px</summary><ul><li><span class='ee-k'>id:</span><span class='ee-v'>iMAD_B3</span></li><li><span class='ee-k'>crs:</span><span class='ee-v'>EPSG:32633</span></li><li><details><summary>crs_transform: [30, 0, 401385, 0, 30, 5688915]</summary><ul><li><span class='ee-k'>0:</span><span class='ee-v'>30</span></li><li><span class='ee-k'>1:</span><span class='ee-v'>0</span></li><li><span class='ee-k'>2:</span><span class='ee-v'>401385</span></li><li><span class='ee-k'>3:</span><span class='ee-v'>0</span></li><li><span class='ee-k'>4:</span><span class='ee-v'>30</span></li><li><span class='ee-k'>5:</span><span class='ee-v'>5688915</span></li></ul></details></li><li><details><summary>data_type: float</summary><ul><li><span class='ee-k'>type:</span><span class='ee-v'>PixelType</span></li><li><span class='ee-k'>precision:</span><span class='ee-v'>float</span></li></ul></details></li><li><details><summary>dimensions: [1448, 971]</summary><ul><li><span class='ee-k'>0:</span><span class='ee-v'>1448</span></li><li><span class='ee-k'>1:</span><span class='ee-v'>971</span></li></ul></details></li><li><details><summary>origin: [2503, -5649]</summary><ul><li><span class='ee-k'>0:</span><span class='ee-v'>2503</span></li><li><span class='ee-k'>1:</span><span class='ee-v'>-5649</span></li></ul></details></li></ul></details></li><li><details><summary>14: \"iMAD_B4\", float, EPSG:32633, 1448x971 px</summary><ul><li><span class='ee-k'>id:</span><span class='ee-v'>iMAD_B4</span></li><li><span class='ee-k'>crs:</span><span class='ee-v'>EPSG:32633</span></li><li><details><summary>crs_transform: [30, 0, 401385, 0, 30, 5688915]</summary><ul><li><span class='ee-k'>0:</span><span class='ee-v'>30</span></li><li><span class='ee-k'>1:</span><span class='ee-v'>0</span></li><li><span class='ee-k'>2:</span><span class='ee-v'>401385</span></li><li><span class='ee-k'>3:</span><span class='ee-v'>0</span></li><li><span class='ee-k'>4:</span><span class='ee-v'>30</span></li><li><span class='ee-k'>5:</span><span class='ee-v'>5688915</span></li></ul></details></li><li><details><summary>data_type: float</summary><ul><li><span class='ee-k'>type:</span><span class='ee-v'>PixelType</span></li><li><span class='ee-k'>precision:</span><span class='ee-v'>float</span></li></ul></details></li><li><details><summary>dimensions: [1448, 971]</summary><ul><li><span class='ee-k'>0:</span><span class='ee-v'>1448</span></li><li><span class='ee-k'>1:</span><span class='ee-v'>971</span></li></ul></details></li><li><details><summary>origin: [2503, -5649]</summary><ul><li><span class='ee-k'>0:</span><span class='ee-v'>2503</span></li><li><span class='ee-k'>1:</span><span class='ee-v'>-5649</span></li></ul></details></li></ul></details></li><li><details><summary>15: \"iMAD_B5\", float, EPSG:32633, 1448x971 px</summary><ul><li><span class='ee-k'>id:</span><span class='ee-v'>iMAD_B5</span></li><li><span class='ee-k'>crs:</span><span class='ee-v'>EPSG:32633</span></li><li><details><summary>crs_transform: [30, 0, 401385, 0, 30, 5688915]</summary><ul><li><span class='ee-k'>0:</span><span class='ee-v'>30</span></li><li><span class='ee-k'>1:</span><span class='ee-v'>0</span></li><li><span class='ee-k'>2:</span><span class='ee-v'>401385</span></li><li><span class='ee-k'>3:</span><span class='ee-v'>0</span></li><li><span class='ee-k'>4:</span><span class='ee-v'>30</span></li><li><span class='ee-k'>5:</span><span class='ee-v'>5688915</span></li></ul></details></li><li><details><summary>data_type: float</summary><ul><li><span class='ee-k'>type:</span><span class='ee-v'>PixelType</span></li><li><span class='ee-k'>precision:</span><span class='ee-v'>float</span></li></ul></details></li><li><details><summary>dimensions: [1448, 971]</summary><ul><li><span class='ee-k'>0:</span><span class='ee-v'>1448</span></li><li><span class='ee-k'>1:</span><span class='ee-v'>971</span></li></ul></details></li><li><details><summary>origin: [2503, -5649]</summary><ul><li><span class='ee-k'>0:</span><span class='ee-v'>2503</span></li><li><span class='ee-k'>1:</span><span class='ee-v'>-5649</span></li></ul></details></li></ul></details></li><li><details><summary>16: \"iMAD_B6\", float, EPSG:32633, 1448x971 px</summary><ul><li><span class='ee-k'>id:</span><span class='ee-v'>iMAD_B6</span></li><li><span class='ee-k'>crs:</span><span class='ee-v'>EPSG:32633</span></li><li><details><summary>crs_transform: [30, 0, 401385, 0, 30, 5688915]</summary><ul><li><span class='ee-k'>0:</span><span class='ee-v'>30</span></li><li><span class='ee-k'>1:</span><span class='ee-v'>0</span></li><li><span class='ee-k'>2:</span><span class='ee-v'>401385</span></li><li><span class='ee-k'>3:</span><span class='ee-v'>0</span></li><li><span class='ee-k'>4:</span><span class='ee-v'>30</span></li><li><span class='ee-k'>5:</span><span class='ee-v'>5688915</span></li></ul></details></li><li><details><summary>data_type: float</summary><ul><li><span class='ee-k'>type:</span><span class='ee-v'>PixelType</span></li><li><span class='ee-k'>precision:</span><span class='ee-v'>float</span></li></ul></details></li><li><details><summary>dimensions: [1448, 971]</summary><ul><li><span class='ee-k'>0:</span><span class='ee-v'>1448</span></li><li><span class='ee-k'>1:</span><span class='ee-v'>971</span></li></ul></details></li><li><details><summary>origin: [2503, -5649]</summary><ul><li><span class='ee-k'>0:</span><span class='ee-v'>2503</span></li><li><span class='ee-k'>1:</span><span class='ee-v'>-5649</span></li></ul></details></li></ul></details></li><li><details><summary>17: \"iMAD_B7\", float, EPSG:32633, 1448x971 px</summary><ul><li><span class='ee-k'>id:</span><span class='ee-v'>iMAD_B7</span></li><li><span class='ee-k'>crs:</span><span class='ee-v'>EPSG:32633</span></li><li><details><summary>crs_transform: [30, 0, 401385, 0, 30, 5688915]</summary><ul><li><span class='ee-k'>0:</span><span class='ee-v'>30</span></li><li><span class='ee-k'>1:</span><span class='ee-v'>0</span></li><li><span class='ee-k'>2:</span><span class='ee-v'>401385</span></li><li><span class='ee-k'>3:</span><span class='ee-v'>0</span></li><li><span class='ee-k'>4:</span><span class='ee-v'>30</span></li><li><span class='ee-k'>5:</span><span class='ee-v'>5688915</span></li></ul></details></li><li><details><summary>data_type: float</summary><ul><li><span class='ee-k'>type:</span><span class='ee-v'>PixelType</span></li><li><span class='ee-k'>precision:</span><span class='ee-v'>float</span></li></ul></details></li><li><details><summary>dimensions: [1448, 971]</summary><ul><li><span class='ee-k'>0:</span><span class='ee-v'>1448</span></li><li><span class='ee-k'>1:</span><span class='ee-v'>971</span></li></ul></details></li><li><details><summary>origin: [2503, -5649]</summary><ul><li><span class='ee-k'>0:</span><span class='ee-v'>2503</span></li><li><span class='ee-k'>1:</span><span class='ee-v'>-5649</span></li></ul></details></li></ul></details></li><li><details><summary>18: \"pval\", float, EPSG:32633, 1448x971 px</summary><ul><li><span class='ee-k'>id:</span><span class='ee-v'>pval</span></li><li><span class='ee-k'>crs:</span><span class='ee-v'>EPSG:32633</span></li><li><details><summary>crs_transform: [30, 0, 401385, 0, 30, 5688915]</summary><ul><li><span class='ee-k'>0:</span><span class='ee-v'>30</span></li><li><span class='ee-k'>1:</span><span class='ee-v'>0</span></li><li><span class='ee-k'>2:</span><span class='ee-v'>401385</span></li><li><span class='ee-k'>3:</span><span class='ee-v'>0</span></li><li><span class='ee-k'>4:</span><span class='ee-v'>30</span></li><li><span class='ee-k'>5:</span><span class='ee-v'>5688915</span></li></ul></details></li><li><details><summary>data_type: float</summary><ul><li><span class='ee-k'>type:</span><span class='ee-v'>PixelType</span></li><li><span class='ee-k'>precision:</span><span class='ee-v'>float</span></li></ul></details></li><li><details><summary>dimensions: [1448, 971]</summary><ul><li><span class='ee-k'>0:</span><span class='ee-v'>1448</span></li><li><span class='ee-k'>1:</span><span class='ee-v'>971</span></li></ul></details></li><li><details><summary>origin: [2503, -5649]</summary><ul><li><span class='ee-k'>0:</span><span class='ee-v'>2503</span></li><li><span class='ee-k'>1:</span><span class='ee-v'>-5649</span></li></ul></details></li></ul></details></li><li><details><summary>19: \"elevation\", float, EPSG:32633, 1449x972 px</summary><ul><li><span class='ee-k'>id:</span><span class='ee-v'>elevation</span></li><li><span class='ee-k'>crs:</span><span class='ee-v'>EPSG:32633</span></li><li><details><summary>crs_transform: [30, 0, 401385, 0, 30, 5688915]</summary><ul><li><span class='ee-k'>0:</span><span class='ee-v'>30</span></li><li><span class='ee-k'>1:</span><span class='ee-v'>0</span></li><li><span class='ee-k'>2:</span><span class='ee-v'>401385</span></li><li><span class='ee-k'>3:</span><span class='ee-v'>0</span></li><li><span class='ee-k'>4:</span><span class='ee-v'>30</span></li><li><span class='ee-k'>5:</span><span class='ee-v'>5688915</span></li></ul></details></li><li><details><summary>data_type: float</summary><ul><li><span class='ee-k'>type:</span><span class='ee-v'>PixelType</span></li><li><span class='ee-k'>precision:</span><span class='ee-v'>float</span></li></ul></details></li><li><details><summary>dimensions: [1449, 972]</summary><ul><li><span class='ee-k'>0:</span><span class='ee-v'>1449</span></li><li><span class='ee-k'>1:</span><span class='ee-v'>972</span></li></ul></details></li><li><details><summary>origin: [2503, -5650]</summary><ul><li><span class='ee-k'>0:</span><span class='ee-v'>2503</span></li><li><span class='ee-k'>1:</span><span class='ee-v'>-5650</span></li></ul></details></li></ul></details></li><li><details><summary>20: \"slope\", float, EPSG:32633, 1449x972 px</summary><ul><li><span class='ee-k'>id:</span><span class='ee-v'>slope</span></li><li><span class='ee-k'>crs:</span><span class='ee-v'>EPSG:32633</span></li><li><details><summary>crs_transform: [30, 0, 401385, 0, 30, 5688915]</summary><ul><li><span class='ee-k'>0:</span><span class='ee-v'>30</span></li><li><span class='ee-k'>1:</span><span class='ee-v'>0</span></li><li><span class='ee-k'>2:</span><span class='ee-v'>401385</span></li><li><span class='ee-k'>3:</span><span class='ee-v'>0</span></li><li><span class='ee-k'>4:</span><span class='ee-v'>30</span></li><li><span class='ee-k'>5:</span><span class='ee-v'>5688915</span></li></ul></details></li><li><details><summary>data_type: float</summary><ul><li><span class='ee-k'>type:</span><span class='ee-v'>PixelType</span></li><li><span class='ee-k'>precision:</span><span class='ee-v'>float</span></li></ul></details></li><li><details><summary>dimensions: [1449, 972]</summary><ul><li><span class='ee-k'>0:</span><span class='ee-v'>1449</span></li><li><span class='ee-k'>1:</span><span class='ee-v'>972</span></li></ul></details></li><li><details><summary>origin: [2503, -5650]</summary><ul><li><span class='ee-k'>0:</span><span class='ee-v'>2503</span></li><li><span class='ee-k'>1:</span><span class='ee-v'>-5650</span></li></ul></details></li></ul></details></li><li><details><summary>21: \"aspect\", float, EPSG:32633, 1449x972 px</summary><ul><li><span class='ee-k'>id:</span><span class='ee-v'>aspect</span></li><li><span class='ee-k'>crs:</span><span class='ee-v'>EPSG:32633</span></li><li><details><summary>crs_transform: [30, 0, 401385, 0, 30, 5688915]</summary><ul><li><span class='ee-k'>0:</span><span class='ee-v'>30</span></li><li><span class='ee-k'>1:</span><span class='ee-v'>0</span></li><li><span class='ee-k'>2:</span><span class='ee-v'>401385</span></li><li><span class='ee-k'>3:</span><span class='ee-v'>0</span></li><li><span class='ee-k'>4:</span><span class='ee-v'>30</span></li><li><span class='ee-k'>5:</span><span class='ee-v'>5688915</span></li></ul></details></li><li><details><summary>data_type: float</summary><ul><li><span class='ee-k'>type:</span><span class='ee-v'>PixelType</span></li><li><span class='ee-k'>precision:</span><span class='ee-v'>float</span></li></ul></details></li><li><details><summary>dimensions: [1449, 972]</summary><ul><li><span class='ee-k'>0:</span><span class='ee-v'>1449</span></li><li><span class='ee-k'>1:</span><span class='ee-v'>972</span></li></ul></details></li><li><details><summary>origin: [2503, -5650]</summary><ul><li><span class='ee-k'>0:</span><span class='ee-v'>2503</span></li><li><span class='ee-k'>1:</span><span class='ee-v'>-5650</span></li></ul></details></li></ul></details></li></ul></details></li><li><details><summary>properties: Object (1 property)</summary><ul><li><details><summary>system:footprint: Polygon (5 vertices)</summary><ul><li><span class='ee-k'>type:</span><span class='ee-v'>Polygon</span></li><li><details><summary>coordinates: List (1 element)</summary><ul><li><details><summary>0: List (5 elements)</summary><ul><li><details><summary>0: [14.673153981451712, 49.82721862997025]</summary><ul><li><span class='ee-k'>0:</span><span class='ee-v'>14.673153981451712</span></li><li><span class='ee-k'>1:</span><span class='ee-v'>49.82721862997025</span></li></ul></details></li><li><details><summary>1: [15.2767153828189, 49.82721862997025]</summary><ul><li><span class='ee-k'>0:</span><span class='ee-v'>15.2767153828189</span></li><li><span class='ee-k'>1:</span><span class='ee-v'>49.82721862997025</span></li></ul></details></li><li><details><summary>2: [15.2767153828189, 50.08873547414839]</summary><ul><li><span class='ee-k'>0:</span><span class='ee-v'>15.2767153828189</span></li><li><span class='ee-k'>1:</span><span class='ee-v'>50.08873547414839</span></li></ul></details></li><li><details><summary>3: [14.673153981451712, 50.08873547414839]</summary><ul><li><span class='ee-k'>0:</span><span class='ee-v'>14.673153981451712</span></li><li><span class='ee-k'>1:</span><span class='ee-v'>50.08873547414839</span></li></ul></details></li><li><details><summary>4: [14.673153981451712, 49.82721862997025]</summary><ul><li><span class='ee-k'>0:</span><span class='ee-v'>14.673153981451712</span></li><li><span class='ee-k'>1:</span><span class='ee-v'>49.82721862997025</span></li></ul></details></li></ul></details></li></ul></details></li></ul></details></li></ul></details></li></ul></details></li></ul></div></div>"
      ],
      "text/plain": [
       "<ee.image.Image at 0x2c3b5a256a0>"
      ]
     },
     "execution_count": 16,
     "metadata": {},
     "output_type": "execute_result"
    }
   ],
   "source": [
    "# import srtm \n",
    "srtm = ee.Image('USGS/SRTMGL1_003').clip(aoi) # SRTM DEM\n",
    "\n",
    "# reproject to the same projection as the reference image\n",
    "srtm_repr = srtm.reproject(crs=reference.projection(), scale=reference.projection().nominalScale())\n",
    "srtm_repr = srtm_repr.clip(aoi)\n",
    "crs_info_srtm = srtm_repr.projection().getInfo()\n",
    "print(f'Check SRTM reference system: {crs_info_srtm == crs_info_nc}')\n",
    "\n",
    "# Create slope and aspect from SRTM data\n",
    "slope = ee.Terrain.slope(srtm_repr).clip(aoi) # slope\n",
    "aspect = ee.Terrain.aspect(srtm_repr).clip(aoi) # aspect\n",
    "crs_info_slope = slope.projection().getInfo()\n",
    "print(f'Check SRTM derivates reference system: {crs_info_slope == crs_info_srtm}') # check if the projections are the same, if TRUE, crs of aspect is the same as well\n",
    "\n",
    "all_bands = ee.Image.cat(reference_new.clip(aoi), target.clip(aoi), im_norm_cliped.clip(aoi), noChangeMask.clip(aoi))\n",
    "all_bands_srtm = all_bands.addBands(srtm_repr).addBands(slope).addBands(aspect)\n",
    "all_bands_reproj = all_bands_srtm.reproject(crs=reference.projection(), scale=reference.projection().nominalScale())\n",
    "all_bands_fl = all_bands_reproj.toFloat().setDefaultProjection(crs=reference.projection())\n",
    "all_bands_fl.clip(aoi)\n",
    "all_bands_fl"
   ]
  },
  {
   "cell_type": "code",
   "execution_count": 17,
   "id": "db2ee9f5",
   "metadata": {},
   "outputs": [
    {
     "data": {
      "text/html": [
       "\n",
       "            <style>\n",
       "                .geemap-dark {\n",
       "                    --jp-widgets-color: white;\n",
       "                    --jp-widgets-label-color: white;\n",
       "                    --jp-ui-font-color1: white;\n",
       "                    --jp-layout-color2: #454545;\n",
       "                    background-color: #383838;\n",
       "                }\n",
       "\n",
       "                .geemap-dark .jupyter-button {\n",
       "                    --jp-layout-color3: #383838;\n",
       "                }\n",
       "\n",
       "                .geemap-colab {\n",
       "                    background-color: var(--colab-primary-surface-color, white);\n",
       "                }\n",
       "\n",
       "                .geemap-colab .jupyter-button {\n",
       "                    --jp-layout-color3: var(--colab-primary-surface-color, white);\n",
       "                }\n",
       "            </style>\n",
       "            "
      ],
      "text/plain": [
       "<IPython.core.display.HTML object>"
      ]
     },
     "metadata": {},
     "output_type": "display_data"
    },
    {
     "data": {
      "application/vnd.jupyter.widget-view+json": {
       "model_id": "2c38f77c5312400889b796de7b502005",
       "version_major": 2,
       "version_minor": 0
      },
      "text/plain": [
       "Map(bottom=178204.0, center=[49.95825012032068, 14.974934682135093], controls=(WidgetControl(options=['positio…"
      ]
     },
     "metadata": {},
     "output_type": "display_data"
    }
   ],
   "source": [
    "vis_params_l9 = {\n",
    "    'bands': ['SR_B4', 'SR_B3', 'SR_B2'],  # R-G-B\n",
    "    'min':   0,\n",
    "    'max':   0.2,\n",
    "    'gamma': 0.9\n",
    "}\n",
    "vis_params_l5 = {\n",
    "    'bands': ['SR_B4_1', 'SR_B3_1', 'SR_B2_1'],  # R-G-B\n",
    "    'min':   0,\n",
    "    'max':   0.2,\n",
    "    'gamma': 0.9\n",
    "}\n",
    "vis_params_imad = {\n",
    "    'bands': ['iMAD_B4', 'iMAD_B3', 'iMAD_B2'],  # R-G-B\n",
    "    'min':   0,\n",
    "    'max':   0.2,\n",
    "    'gamma': 0.9\n",
    "}\n",
    "\n",
    "M1.addLayer(all_bands_fl, vis_params_l9, 'Landsat 9 – RGB')\n",
    "M1.addLayer(all_bands_fl, vis_params_l5, 'Landsat 5 – RGB')\n",
    "M1.addLayer(all_bands_fl, vis_params_imad, 'irmad – RGB')\n",
    "M1 # GRAY pixels are no-change pixels"
   ]
  },
  {
   "cell_type": "code",
   "execution_count": null,
   "id": "82646fde",
   "metadata": {},
   "outputs": [
    {
     "data": {
      "text/html": [
       "\n",
       "            <style>\n",
       "                .geemap-dark {\n",
       "                    --jp-widgets-color: white;\n",
       "                    --jp-widgets-label-color: white;\n",
       "                    --jp-ui-font-color1: white;\n",
       "                    --jp-layout-color2: #454545;\n",
       "                    background-color: #383838;\n",
       "                }\n",
       "\n",
       "                .geemap-dark .jupyter-button {\n",
       "                    --jp-layout-color3: #383838;\n",
       "                }\n",
       "\n",
       "                .geemap-colab {\n",
       "                    background-color: var(--colab-primary-surface-color, white);\n",
       "                }\n",
       "\n",
       "                .geemap-colab .jupyter-button {\n",
       "                    --jp-layout-color3: var(--colab-primary-surface-color, white);\n",
       "                }\n",
       "            </style>\n",
       "            "
      ],
      "text/plain": [
       "<IPython.core.display.HTML object>"
      ]
     },
     "metadata": {},
     "output_type": "display_data"
    },
    {
     "name": "stdout",
     "output_type": "stream",
     "text": [
      "Exporting iMAD to Google Drive\n",
      " task id: YLEIULRDAUIPMJFVMIM56PNU\n"
     ]
    }
   ],
   "source": [
    "# Export to Google Drive\n",
    "driveexport = ee.batch.Export.image.toDrive(all_bands_fl,\n",
    "                        description='IMAD_10_rescaled',\n",
    "                        folder='EngineExports',\n",
    "                        region=aoi,\n",
    "                        crs='EPSG:32633',\n",
    "                        fileNamePrefix='imad10Itnew_SWIR_rescaled',\n",
    "                        fileFormat='GeoTIFF',\n",
    "                        scale=30, maxPixels=1e12)\n",
    "driveexport.start()\n",
    "print('Exporting iMAD to Google Drive\\n task id: %s'%str(driveexport.id))"
   ]
  }
 ],
 "metadata": {
  "kernelspec": {
   "display_name": "base",
   "language": "python",
   "name": "python3"
  },
  "language_info": {
   "codemirror_mode": {
    "name": "ipython",
    "version": 3
   },
   "file_extension": ".py",
   "mimetype": "text/x-python",
   "name": "python",
   "nbconvert_exporter": "python",
   "pygments_lexer": "ipython3",
   "version": "3.12.3"
  }
 },
 "nbformat": 4,
 "nbformat_minor": 5
}
